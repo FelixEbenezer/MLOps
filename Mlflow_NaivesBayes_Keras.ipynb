{
  "cells": [
    {
      "cell_type": "markdown",
      "metadata": {
        "id": "view-in-github",
        "colab_type": "text"
      },
      "source": [
        "<a href=\"https://colab.research.google.com/github/FelixEbenezer/MLOps/blob/main/Mlflow_NaivesBayes_Keras.ipynb\" target=\"_parent\"><img src=\"https://colab.research.google.com/assets/colab-badge.svg\" alt=\"Open In Colab\"/></a>"
      ]
    },
    {
      "cell_type": "code",
      "source": [
        "!pip install mlflow"
      ],
      "metadata": {
        "id": "qPF7noXCrx92"
      },
      "execution_count": null,
      "outputs": []
    },
    {
      "cell_type": "code",
      "execution_count": 2,
      "metadata": {
        "id": "Nlc0TEqLXQ4_"
      },
      "outputs": [],
      "source": [
        "import pandas as pd\n",
        "from sklearn.model_selection import train_test_split\n",
        "from sklearn.naive_bayes import GaussianNB\n",
        "from sklearn.metrics import *\n",
        "import matplotlib.pyplot as plt\n",
        "\n",
        "import mlflow\n",
        "import mlflow.sklearn"
      ]
    },
    {
      "cell_type": "code",
      "execution_count": 3,
      "metadata": {
        "colab": {
          "base_uri": "https://localhost:8080/"
        },
        "id": "RsUEq711XQ5F",
        "outputId": "a6d5decb-1a17-41aa-ed7c-8e5701a9486f"
      },
      "outputs": [
        {
          "output_type": "execute_result",
          "data": {
            "text/plain": [
              "(1000, 21)"
            ]
          },
          "metadata": {},
          "execution_count": 3
        }
      ],
      "source": [
        "credito = pd.read_csv('/content/Credit.csv')\n",
        "credito.shape"
      ]
    },
    {
      "cell_type": "code",
      "execution_count": null,
      "metadata": {
        "colab": {
          "base_uri": "https://localhost:8080/",
          "height": 369
        },
        "id": "CAv-O380XQ5H",
        "outputId": "a3c3171d-48b3-4e0d-c88e-5811b5571285"
      },
      "outputs": [
        {
          "output_type": "execute_result",
          "data": {
            "text/plain": [
              "  checking_status  duration                    credit_history  \\\n",
              "0              <0         6  'critical/other existing credit'   \n",
              "1        0<=X<200        48                   'existing paid'   \n",
              "2   'no checking'        12  'critical/other existing credit'   \n",
              "3              <0        42                   'existing paid'   \n",
              "4              <0        24              'delayed previously'   \n",
              "\n",
              "               purpose  credit_amount      savings_status employment  \\\n",
              "0             radio/tv           1169  'no known savings'        >=7   \n",
              "1             radio/tv           5951                <100     1<=X<4   \n",
              "2            education           2096                <100     4<=X<7   \n",
              "3  furniture/equipment           7882                <100     4<=X<7   \n",
              "4            'new car'           4870                <100     1<=X<4   \n",
              "\n",
              "   installment_commitment       personal_status other_parties  ...  \\\n",
              "0                       4         'male single'          none  ...   \n",
              "1                       2  'female div/dep/mar'          none  ...   \n",
              "2                       2         'male single'          none  ...   \n",
              "3                       2         'male single'     guarantor  ...   \n",
              "4                       3         'male single'          none  ...   \n",
              "\n",
              "    property_magnitude age  other_payment_plans     housing existing_credits  \\\n",
              "0        'real estate'  67                 none         own                2   \n",
              "1        'real estate'  22                 none         own                1   \n",
              "2        'real estate'  49                 none         own                1   \n",
              "3     'life insurance'  45                 none  'for free'                1   \n",
              "4  'no known property'  53                 none  'for free'                2   \n",
              "\n",
              "                    job num_dependents  own_telephone foreign_worker class  \n",
              "0               skilled              1            yes            yes  good  \n",
              "1               skilled              1           none            yes   bad  \n",
              "2  'unskilled resident'              2           none            yes  good  \n",
              "3               skilled              2           none            yes  good  \n",
              "4               skilled              2           none            yes   bad  \n",
              "\n",
              "[5 rows x 21 columns]"
            ],
            "text/html": [
              "\n",
              "  <div id=\"df-e66e3f0a-6cbb-445a-b99e-69ac9ae2385d\">\n",
              "    <div class=\"colab-df-container\">\n",
              "      <div>\n",
              "<style scoped>\n",
              "    .dataframe tbody tr th:only-of-type {\n",
              "        vertical-align: middle;\n",
              "    }\n",
              "\n",
              "    .dataframe tbody tr th {\n",
              "        vertical-align: top;\n",
              "    }\n",
              "\n",
              "    .dataframe thead th {\n",
              "        text-align: right;\n",
              "    }\n",
              "</style>\n",
              "<table border=\"1\" class=\"dataframe\">\n",
              "  <thead>\n",
              "    <tr style=\"text-align: right;\">\n",
              "      <th></th>\n",
              "      <th>checking_status</th>\n",
              "      <th>duration</th>\n",
              "      <th>credit_history</th>\n",
              "      <th>purpose</th>\n",
              "      <th>credit_amount</th>\n",
              "      <th>savings_status</th>\n",
              "      <th>employment</th>\n",
              "      <th>installment_commitment</th>\n",
              "      <th>personal_status</th>\n",
              "      <th>other_parties</th>\n",
              "      <th>...</th>\n",
              "      <th>property_magnitude</th>\n",
              "      <th>age</th>\n",
              "      <th>other_payment_plans</th>\n",
              "      <th>housing</th>\n",
              "      <th>existing_credits</th>\n",
              "      <th>job</th>\n",
              "      <th>num_dependents</th>\n",
              "      <th>own_telephone</th>\n",
              "      <th>foreign_worker</th>\n",
              "      <th>class</th>\n",
              "    </tr>\n",
              "  </thead>\n",
              "  <tbody>\n",
              "    <tr>\n",
              "      <th>0</th>\n",
              "      <td>&lt;0</td>\n",
              "      <td>6</td>\n",
              "      <td>'critical/other existing credit'</td>\n",
              "      <td>radio/tv</td>\n",
              "      <td>1169</td>\n",
              "      <td>'no known savings'</td>\n",
              "      <td>&gt;=7</td>\n",
              "      <td>4</td>\n",
              "      <td>'male single'</td>\n",
              "      <td>none</td>\n",
              "      <td>...</td>\n",
              "      <td>'real estate'</td>\n",
              "      <td>67</td>\n",
              "      <td>none</td>\n",
              "      <td>own</td>\n",
              "      <td>2</td>\n",
              "      <td>skilled</td>\n",
              "      <td>1</td>\n",
              "      <td>yes</td>\n",
              "      <td>yes</td>\n",
              "      <td>good</td>\n",
              "    </tr>\n",
              "    <tr>\n",
              "      <th>1</th>\n",
              "      <td>0&lt;=X&lt;200</td>\n",
              "      <td>48</td>\n",
              "      <td>'existing paid'</td>\n",
              "      <td>radio/tv</td>\n",
              "      <td>5951</td>\n",
              "      <td>&lt;100</td>\n",
              "      <td>1&lt;=X&lt;4</td>\n",
              "      <td>2</td>\n",
              "      <td>'female div/dep/mar'</td>\n",
              "      <td>none</td>\n",
              "      <td>...</td>\n",
              "      <td>'real estate'</td>\n",
              "      <td>22</td>\n",
              "      <td>none</td>\n",
              "      <td>own</td>\n",
              "      <td>1</td>\n",
              "      <td>skilled</td>\n",
              "      <td>1</td>\n",
              "      <td>none</td>\n",
              "      <td>yes</td>\n",
              "      <td>bad</td>\n",
              "    </tr>\n",
              "    <tr>\n",
              "      <th>2</th>\n",
              "      <td>'no checking'</td>\n",
              "      <td>12</td>\n",
              "      <td>'critical/other existing credit'</td>\n",
              "      <td>education</td>\n",
              "      <td>2096</td>\n",
              "      <td>&lt;100</td>\n",
              "      <td>4&lt;=X&lt;7</td>\n",
              "      <td>2</td>\n",
              "      <td>'male single'</td>\n",
              "      <td>none</td>\n",
              "      <td>...</td>\n",
              "      <td>'real estate'</td>\n",
              "      <td>49</td>\n",
              "      <td>none</td>\n",
              "      <td>own</td>\n",
              "      <td>1</td>\n",
              "      <td>'unskilled resident'</td>\n",
              "      <td>2</td>\n",
              "      <td>none</td>\n",
              "      <td>yes</td>\n",
              "      <td>good</td>\n",
              "    </tr>\n",
              "    <tr>\n",
              "      <th>3</th>\n",
              "      <td>&lt;0</td>\n",
              "      <td>42</td>\n",
              "      <td>'existing paid'</td>\n",
              "      <td>furniture/equipment</td>\n",
              "      <td>7882</td>\n",
              "      <td>&lt;100</td>\n",
              "      <td>4&lt;=X&lt;7</td>\n",
              "      <td>2</td>\n",
              "      <td>'male single'</td>\n",
              "      <td>guarantor</td>\n",
              "      <td>...</td>\n",
              "      <td>'life insurance'</td>\n",
              "      <td>45</td>\n",
              "      <td>none</td>\n",
              "      <td>'for free'</td>\n",
              "      <td>1</td>\n",
              "      <td>skilled</td>\n",
              "      <td>2</td>\n",
              "      <td>none</td>\n",
              "      <td>yes</td>\n",
              "      <td>good</td>\n",
              "    </tr>\n",
              "    <tr>\n",
              "      <th>4</th>\n",
              "      <td>&lt;0</td>\n",
              "      <td>24</td>\n",
              "      <td>'delayed previously'</td>\n",
              "      <td>'new car'</td>\n",
              "      <td>4870</td>\n",
              "      <td>&lt;100</td>\n",
              "      <td>1&lt;=X&lt;4</td>\n",
              "      <td>3</td>\n",
              "      <td>'male single'</td>\n",
              "      <td>none</td>\n",
              "      <td>...</td>\n",
              "      <td>'no known property'</td>\n",
              "      <td>53</td>\n",
              "      <td>none</td>\n",
              "      <td>'for free'</td>\n",
              "      <td>2</td>\n",
              "      <td>skilled</td>\n",
              "      <td>2</td>\n",
              "      <td>none</td>\n",
              "      <td>yes</td>\n",
              "      <td>bad</td>\n",
              "    </tr>\n",
              "  </tbody>\n",
              "</table>\n",
              "<p>5 rows × 21 columns</p>\n",
              "</div>\n",
              "      <button class=\"colab-df-convert\" onclick=\"convertToInteractive('df-e66e3f0a-6cbb-445a-b99e-69ac9ae2385d')\"\n",
              "              title=\"Convert this dataframe to an interactive table.\"\n",
              "              style=\"display:none;\">\n",
              "        \n",
              "  <svg xmlns=\"http://www.w3.org/2000/svg\" height=\"24px\"viewBox=\"0 0 24 24\"\n",
              "       width=\"24px\">\n",
              "    <path d=\"M0 0h24v24H0V0z\" fill=\"none\"/>\n",
              "    <path d=\"M18.56 5.44l.94 2.06.94-2.06 2.06-.94-2.06-.94-.94-2.06-.94 2.06-2.06.94zm-11 1L8.5 8.5l.94-2.06 2.06-.94-2.06-.94L8.5 2.5l-.94 2.06-2.06.94zm10 10l.94 2.06.94-2.06 2.06-.94-2.06-.94-.94-2.06-.94 2.06-2.06.94z\"/><path d=\"M17.41 7.96l-1.37-1.37c-.4-.4-.92-.59-1.43-.59-.52 0-1.04.2-1.43.59L10.3 9.45l-7.72 7.72c-.78.78-.78 2.05 0 2.83L4 21.41c.39.39.9.59 1.41.59.51 0 1.02-.2 1.41-.59l7.78-7.78 2.81-2.81c.8-.78.8-2.07 0-2.86zM5.41 20L4 18.59l7.72-7.72 1.47 1.35L5.41 20z\"/>\n",
              "  </svg>\n",
              "      </button>\n",
              "      \n",
              "  <style>\n",
              "    .colab-df-container {\n",
              "      display:flex;\n",
              "      flex-wrap:wrap;\n",
              "      gap: 12px;\n",
              "    }\n",
              "\n",
              "    .colab-df-convert {\n",
              "      background-color: #E8F0FE;\n",
              "      border: none;\n",
              "      border-radius: 50%;\n",
              "      cursor: pointer;\n",
              "      display: none;\n",
              "      fill: #1967D2;\n",
              "      height: 32px;\n",
              "      padding: 0 0 0 0;\n",
              "      width: 32px;\n",
              "    }\n",
              "\n",
              "    .colab-df-convert:hover {\n",
              "      background-color: #E2EBFA;\n",
              "      box-shadow: 0px 1px 2px rgba(60, 64, 67, 0.3), 0px 1px 3px 1px rgba(60, 64, 67, 0.15);\n",
              "      fill: #174EA6;\n",
              "    }\n",
              "\n",
              "    [theme=dark] .colab-df-convert {\n",
              "      background-color: #3B4455;\n",
              "      fill: #D2E3FC;\n",
              "    }\n",
              "\n",
              "    [theme=dark] .colab-df-convert:hover {\n",
              "      background-color: #434B5C;\n",
              "      box-shadow: 0px 1px 3px 1px rgba(0, 0, 0, 0.15);\n",
              "      filter: drop-shadow(0px 1px 2px rgba(0, 0, 0, 0.3));\n",
              "      fill: #FFFFFF;\n",
              "    }\n",
              "  </style>\n",
              "\n",
              "      <script>\n",
              "        const buttonEl =\n",
              "          document.querySelector('#df-e66e3f0a-6cbb-445a-b99e-69ac9ae2385d button.colab-df-convert');\n",
              "        buttonEl.style.display =\n",
              "          google.colab.kernel.accessAllowed ? 'block' : 'none';\n",
              "\n",
              "        async function convertToInteractive(key) {\n",
              "          const element = document.querySelector('#df-e66e3f0a-6cbb-445a-b99e-69ac9ae2385d');\n",
              "          const dataTable =\n",
              "            await google.colab.kernel.invokeFunction('convertToInteractive',\n",
              "                                                     [key], {});\n",
              "          if (!dataTable) return;\n",
              "\n",
              "          const docLinkHtml = 'Like what you see? Visit the ' +\n",
              "            '<a target=\"_blank\" href=https://colab.research.google.com/notebooks/data_table.ipynb>data table notebook</a>'\n",
              "            + ' to learn more about interactive tables.';\n",
              "          element.innerHTML = '';\n",
              "          dataTable['output_type'] = 'display_data';\n",
              "          await google.colab.output.renderOutput(dataTable, element);\n",
              "          const docLink = document.createElement('div');\n",
              "          docLink.innerHTML = docLinkHtml;\n",
              "          element.appendChild(docLink);\n",
              "        }\n",
              "      </script>\n",
              "    </div>\n",
              "  </div>\n",
              "  "
            ]
          },
          "metadata": {},
          "execution_count": 4
        }
      ],
      "source": [
        "credito.head()"
      ]
    },
    {
      "cell_type": "code",
      "execution_count": 4,
      "metadata": {
        "id": "O6YfOHhLXQ5I"
      },
      "outputs": [],
      "source": [
        "for col in credito.columns:\n",
        "    if credito[col].dtype == 'object':\n",
        "        credito[col] = credito[col].astype('category').cat.codes"
      ]
    },
    {
      "cell_type": "code",
      "execution_count": 5,
      "metadata": {
        "colab": {
          "base_uri": "https://localhost:8080/",
          "height": 300
        },
        "id": "IoMeglr3XQ5J",
        "outputId": "921156f8-be40-41ef-dfe6-e0432a974fa8"
      },
      "outputs": [
        {
          "output_type": "execute_result",
          "data": {
            "text/plain": [
              "   checking_status  duration  credit_history  purpose  credit_amount  \\\n",
              "0                2         6               1        7           1169   \n",
              "1                1        48               3        7           5951   \n",
              "2                0        12               1        4           2096   \n",
              "3                2        42               3        5           7882   \n",
              "4                2        24               2        1           4870   \n",
              "\n",
              "   savings_status  employment  installment_commitment  personal_status  \\\n",
              "0               0           3                       4                3   \n",
              "1               3           0                       2                0   \n",
              "2               3           1                       2                3   \n",
              "3               3           1                       2                3   \n",
              "4               3           0                       3                3   \n",
              "\n",
              "   other_parties  ...  property_magnitude  age  other_payment_plans  housing  \\\n",
              "0              2  ...                   2   67                    1        1   \n",
              "1              2  ...                   2   22                    1        1   \n",
              "2              2  ...                   2   49                    1        1   \n",
              "3              1  ...                   0   45                    1        0   \n",
              "4              2  ...                   1   53                    1        0   \n",
              "\n",
              "   existing_credits  job  num_dependents  own_telephone  foreign_worker  class  \n",
              "0                 2    3               1              1               1      1  \n",
              "1                 1    3               1              0               1      0  \n",
              "2                 1    2               2              0               1      1  \n",
              "3                 1    3               2              0               1      1  \n",
              "4                 2    3               2              0               1      0  \n",
              "\n",
              "[5 rows x 21 columns]"
            ],
            "text/html": [
              "\n",
              "  <div id=\"df-a9816076-ff33-4d0b-906e-e57055254c8f\">\n",
              "    <div class=\"colab-df-container\">\n",
              "      <div>\n",
              "<style scoped>\n",
              "    .dataframe tbody tr th:only-of-type {\n",
              "        vertical-align: middle;\n",
              "    }\n",
              "\n",
              "    .dataframe tbody tr th {\n",
              "        vertical-align: top;\n",
              "    }\n",
              "\n",
              "    .dataframe thead th {\n",
              "        text-align: right;\n",
              "    }\n",
              "</style>\n",
              "<table border=\"1\" class=\"dataframe\">\n",
              "  <thead>\n",
              "    <tr style=\"text-align: right;\">\n",
              "      <th></th>\n",
              "      <th>checking_status</th>\n",
              "      <th>duration</th>\n",
              "      <th>credit_history</th>\n",
              "      <th>purpose</th>\n",
              "      <th>credit_amount</th>\n",
              "      <th>savings_status</th>\n",
              "      <th>employment</th>\n",
              "      <th>installment_commitment</th>\n",
              "      <th>personal_status</th>\n",
              "      <th>other_parties</th>\n",
              "      <th>...</th>\n",
              "      <th>property_magnitude</th>\n",
              "      <th>age</th>\n",
              "      <th>other_payment_plans</th>\n",
              "      <th>housing</th>\n",
              "      <th>existing_credits</th>\n",
              "      <th>job</th>\n",
              "      <th>num_dependents</th>\n",
              "      <th>own_telephone</th>\n",
              "      <th>foreign_worker</th>\n",
              "      <th>class</th>\n",
              "    </tr>\n",
              "  </thead>\n",
              "  <tbody>\n",
              "    <tr>\n",
              "      <th>0</th>\n",
              "      <td>2</td>\n",
              "      <td>6</td>\n",
              "      <td>1</td>\n",
              "      <td>7</td>\n",
              "      <td>1169</td>\n",
              "      <td>0</td>\n",
              "      <td>3</td>\n",
              "      <td>4</td>\n",
              "      <td>3</td>\n",
              "      <td>2</td>\n",
              "      <td>...</td>\n",
              "      <td>2</td>\n",
              "      <td>67</td>\n",
              "      <td>1</td>\n",
              "      <td>1</td>\n",
              "      <td>2</td>\n",
              "      <td>3</td>\n",
              "      <td>1</td>\n",
              "      <td>1</td>\n",
              "      <td>1</td>\n",
              "      <td>1</td>\n",
              "    </tr>\n",
              "    <tr>\n",
              "      <th>1</th>\n",
              "      <td>1</td>\n",
              "      <td>48</td>\n",
              "      <td>3</td>\n",
              "      <td>7</td>\n",
              "      <td>5951</td>\n",
              "      <td>3</td>\n",
              "      <td>0</td>\n",
              "      <td>2</td>\n",
              "      <td>0</td>\n",
              "      <td>2</td>\n",
              "      <td>...</td>\n",
              "      <td>2</td>\n",
              "      <td>22</td>\n",
              "      <td>1</td>\n",
              "      <td>1</td>\n",
              "      <td>1</td>\n",
              "      <td>3</td>\n",
              "      <td>1</td>\n",
              "      <td>0</td>\n",
              "      <td>1</td>\n",
              "      <td>0</td>\n",
              "    </tr>\n",
              "    <tr>\n",
              "      <th>2</th>\n",
              "      <td>0</td>\n",
              "      <td>12</td>\n",
              "      <td>1</td>\n",
              "      <td>4</td>\n",
              "      <td>2096</td>\n",
              "      <td>3</td>\n",
              "      <td>1</td>\n",
              "      <td>2</td>\n",
              "      <td>3</td>\n",
              "      <td>2</td>\n",
              "      <td>...</td>\n",
              "      <td>2</td>\n",
              "      <td>49</td>\n",
              "      <td>1</td>\n",
              "      <td>1</td>\n",
              "      <td>1</td>\n",
              "      <td>2</td>\n",
              "      <td>2</td>\n",
              "      <td>0</td>\n",
              "      <td>1</td>\n",
              "      <td>1</td>\n",
              "    </tr>\n",
              "    <tr>\n",
              "      <th>3</th>\n",
              "      <td>2</td>\n",
              "      <td>42</td>\n",
              "      <td>3</td>\n",
              "      <td>5</td>\n",
              "      <td>7882</td>\n",
              "      <td>3</td>\n",
              "      <td>1</td>\n",
              "      <td>2</td>\n",
              "      <td>3</td>\n",
              "      <td>1</td>\n",
              "      <td>...</td>\n",
              "      <td>0</td>\n",
              "      <td>45</td>\n",
              "      <td>1</td>\n",
              "      <td>0</td>\n",
              "      <td>1</td>\n",
              "      <td>3</td>\n",
              "      <td>2</td>\n",
              "      <td>0</td>\n",
              "      <td>1</td>\n",
              "      <td>1</td>\n",
              "    </tr>\n",
              "    <tr>\n",
              "      <th>4</th>\n",
              "      <td>2</td>\n",
              "      <td>24</td>\n",
              "      <td>2</td>\n",
              "      <td>1</td>\n",
              "      <td>4870</td>\n",
              "      <td>3</td>\n",
              "      <td>0</td>\n",
              "      <td>3</td>\n",
              "      <td>3</td>\n",
              "      <td>2</td>\n",
              "      <td>...</td>\n",
              "      <td>1</td>\n",
              "      <td>53</td>\n",
              "      <td>1</td>\n",
              "      <td>0</td>\n",
              "      <td>2</td>\n",
              "      <td>3</td>\n",
              "      <td>2</td>\n",
              "      <td>0</td>\n",
              "      <td>1</td>\n",
              "      <td>0</td>\n",
              "    </tr>\n",
              "  </tbody>\n",
              "</table>\n",
              "<p>5 rows × 21 columns</p>\n",
              "</div>\n",
              "      <button class=\"colab-df-convert\" onclick=\"convertToInteractive('df-a9816076-ff33-4d0b-906e-e57055254c8f')\"\n",
              "              title=\"Convert this dataframe to an interactive table.\"\n",
              "              style=\"display:none;\">\n",
              "        \n",
              "  <svg xmlns=\"http://www.w3.org/2000/svg\" height=\"24px\"viewBox=\"0 0 24 24\"\n",
              "       width=\"24px\">\n",
              "    <path d=\"M0 0h24v24H0V0z\" fill=\"none\"/>\n",
              "    <path d=\"M18.56 5.44l.94 2.06.94-2.06 2.06-.94-2.06-.94-.94-2.06-.94 2.06-2.06.94zm-11 1L8.5 8.5l.94-2.06 2.06-.94-2.06-.94L8.5 2.5l-.94 2.06-2.06.94zm10 10l.94 2.06.94-2.06 2.06-.94-2.06-.94-.94-2.06-.94 2.06-2.06.94z\"/><path d=\"M17.41 7.96l-1.37-1.37c-.4-.4-.92-.59-1.43-.59-.52 0-1.04.2-1.43.59L10.3 9.45l-7.72 7.72c-.78.78-.78 2.05 0 2.83L4 21.41c.39.39.9.59 1.41.59.51 0 1.02-.2 1.41-.59l7.78-7.78 2.81-2.81c.8-.78.8-2.07 0-2.86zM5.41 20L4 18.59l7.72-7.72 1.47 1.35L5.41 20z\"/>\n",
              "  </svg>\n",
              "      </button>\n",
              "      \n",
              "  <style>\n",
              "    .colab-df-container {\n",
              "      display:flex;\n",
              "      flex-wrap:wrap;\n",
              "      gap: 12px;\n",
              "    }\n",
              "\n",
              "    .colab-df-convert {\n",
              "      background-color: #E8F0FE;\n",
              "      border: none;\n",
              "      border-radius: 50%;\n",
              "      cursor: pointer;\n",
              "      display: none;\n",
              "      fill: #1967D2;\n",
              "      height: 32px;\n",
              "      padding: 0 0 0 0;\n",
              "      width: 32px;\n",
              "    }\n",
              "\n",
              "    .colab-df-convert:hover {\n",
              "      background-color: #E2EBFA;\n",
              "      box-shadow: 0px 1px 2px rgba(60, 64, 67, 0.3), 0px 1px 3px 1px rgba(60, 64, 67, 0.15);\n",
              "      fill: #174EA6;\n",
              "    }\n",
              "\n",
              "    [theme=dark] .colab-df-convert {\n",
              "      background-color: #3B4455;\n",
              "      fill: #D2E3FC;\n",
              "    }\n",
              "\n",
              "    [theme=dark] .colab-df-convert:hover {\n",
              "      background-color: #434B5C;\n",
              "      box-shadow: 0px 1px 3px 1px rgba(0, 0, 0, 0.15);\n",
              "      filter: drop-shadow(0px 1px 2px rgba(0, 0, 0, 0.3));\n",
              "      fill: #FFFFFF;\n",
              "    }\n",
              "  </style>\n",
              "\n",
              "      <script>\n",
              "        const buttonEl =\n",
              "          document.querySelector('#df-a9816076-ff33-4d0b-906e-e57055254c8f button.colab-df-convert');\n",
              "        buttonEl.style.display =\n",
              "          google.colab.kernel.accessAllowed ? 'block' : 'none';\n",
              "\n",
              "        async function convertToInteractive(key) {\n",
              "          const element = document.querySelector('#df-a9816076-ff33-4d0b-906e-e57055254c8f');\n",
              "          const dataTable =\n",
              "            await google.colab.kernel.invokeFunction('convertToInteractive',\n",
              "                                                     [key], {});\n",
              "          if (!dataTable) return;\n",
              "\n",
              "          const docLinkHtml = 'Like what you see? Visit the ' +\n",
              "            '<a target=\"_blank\" href=https://colab.research.google.com/notebooks/data_table.ipynb>data table notebook</a>'\n",
              "            + ' to learn more about interactive tables.';\n",
              "          element.innerHTML = '';\n",
              "          dataTable['output_type'] = 'display_data';\n",
              "          await google.colab.output.renderOutput(dataTable, element);\n",
              "          const docLink = document.createElement('div');\n",
              "          docLink.innerHTML = docLinkHtml;\n",
              "          element.appendChild(docLink);\n",
              "        }\n",
              "      </script>\n",
              "    </div>\n",
              "  </div>\n",
              "  "
            ]
          },
          "metadata": {},
          "execution_count": 5
        }
      ],
      "source": [
        "credito.head()"
      ]
    },
    {
      "cell_type": "code",
      "execution_count": 6,
      "metadata": {
        "id": "VoG0YgN7XQ5J"
      },
      "outputs": [],
      "source": [
        "previsores = credito.iloc[:,0:20].values\n",
        "classe = credito.iloc[:,20].values"
      ]
    },
    {
      "cell_type": "code",
      "execution_count": 7,
      "metadata": {
        "colab": {
          "base_uri": "https://localhost:8080/"
        },
        "id": "-DIuHSM0XQ5K",
        "outputId": "4044b6b7-72ac-4082-ca4d-527cae25e2dd"
      },
      "outputs": [
        {
          "output_type": "execute_result",
          "data": {
            "text/plain": [
              "array([[ 2,  6,  1, ...,  1,  1,  1],\n",
              "       [ 1, 48,  3, ...,  1,  0,  1],\n",
              "       [ 0, 12,  1, ...,  2,  0,  1],\n",
              "       ...,\n",
              "       [ 0, 12,  3, ...,  1,  0,  1],\n",
              "       [ 2, 45,  3, ...,  1,  1,  1],\n",
              "       [ 1, 45,  1, ...,  1,  0,  1]])"
            ]
          },
          "metadata": {},
          "execution_count": 7
        }
      ],
      "source": [
        "previsores"
      ]
    },
    {
      "cell_type": "code",
      "execution_count": 8,
      "metadata": {
        "id": "d-P5pfo0XQ5L"
      },
      "outputs": [],
      "source": [
        "X_treinamento, X_teste, y_treinamento, y_teste = train_test_split(previsores,classe,\n",
        "                                        test_size=0.3,random_state=123)"
      ]
    },
    {
      "cell_type": "code",
      "execution_count": 9,
      "metadata": {
        "colab": {
          "base_uri": "https://localhost:8080/",
          "height": 665
        },
        "id": "T-xnZgLNXQ5N",
        "outputId": "ba346231-8947-4eb8-b5f7-d133c54b6c3a"
      },
      "outputs": [
        {
          "output_type": "stream",
          "name": "stderr",
          "text": [
            "2022/05/04 18:14:19 INFO mlflow.tracking.fluent: Experiment with name 'nbexperimento' does not exist. Creating a new experiment.\n",
            "/usr/local/lib/python3.7/dist-packages/sklearn/utils/deprecation.py:87: FutureWarning: Function plot_confusion_matrix is deprecated; Function `plot_confusion_matrix` is deprecated in 1.0 and will be removed in 1.2. Use one of the class methods: ConfusionMatrixDisplay.from_predictions or ConfusionMatrixDisplay.from_estimator.\n",
            "  warnings.warn(msg, category=FutureWarning)\n",
            "/usr/local/lib/python3.7/dist-packages/sklearn/utils/deprecation.py:87: FutureWarning: Function plot_roc_curve is deprecated; Function :func:`plot_roc_curve` is deprecated in 1.0 and will be removed in 1.2. Use one of the class methods: :meth:`sklearn.metric.RocCurveDisplay.from_predictions` or :meth:`sklearn.metric.RocCurveDisplay.from_estimator`.\n",
            "  warnings.warn(msg, category=FutureWarning)\n"
          ]
        },
        {
          "output_type": "stream",
          "name": "stdout",
          "text": [
            "Modelo:  e7318543d9954312af41622010f479a7\n"
          ]
        },
        {
          "output_type": "display_data",
          "data": {
            "text/plain": [
              "<Figure size 432x288 with 2 Axes>"
            ],
            "image/png": "[encoded data removed]"
          },
          "metadata": {
            "needs_background": "light"
          }
        },
        {
          "output_type": "display_data",
          "data": {
            "text/plain": [
              "<Figure size 432x288 with 1 Axes>"
            ],
            "image/png": "[encoded data removed]"
          },
          "metadata": {
            "needs_background": "light"
          }
        }
      ],
      "source": [
        "mlflow.set_experiment(\"nbexperimento\")\n",
        "\n",
        "with mlflow.start_run():\n",
        "    naive_bayes = GaussianNB()\n",
        "    naive_bayes.fit(X_treinamento, y_treinamento)\n",
        "    previsoes = naive_bayes.predict(X_teste)\n",
        "    \n",
        "    #métricas\n",
        "    acuracia = accuracy_score(y_teste, previsoes)\n",
        "    recall = recall_score(y_teste, previsoes)\n",
        "    precision = precision_score(y_teste, previsoes)\n",
        "    f1 = f1_score(y_teste, previsoes)\n",
        "    auc= roc_auc_score(y_teste, previsoes)\n",
        "    log = log_loss(y_teste, previsoes)\n",
        "    \n",
        "    #registrar métricas\n",
        "    mlflow.log_metric(\"acuracia\",acuracia)\n",
        "    mlflow.log_metric(\"recall\",recall)\n",
        "    mlflow.log_metric(\"precision\",precision)\n",
        "    mlflow.log_metric(\"f1\",f1)\n",
        "    mlflow.log_metric(\"auc\",auc)\n",
        "    mlflow.log_metric(\"log\",log)\n",
        "    \n",
        "    #gráficos\n",
        "    confusion = plot_confusion_matrix(naive_bayes, X_teste, y_teste)\n",
        "    plt.savefig(\"confusion.png\")\n",
        "    roc = plot_roc_curve(naive_bayes, X_teste, y_teste)\n",
        "    plt.savefig(\"roc.png\")\n",
        "    \n",
        "    #logar gráficos\n",
        "    mlflow.log_artifact(\"confusion.png\")\n",
        "    mlflow.log_artifact(\"roc.png\")   \n",
        "    \n",
        "    #modelo\n",
        "    mlflow.sklearn.log_model(naive_bayes,\"ModeloNB\")\n",
        "    \n",
        "    \n",
        "    #informações da execução\n",
        "    print(\"Modelo: \", mlflow.active_run().info.run_uuid)    \n",
        "mlflow.end_run()"
      ]
    },
    {
      "cell_type": "code",
      "source": [
        ""
      ],
      "metadata": {
        "id": "oNK3rIgLXSo9"
      },
      "execution_count": null,
      "outputs": []
    },
    {
      "cell_type": "markdown",
      "source": [
        "# 2eme modele"
      ],
      "metadata": {
        "id": "ZqsERdi_Yj7o"
      }
    },
    {
      "cell_type": "code",
      "source": [
        ""
      ],
      "metadata": {
        "id": "tIMx3urzXSbg"
      },
      "execution_count": null,
      "outputs": []
    },
    {
      "cell_type": "code",
      "source": [
        "from sklearn.ensemble import RandomForestClassifier\n",
        "from sklearn.metrics import *"
      ],
      "metadata": {
        "id": "BYZjwCErXm04"
      },
      "execution_count": 18,
      "outputs": []
    },
    {
      "cell_type": "code",
      "execution_count": 19,
      "metadata": {
        "id": "n_mQ-eoZVy4K"
      },
      "outputs": [],
      "source": [
        "def treina_rf(n_estimators):\n",
        "    mlflow.set_experiment(\"rfexperimento\")\n",
        "    with mlflow.start_run():\n",
        "        \n",
        "        modelorf = RandomForestClassifier(n_estimators=n_estimators)\n",
        "        modelorf.fit(X_treinamento, y_treinamento)\n",
        "        previsoes = modelorf.predict(X_teste)\n",
        "\n",
        "        #log de hiper parametros\n",
        "        mlflow.log_param(\"n_estimators\", n_estimators)\n",
        "\n",
        "        #métricas\n",
        "        acuracia = accuracy_score(y_teste, previsoes)\n",
        "        recall = recall_score(y_teste, previsoes)\n",
        "        precision = precision_score(y_teste, previsoes)\n",
        "        f1 = f1_score(y_teste, previsoes)\n",
        "        auc= roc_auc_score(y_teste, previsoes)\n",
        "        log = log_loss(y_teste, previsoes)\n",
        "\n",
        "        #registrar métricas\n",
        "        mlflow.log_metric(\"acuracia\",acuracia)\n",
        "        mlflow.log_metric(\"recall\",recall)\n",
        "        mlflow.log_metric(\"precision\",precision)\n",
        "        mlflow.log_metric(\"f1\",f1)\n",
        "        mlflow.log_metric(\"auc\",auc)\n",
        "        mlflow.log_metric(\"log\",log)    \n",
        "\n",
        "        #gráficos\n",
        "        confusion = plot_confusion_matrix(modelorf, X_teste, y_teste)\n",
        "        plt.savefig(\"confusionrf.png\")\n",
        "        roc = plot_roc_curve(modelorf, X_teste, y_teste)\n",
        "        plt.savefig(\"rocfr.png\")\n",
        "\n",
        "        #logar gráficos\n",
        "        mlflow.log_artifact(\"confusionrf.png\")\n",
        "        mlflow.log_artifact(\"rocfr.png\")      \n",
        "\n",
        "        #modelo\n",
        "        mlflow.sklearn.log_model(modelorf,\"ModeloNB\")\n",
        "\n",
        "        #informações da execução\n",
        "        print(\"Modelo: \", mlflow.active_run().info.run_uuid)   \n",
        "\n",
        "    mlflow.end_run()"
      ]
    },
    {
      "cell_type": "code",
      "execution_count": 20,
      "metadata": {
        "id": "VmPVbj10Vy4M",
        "outputId": "b2126eac-65ff-45bc-e99b-970061769b74",
        "colab": {
          "base_uri": "https://localhost:8080/",
          "height": 1000
        }
      },
      "outputs": [
        {
          "output_type": "stream",
          "name": "stderr",
          "text": [
            "2022/05/04 18:39:25 INFO mlflow.tracking.fluent: Experiment with name 'rfexperimento' does not exist. Creating a new experiment.\n",
            "/usr/local/lib/python3.7/dist-packages/sklearn/utils/deprecation.py:87: FutureWarning: Function plot_confusion_matrix is deprecated; Function `plot_confusion_matrix` is deprecated in 1.0 and will be removed in 1.2. Use one of the class methods: ConfusionMatrixDisplay.from_predictions or ConfusionMatrixDisplay.from_estimator.\n",
            "  warnings.warn(msg, category=FutureWarning)\n",
            "/usr/local/lib/python3.7/dist-packages/sklearn/utils/deprecation.py:87: FutureWarning: Function plot_roc_curve is deprecated; Function :func:`plot_roc_curve` is deprecated in 1.0 and will be removed in 1.2. Use one of the class methods: :meth:`sklearn.metric.RocCurveDisplay.from_predictions` or :meth:`sklearn.metric.RocCurveDisplay.from_estimator`.\n",
            "  warnings.warn(msg, category=FutureWarning)\n"
          ]
        },
        {
          "output_type": "stream",
          "name": "stdout",
          "text": [
            "Modelo:  5778168cd7394e5291016b7521277c02\n"
          ]
        },
        {
          "output_type": "stream",
          "name": "stderr",
          "text": [
            "/usr/local/lib/python3.7/dist-packages/sklearn/utils/deprecation.py:87: FutureWarning: Function plot_confusion_matrix is deprecated; Function `plot_confusion_matrix` is deprecated in 1.0 and will be removed in 1.2. Use one of the class methods: ConfusionMatrixDisplay.from_predictions or ConfusionMatrixDisplay.from_estimator.\n",
            "  warnings.warn(msg, category=FutureWarning)\n",
            "/usr/local/lib/python3.7/dist-packages/sklearn/utils/deprecation.py:87: FutureWarning: Function plot_roc_curve is deprecated; Function :func:`plot_roc_curve` is deprecated in 1.0 and will be removed in 1.2. Use one of the class methods: :meth:`sklearn.metric.RocCurveDisplay.from_predictions` or :meth:`sklearn.metric.RocCurveDisplay.from_estimator`.\n",
            "  warnings.warn(msg, category=FutureWarning)\n"
          ]
        },
        {
          "output_type": "stream",
          "name": "stdout",
          "text": [
            "Modelo:  1f028bcaf2cb4555b48785518dd37824\n"
          ]
        },
        {
          "output_type": "stream",
          "name": "stderr",
          "text": [
            "/usr/local/lib/python3.7/dist-packages/sklearn/utils/deprecation.py:87: FutureWarning: Function plot_confusion_matrix is deprecated; Function `plot_confusion_matrix` is deprecated in 1.0 and will be removed in 1.2. Use one of the class methods: ConfusionMatrixDisplay.from_predictions or ConfusionMatrixDisplay.from_estimator.\n",
            "  warnings.warn(msg, category=FutureWarning)\n",
            "/usr/local/lib/python3.7/dist-packages/sklearn/utils/deprecation.py:87: FutureWarning: Function plot_roc_curve is deprecated; Function :func:`plot_roc_curve` is deprecated in 1.0 and will be removed in 1.2. Use one of the class methods: :meth:`sklearn.metric.RocCurveDisplay.from_predictions` or :meth:`sklearn.metric.RocCurveDisplay.from_estimator`.\n",
            "  warnings.warn(msg, category=FutureWarning)\n"
          ]
        },
        {
          "output_type": "stream",
          "name": "stdout",
          "text": [
            "Modelo:  f9069eef3cea457485e4254be27ea6ed\n"
          ]
        },
        {
          "output_type": "stream",
          "name": "stderr",
          "text": [
            "/usr/local/lib/python3.7/dist-packages/sklearn/utils/deprecation.py:87: FutureWarning: Function plot_confusion_matrix is deprecated; Function `plot_confusion_matrix` is deprecated in 1.0 and will be removed in 1.2. Use one of the class methods: ConfusionMatrixDisplay.from_predictions or ConfusionMatrixDisplay.from_estimator.\n",
            "  warnings.warn(msg, category=FutureWarning)\n",
            "/usr/local/lib/python3.7/dist-packages/sklearn/utils/deprecation.py:87: FutureWarning: Function plot_roc_curve is deprecated; Function :func:`plot_roc_curve` is deprecated in 1.0 and will be removed in 1.2. Use one of the class methods: :meth:`sklearn.metric.RocCurveDisplay.from_predictions` or :meth:`sklearn.metric.RocCurveDisplay.from_estimator`.\n",
            "  warnings.warn(msg, category=FutureWarning)\n"
          ]
        },
        {
          "output_type": "stream",
          "name": "stdout",
          "text": [
            "Modelo:  2ef426abc7ed4a189c3c883bffab7b92\n"
          ]
        },
        {
          "output_type": "stream",
          "name": "stderr",
          "text": [
            "/usr/local/lib/python3.7/dist-packages/sklearn/utils/deprecation.py:87: FutureWarning: Function plot_confusion_matrix is deprecated; Function `plot_confusion_matrix` is deprecated in 1.0 and will be removed in 1.2. Use one of the class methods: ConfusionMatrixDisplay.from_predictions or ConfusionMatrixDisplay.from_estimator.\n",
            "  warnings.warn(msg, category=FutureWarning)\n",
            "/usr/local/lib/python3.7/dist-packages/sklearn/utils/deprecation.py:87: FutureWarning: Function plot_roc_curve is deprecated; Function :func:`plot_roc_curve` is deprecated in 1.0 and will be removed in 1.2. Use one of the class methods: :meth:`sklearn.metric.RocCurveDisplay.from_predictions` or :meth:`sklearn.metric.RocCurveDisplay.from_estimator`.\n",
            "  warnings.warn(msg, category=FutureWarning)\n"
          ]
        },
        {
          "output_type": "stream",
          "name": "stdout",
          "text": [
            "Modelo:  2d1c59c54a5f4730ae70de1a1641fed3\n"
          ]
        },
        {
          "output_type": "display_data",
          "data": {
            "text/plain": [
              "<Figure size 432x288 with 2 Axes>"
            ],
            "image/png": "[encoded data removed]"
          },
          "metadata": {
            "needs_background": "light"
          }
        },
        {
          "output_type": "display_data",
          "data": {
            "text/plain": [
              "<Figure size 432x288 with 1 Axes>"
            ],
            "image/png": "[encoded data removed]"
          },
          "metadata": {
            "needs_background": "light"
          }
        },
        {
          "output_type": "display_data",
          "data": {
            "text/plain": [
              "<Figure size 432x288 with 2 Axes>"
            ],
            "image/png": "[encoded data removed]"
          },
          "metadata": {
            "needs_background": "light"
          }
        },
        {
          "output_type": "display_data",
          "data": {
            "text/plain": [
              "<Figure size 432x288 with 1 Axes>"
            ],
            "image/png": "[encoded data removed]"
          },
          "metadata": {
            "needs_background": "light"
          }
        },
        {
          "output_type": "display_data",
          "data": {
            "text/plain": [
              "<Figure size 432x288 with 2 Axes>"
            ],
            "image/png": "[encoded data removed]"
          },
          "metadata": {
            "needs_background": "light"
          }
        },
        {
          "output_type": "display_data",
          "data": {
            "text/plain": [
              "<Figure size 432x288 with 1 Axes>"
            ],
            "image/png": "[encoded data removed]"
          },
          "metadata": {
            "needs_background": "light"
          }
        },
        {
          "output_type": "display_data",
          "data": {
            "text/plain": [
              "<Figure size 432x288 with 2 Axes>"
            ],
            "image/png": "[encoded data removed]"
          },
          "metadata": {
            "needs_background": "light"
          }
        },
        {
          "output_type": "display_data",
          "data": {
            "text/plain": [
              "<Figure size 432x288 with 1 Axes>"
            ],
            "image/png": "[encoded data removed]"
          },
          "metadata": {
            "needs_background": "light"
          }
        },
        {
          "output_type": "display_data",
          "data": {
            "text/plain": [
              "<Figure size 432x288 with 2 Axes>"
            ],
            "image/png": "[encoded data removed]"
          },
          "metadata": {
            "needs_background": "light"
          }
        },
        {
          "output_type": "display_data",
          "data": {
            "text/plain": [
              "<Figure size 432x288 with 1 Axes>"
            ],
            "image/png": "[encoded data removed]"
          },
          "metadata": {
            "needs_background": "light"
          }
        }
      ],
      "source": [
        "arvores = [5,10,20,25,30]\n",
        "for n in arvores:\n",
        "    treina_rf(n)"
      ]
    },
    {
      "cell_type": "code",
      "source": [
        ""
      ],
      "metadata": {
        "id": "VelhzvH5YoRb"
      },
      "execution_count": null,
      "outputs": []
    },
    {
      "cell_type": "markdown",
      "source": [
        "# MODELE KERAS"
      ],
      "metadata": {
        "id": "FLylqDfXYpGD"
      }
    },
    {
      "cell_type": "code",
      "source": [
        ""
      ],
      "metadata": {
        "id": "NX8LsDQwYsZc"
      },
      "execution_count": null,
      "outputs": []
    },
    {
      "cell_type": "code",
      "source": [
        "import matplotlib.pyplot as plt\n",
        "from keras.models import Sequential\n",
        "from keras.layers import Dense, Dropout\n",
        "from keras.utils import np_utils\n",
        "import numpy as np\n",
        "from sklearn.metrics import confusion_matrix\n",
        "from keras.datasets import mnist\n",
        "import mlflow\n",
        "import mlflow.tensorflow"
      ],
      "metadata": {
        "id": "weOaw7LnYtcS"
      },
      "execution_count": 21,
      "outputs": []
    },
    {
      "cell_type": "code",
      "source": [
        "(X_treinamento, y_treinamento),(X_teste, y_teste) = mnist.load_data()\n",
        "plt.imshow(X_treinamento[29],cmap='gray')\n",
        "plt.title(y_treinamento[29])"
      ],
      "metadata": {
        "id": "FBWEl9FvYx8f"
      },
      "execution_count": null,
      "outputs": []
    },
    {
      "cell_type": "code",
      "source": [
        "X_treinamento = X_treinamento.reshape((len(X_treinamento), np.prod(X_treinamento.shape[1:])))\n",
        "X_teste = X_teste.reshape((len(X_teste), np.prod(X_teste.shape[1:])))"
      ],
      "metadata": {
        "id": "fPHai1h1Yxwc"
      },
      "execution_count": 23,
      "outputs": []
    },
    {
      "cell_type": "code",
      "source": [
        "X_teste[0]"
      ],
      "metadata": {
        "id": "M96cS9RKY-fi"
      },
      "execution_count": null,
      "outputs": []
    },
    {
      "cell_type": "code",
      "source": [
        "X_treinamento = X_treinamento.astype('float32')\n",
        "X_teste = X_teste.astype('float32')\n",
        "X_treinamento /= 255\n",
        "X_teste /= 255"
      ],
      "metadata": {
        "id": "7WtfDrO0Y-Rg"
      },
      "execution_count": 25,
      "outputs": []
    },
    {
      "cell_type": "code",
      "source": [
        "y_treinamento = np_utils.to_categorical(y_treinamento,10)\n",
        "y_teste = np_utils.to_categorical(y_teste,10)"
      ],
      "metadata": {
        "id": "nYCK5T5wZHdv"
      },
      "execution_count": 26,
      "outputs": []
    },
    {
      "cell_type": "code",
      "source": [
        "y_teste[0]"
      ],
      "metadata": {
        "colab": {
          "base_uri": "https://localhost:8080/"
        },
        "id": "6JFlPp0sZKOf",
        "outputId": "02205784-35b9-46be-d4b6-1d072e5c339c"
      },
      "execution_count": 27,
      "outputs": [
        {
          "output_type": "execute_result",
          "data": {
            "text/plain": [
              "array([0., 0., 0., 0., 0., 0., 0., 1., 0., 0.], dtype=float32)"
            ]
          },
          "metadata": {},
          "execution_count": 27
        }
      ]
    },
    {
      "cell_type": "code",
      "source": [
        "def treina_dl(n_camadas_ocultas,n_units,activation,drop_out, epochs):\n",
        "    mlflow.set_experiment(\"DLExperimento\")\n",
        "    \n",
        "    with mlflow.start_run():\n",
        "        mlflow.tensorflow.autolog()\n",
        "        \n",
        "        #registro de tags\n",
        "        mlflow.set_tag(\"n_camadas_ocultas\",n_camadas_ocultas)\n",
        "        mlflow.set_tag(\"n_units\",n_units)\n",
        "        mlflow.set_tag(\"activation\",activation)\n",
        "        mlflow.set_tag(\"drop_out\",drop_out)\n",
        "        mlflow.set_tag(\"epochs\",epochs)\n",
        "\n",
        "    \n",
        "        modelo = Sequential()\n",
        "        \n",
        "        #cria camada oculta mais camada de entrada\n",
        "        modelo.add(Dense(units=n_units, activation=activation, input_dim=784))\n",
        "        modelo.add(Dropout(drop_out))\n",
        "        \n",
        "        #camadas ocultas adicionais, com drop out\n",
        "        for n in range(n_camadas_ocultas):\n",
        "            modelo.add(Dense(units=n_units, activation=activation))\n",
        "            modelo.add(Dropout(drop_out))            \n",
        "        \n",
        "        #camada de saída\n",
        "        modelo.add(Dense(units=10,activation='softmax'))\n",
        "        \n",
        "        modelo.compile(optimizer='adam', loss=\"categorical_crossentropy\",metrics=['accuracy'])\n",
        "        \n",
        "        modelo.summary()\n",
        "        \n",
        "        historico = modelo.fit(X_treinamento, y_treinamento, epochs =epochs, \n",
        "                              validation_data=(X_teste,y_teste))\n",
        "        \n",
        "        #grafico para erros e acuracia\n",
        "        historico.history.keys()\n",
        "        loss = plt.plot(historico.history['val_loss'])\n",
        "        plt.savefig(\"loss.png\")\n",
        "        acuracia = plt.plot(historico.history['val_accuracy'])\n",
        "        plt.savefig(\"acuracia.png\")\n",
        "        \n",
        "        #registrar artefatos\n",
        "        mlflow.log_artifact(\"loss.png\")\n",
        "        mlflow.log_artifact(\"acuracia.png\")\n",
        "       \n",
        "        #informações de execução\n",
        "        print(\"Modelo: \", mlflow.active_run().info.run_uuid)  \n",
        "    mlflow.end_run()           "
      ],
      "metadata": {
        "id": "y-aUAe0jZTHD"
      },
      "execution_count": 28,
      "outputs": []
    },
    {
      "cell_type": "code",
      "source": [
        "n_camadas_ocultas = [1,2,3]\n",
        "n_units = [2,4,6]\n",
        "activation = ['relu','tanh']\n",
        "drop_out = [0.1, 0.2]\n",
        "epochs = [3,4,5]\n",
        "\n",
        "for camadas in n_camadas_ocultas:\n",
        "    for unidades in n_units:\n",
        "        for ativacao in activation:\n",
        "            for drop in drop_out:\n",
        "                for epocas in epochs:\n",
        "                    treina_dl(camadas,unidades,ativacao, drop, epocas)"
      ],
      "metadata": {
        "colab": {
          "base_uri": "https://localhost:8080/",
          "height": 1000
        },
        "id": "YLQCgjfWZY96",
        "outputId": "a8bfdcf2-9127-4806-d5da-dee50c2b8d2b"
      },
      "execution_count": 29,
      "outputs": [
        {
          "output_type": "stream",
          "name": "stderr",
          "text": [
            "2022/05/04 18:47:24 INFO mlflow.tracking.fluent: Experiment with name 'DLExperimento' does not exist. Creating a new experiment.\n"
          ]
        },
        {
          "output_type": "stream",
          "name": "stdout",
          "text": [
            "Model: \"sequential\"\n",
            "_________________________________________________________________\n",
            " Layer (type)                Output Shape              Param #   \n",
            "=================================================================\n",
            " dense (Dense)               (None, 2)                 1570      \n",
            "                                                                 \n",
            " dropout (Dropout)           (None, 2)                 0         \n",
            "                                                                 \n",
            " dense_1 (Dense)             (None, 2)                 6         \n",
            "                                                                 \n",
            " dropout_1 (Dropout)         (None, 2)                 0         \n",
            "                                                                 \n",
            " dense_2 (Dense)             (None, 10)                30        \n",
            "                                                                 \n",
            "=================================================================\n",
            "Total params: 1,606\n",
            "Trainable params: 1,606\n",
            "Non-trainable params: 0\n",
            "_________________________________________________________________\n",
            "Epoch 1/3\n",
            "   1/1875 [..............................] - ETA: 1:25:06 - loss: 2.3640 - accuracy: 0.0938WARNING:tensorflow:Callback method `on_train_batch_end` is slow compared to the batch time (batch time: 0.0022s vs `on_train_batch_end` time: 0.0030s). Check your callbacks.\n",
            "1875/1875 [==============================] - 8s 3ms/step - loss: 1.9883 - accuracy: 0.1980 - val_loss: 1.8104 - val_accuracy: 0.2655\n",
            "Epoch 2/3\n",
            "1875/1875 [==============================] - 6s 3ms/step - loss: 1.8613 - accuracy: 0.2500 - val_loss: 1.7463 - val_accuracy: 0.3118\n",
            "Epoch 3/3\n",
            "1875/1875 [==============================] - 5s 3ms/step - loss: 1.8280 - accuracy: 0.2756 - val_loss: 1.7105 - val_accuracy: 0.3426\n",
            "INFO:tensorflow:Assets written to: /tmp/tmpen7y8urq/model/data/model/assets\n"
          ]
        },
        {
          "output_type": "stream",
          "name": "stderr",
          "text": [
            "2022/05/04 18:47:53 WARNING mlflow.utils.requirements_utils: Found jaxlib version (0.3.7+cuda11.cudnn805) contains a local version label (+cuda11.cudnn805). MLflow logged a pip requirement for this package as 'jaxlib==0.3.7' without the local version label to make it installable from PyPI. To specify pip requirements containing local version labels, please use `conda_env` or `pip_requirements`.\n"
          ]
        },
        {
          "output_type": "stream",
          "name": "stdout",
          "text": [
            "Modelo:  ae8c05e1b0ec4a4083fb4d66c9d6184e\n",
            "Model: \"sequential_1\"\n",
            "_________________________________________________________________\n",
            " Layer (type)                Output Shape              Param #   \n",
            "=================================================================\n",
            " dense_3 (Dense)             (None, 2)                 1570      \n",
            "                                                                 \n",
            " dropout_2 (Dropout)         (None, 2)                 0         \n",
            "                                                                 \n",
            " dense_4 (Dense)             (None, 2)                 6         \n",
            "                                                                 \n",
            " dropout_3 (Dropout)         (None, 2)                 0         \n",
            "                                                                 \n",
            " dense_5 (Dense)             (None, 10)                30        \n",
            "                                                                 \n",
            "=================================================================\n",
            "Total params: 1,606\n",
            "Trainable params: 1,606\n",
            "Non-trainable params: 0\n",
            "_________________________________________________________________\n",
            "Epoch 1/4\n",
            "1875/1875 [==============================] - 6s 3ms/step - loss: 1.9634 - accuracy: 0.2349 - val_loss: 1.6732 - val_accuracy: 0.3555\n",
            "Epoch 2/4\n",
            "1875/1875 [==============================] - 5s 3ms/step - loss: 1.7859 - accuracy: 0.3092 - val_loss: 1.5537 - val_accuracy: 0.4317\n",
            "Epoch 3/4\n",
            "1875/1875 [==============================] - 5s 3ms/step - loss: 1.6762 - accuracy: 0.3594 - val_loss: 1.3989 - val_accuracy: 0.5163\n",
            "Epoch 4/4\n",
            "1875/1875 [==============================] - 5s 3ms/step - loss: 1.5936 - accuracy: 0.4083 - val_loss: 1.3225 - val_accuracy: 0.5289\n",
            "INFO:tensorflow:Assets written to: /tmp/tmp3g6_nj50/model/data/model/assets\n"
          ]
        },
        {
          "output_type": "stream",
          "name": "stderr",
          "text": [
            "2022/05/04 18:48:18 WARNING mlflow.utils.requirements_utils: Found jaxlib version (0.3.7+cuda11.cudnn805) contains a local version label (+cuda11.cudnn805). MLflow logged a pip requirement for this package as 'jaxlib==0.3.7' without the local version label to make it installable from PyPI. To specify pip requirements containing local version labels, please use `conda_env` or `pip_requirements`.\n"
          ]
        },
        {
          "output_type": "stream",
          "name": "stdout",
          "text": [
            "Modelo:  83c92581319c42af9fd19c1f9f1ca3c1\n",
            "Model: \"sequential_2\"\n",
            "_________________________________________________________________\n",
            " Layer (type)                Output Shape              Param #   \n",
            "=================================================================\n",
            " dense_6 (Dense)             (None, 2)                 1570      \n",
            "                                                                 \n",
            " dropout_4 (Dropout)         (None, 2)                 0         \n",
            "                                                                 \n",
            " dense_7 (Dense)             (None, 2)                 6         \n",
            "                                                                 \n",
            " dropout_5 (Dropout)         (None, 2)                 0         \n",
            "                                                                 \n",
            " dense_8 (Dense)             (None, 10)                30        \n",
            "                                                                 \n",
            "=================================================================\n",
            "Total params: 1,606\n",
            "Trainable params: 1,606\n",
            "Non-trainable params: 0\n",
            "_________________________________________________________________\n",
            "Epoch 1/5\n",
            "   1/1875 [..............................] - ETA: 12:05 - loss: 2.6231 - accuracy: 0.1250WARNING:tensorflow:Callback method `on_train_batch_end` is slow compared to the batch time (batch time: 0.0018s vs `on_train_batch_end` time: 0.0019s). Check your callbacks.\n",
            "1875/1875 [==============================] - 5s 3ms/step - loss: 1.9842 - accuracy: 0.2519 - val_loss: 1.6474 - val_accuracy: 0.3654\n",
            "Epoch 2/5\n",
            "1875/1875 [==============================] - 5s 3ms/step - loss: 1.7180 - accuracy: 0.3217 - val_loss: 1.4879 - val_accuracy: 0.4238\n",
            "Epoch 3/5\n",
            "1875/1875 [==============================] - 5s 3ms/step - loss: 1.6597 - accuracy: 0.3657 - val_loss: 1.4332 - val_accuracy: 0.4963\n",
            "Epoch 4/5\n",
            "1875/1875 [==============================] - 5s 3ms/step - loss: 1.6105 - accuracy: 0.4141 - val_loss: 1.3372 - val_accuracy: 0.5500\n",
            "Epoch 5/5\n",
            "1875/1875 [==============================] - 5s 3ms/step - loss: 1.5887 - accuracy: 0.4332 - val_loss: 1.3018 - val_accuracy: 0.5569\n",
            "INFO:tensorflow:Assets written to: /tmp/tmp01ybc_bn/model/data/model/assets\n"
          ]
        },
        {
          "output_type": "stream",
          "name": "stderr",
          "text": [
            "2022/05/04 18:49:05 WARNING mlflow.utils.requirements_utils: Found jaxlib version (0.3.7+cuda11.cudnn805) contains a local version label (+cuda11.cudnn805). MLflow logged a pip requirement for this package as 'jaxlib==0.3.7' without the local version label to make it installable from PyPI. To specify pip requirements containing local version labels, please use `conda_env` or `pip_requirements`.\n"
          ]
        },
        {
          "output_type": "stream",
          "name": "stdout",
          "text": [
            "Modelo:  863a5d0d23584d8fb0bf87be8d84398f\n",
            "Model: \"sequential_3\"\n",
            "_________________________________________________________________\n",
            " Layer (type)                Output Shape              Param #   \n",
            "=================================================================\n",
            " dense_9 (Dense)             (None, 2)                 1570      \n",
            "                                                                 \n",
            " dropout_6 (Dropout)         (None, 2)                 0         \n",
            "                                                                 \n",
            " dense_10 (Dense)            (None, 2)                 6         \n",
            "                                                                 \n",
            " dropout_7 (Dropout)         (None, 2)                 0         \n",
            "                                                                 \n",
            " dense_11 (Dense)            (None, 10)                30        \n",
            "                                                                 \n",
            "=================================================================\n",
            "Total params: 1,606\n",
            "Trainable params: 1,606\n",
            "Non-trainable params: 0\n",
            "_________________________________________________________________\n",
            "Epoch 1/3\n",
            "   1/1875 [..............................] - ETA: 11:53 - loss: 2.3819 - accuracy: 0.0625WARNING:tensorflow:Callback method `on_train_batch_end` is slow compared to the batch time (batch time: 0.0017s vs `on_train_batch_end` time: 0.0018s). Check your callbacks.\n",
            "1875/1875 [==============================] - 6s 3ms/step - loss: 1.8963 - accuracy: 0.2836 - val_loss: 1.5251 - val_accuracy: 0.4861\n",
            "Epoch 2/3\n",
            "1875/1875 [==============================] - 5s 3ms/step - loss: 1.8101 - accuracy: 0.3189 - val_loss: 1.4660 - val_accuracy: 0.4921\n",
            "Epoch 3/3\n",
            "1875/1875 [==============================] - 5s 3ms/step - loss: 1.7977 - accuracy: 0.3337 - val_loss: 1.4453 - val_accuracy: 0.5323\n",
            "INFO:tensorflow:Assets written to: /tmp/tmpbh8u8i3l/model/data/model/assets\n"
          ]
        },
        {
          "output_type": "stream",
          "name": "stderr",
          "text": [
            "2022/05/04 18:49:32 WARNING mlflow.utils.requirements_utils: Found jaxlib version (0.3.7+cuda11.cudnn805) contains a local version label (+cuda11.cudnn805). MLflow logged a pip requirement for this package as 'jaxlib==0.3.7' without the local version label to make it installable from PyPI. To specify pip requirements containing local version labels, please use `conda_env` or `pip_requirements`.\n"
          ]
        },
        {
          "output_type": "stream",
          "name": "stdout",
          "text": [
            "Modelo:  e2b0806864b540a5bc252ebda9649bad\n",
            "Model: \"sequential_4\"\n",
            "_________________________________________________________________\n",
            " Layer (type)                Output Shape              Param #   \n",
            "=================================================================\n",
            " dense_12 (Dense)            (None, 2)                 1570      \n",
            "                                                                 \n",
            " dropout_8 (Dropout)         (None, 2)                 0         \n",
            "                                                                 \n",
            " dense_13 (Dense)            (None, 2)                 6         \n",
            "                                                                 \n",
            " dropout_9 (Dropout)         (None, 2)                 0         \n",
            "                                                                 \n",
            " dense_14 (Dense)            (None, 10)                30        \n",
            "                                                                 \n",
            "=================================================================\n",
            "Total params: 1,606\n",
            "Trainable params: 1,606\n",
            "Non-trainable params: 0\n",
            "_________________________________________________________________\n",
            "Epoch 1/4\n",
            "   1/1875 [..............................] - ETA: 12:19 - loss: 2.3233 - accuracy: 0.0625WARNING:tensorflow:Callback method `on_train_batch_end` is slow compared to the batch time (batch time: 0.0019s vs `on_train_batch_end` time: 0.0027s). Check your callbacks.\n",
            "1875/1875 [==============================] - 6s 3ms/step - loss: 2.1498 - accuracy: 0.1695 - val_loss: 1.8297 - val_accuracy: 0.3204\n",
            "Epoch 2/4\n",
            "1875/1875 [==============================] - 5s 3ms/step - loss: 1.9448 - accuracy: 0.2430 - val_loss: 1.7153 - val_accuracy: 0.4124\n",
            "Epoch 3/4\n",
            "1875/1875 [==============================] - 5s 3ms/step - loss: 1.8671 - accuracy: 0.2808 - val_loss: 1.6362 - val_accuracy: 0.4282\n",
            "Epoch 4/4\n",
            "1875/1875 [==============================] - 5s 3ms/step - loss: 1.8367 - accuracy: 0.2900 - val_loss: 1.5908 - val_accuracy: 0.4422\n",
            "INFO:tensorflow:Assets written to: /tmp/tmp1pdxtpw4/model/data/model/assets\n"
          ]
        },
        {
          "output_type": "stream",
          "name": "stderr",
          "text": [
            "2022/05/04 18:49:57 WARNING mlflow.utils.requirements_utils: Found jaxlib version (0.3.7+cuda11.cudnn805) contains a local version label (+cuda11.cudnn805). MLflow logged a pip requirement for this package as 'jaxlib==0.3.7' without the local version label to make it installable from PyPI. To specify pip requirements containing local version labels, please use `conda_env` or `pip_requirements`.\n"
          ]
        },
        {
          "output_type": "stream",
          "name": "stdout",
          "text": [
            "Modelo:  15a1c432c36f404ebe075ebcfa80cca5\n",
            "Model: \"sequential_5\"\n",
            "_________________________________________________________________\n",
            " Layer (type)                Output Shape              Param #   \n",
            "=================================================================\n",
            " dense_15 (Dense)            (None, 2)                 1570      \n",
            "                                                                 \n",
            " dropout_10 (Dropout)        (None, 2)                 0         \n",
            "                                                                 \n",
            " dense_16 (Dense)            (None, 2)                 6         \n",
            "                                                                 \n",
            " dropout_11 (Dropout)        (None, 2)                 0         \n",
            "                                                                 \n",
            " dense_17 (Dense)            (None, 10)                30        \n",
            "                                                                 \n",
            "=================================================================\n",
            "Total params: 1,606\n",
            "Trainable params: 1,606\n",
            "Non-trainable params: 0\n",
            "_________________________________________________________________\n",
            "Epoch 1/5\n",
            "   1/1875 [..............................] - ETA: 12:24 - loss: 2.2593 - accuracy: 0.1562WARNING:tensorflow:Callback method `on_train_batch_end` is slow compared to the batch time (batch time: 0.0018s vs `on_train_batch_end` time: 0.0019s). Check your callbacks.\n",
            "1875/1875 [==============================] - 6s 3ms/step - loss: 2.1164 - accuracy: 0.1828 - val_loss: 1.9597 - val_accuracy: 0.2764\n",
            "Epoch 2/5\n",
            "1875/1875 [==============================] - 6s 3ms/step - loss: 2.0617 - accuracy: 0.2048 - val_loss: 1.8788 - val_accuracy: 0.3180\n",
            "Epoch 3/5\n",
            "1875/1875 [==============================] - 5s 3ms/step - loss: 1.9851 - accuracy: 0.2387 - val_loss: 1.8104 - val_accuracy: 0.3372\n",
            "Epoch 4/5\n",
            "1875/1875 [==============================] - 5s 3ms/step - loss: 1.9611 - accuracy: 0.2486 - val_loss: 1.7692 - val_accuracy: 0.3472\n",
            "Epoch 5/5\n",
            "1875/1875 [==============================] - 5s 3ms/step - loss: 1.9628 - accuracy: 0.2501 - val_loss: 1.7642 - val_accuracy: 0.3493\n",
            "INFO:tensorflow:Assets written to: /tmp/tmp71bnu0_i/model/data/model/assets\n"
          ]
        },
        {
          "output_type": "stream",
          "name": "stderr",
          "text": [
            "2022/05/04 18:50:29 WARNING mlflow.utils.requirements_utils: Found jaxlib version (0.3.7+cuda11.cudnn805) contains a local version label (+cuda11.cudnn805). MLflow logged a pip requirement for this package as 'jaxlib==0.3.7' without the local version label to make it installable from PyPI. To specify pip requirements containing local version labels, please use `conda_env` or `pip_requirements`.\n"
          ]
        },
        {
          "output_type": "stream",
          "name": "stdout",
          "text": [
            "Modelo:  d7f5644323fb4dbfb025235a5dab3a97\n",
            "Model: \"sequential_6\"\n",
            "_________________________________________________________________\n",
            " Layer (type)                Output Shape              Param #   \n",
            "=================================================================\n",
            " dense_18 (Dense)            (None, 2)                 1570      \n",
            "                                                                 \n",
            " dropout_12 (Dropout)        (None, 2)                 0         \n",
            "                                                                 \n",
            " dense_19 (Dense)            (None, 2)                 6         \n",
            "                                                                 \n",
            " dropout_13 (Dropout)        (None, 2)                 0         \n",
            "                                                                 \n",
            " dense_20 (Dense)            (None, 10)                30        \n",
            "                                                                 \n",
            "=================================================================\n",
            "Total params: 1,606\n",
            "Trainable params: 1,606\n",
            "Non-trainable params: 0\n",
            "_________________________________________________________________\n",
            "Epoch 1/3\n",
            "1875/1875 [==============================] - 6s 3ms/step - loss: 1.7735 - accuracy: 0.2978 - val_loss: 1.4545 - val_accuracy: 0.4033\n",
            "Epoch 2/3\n",
            "1875/1875 [==============================] - 5s 3ms/step - loss: 1.5556 - accuracy: 0.3365 - val_loss: 1.3734 - val_accuracy: 0.4241\n",
            "Epoch 3/3\n",
            "1875/1875 [==============================] - 5s 3ms/step - loss: 1.5199 - accuracy: 0.3458 - val_loss: 1.3634 - val_accuracy: 0.4289\n",
            "INFO:tensorflow:Assets written to: /tmp/tmp7rns7uam/model/data/model/assets\n"
          ]
        },
        {
          "output_type": "stream",
          "name": "stderr",
          "text": [
            "2022/05/04 18:50:56 WARNING mlflow.utils.requirements_utils: Found jaxlib version (0.3.7+cuda11.cudnn805) contains a local version label (+cuda11.cudnn805). MLflow logged a pip requirement for this package as 'jaxlib==0.3.7' without the local version label to make it installable from PyPI. To specify pip requirements containing local version labels, please use `conda_env` or `pip_requirements`.\n"
          ]
        },
        {
          "output_type": "stream",
          "name": "stdout",
          "text": [
            "Modelo:  cc14c110438340df8f76b3dc94311e5f\n",
            "Model: \"sequential_7\"\n",
            "_________________________________________________________________\n",
            " Layer (type)                Output Shape              Param #   \n",
            "=================================================================\n",
            " dense_21 (Dense)            (None, 2)                 1570      \n",
            "                                                                 \n",
            " dropout_14 (Dropout)        (None, 2)                 0         \n",
            "                                                                 \n",
            " dense_22 (Dense)            (None, 2)                 6         \n",
            "                                                                 \n",
            " dropout_15 (Dropout)        (None, 2)                 0         \n",
            "                                                                 \n",
            " dense_23 (Dense)            (None, 10)                30        \n",
            "                                                                 \n",
            "=================================================================\n",
            "Total params: 1,606\n",
            "Trainable params: 1,606\n",
            "Non-trainable params: 0\n",
            "_________________________________________________________________\n",
            "Epoch 1/4\n",
            "   1/1875 [..............................] - ETA: 11:57 - loss: 2.3151 - accuracy: 0.1562WARNING:tensorflow:Callback method `on_train_batch_end` is slow compared to the batch time (batch time: 0.0019s vs `on_train_batch_end` time: 0.0019s). Check your callbacks.\n",
            "1875/1875 [==============================] - 5s 3ms/step - loss: 1.8106 - accuracy: 0.3171 - val_loss: 1.5139 - val_accuracy: 0.4182\n",
            "Epoch 2/4\n",
            "1875/1875 [==============================] - 5s 3ms/step - loss: 1.5927 - accuracy: 0.3453 - val_loss: 1.3961 - val_accuracy: 0.4523\n",
            "Epoch 3/4\n",
            "1875/1875 [==============================] - 5s 3ms/step - loss: 1.5181 - accuracy: 0.3557 - val_loss: 1.3331 - val_accuracy: 0.4694\n",
            "Epoch 4/4\n",
            "1875/1875 [==============================] - 5s 3ms/step - loss: 1.4935 - accuracy: 0.3620 - val_loss: 1.3042 - val_accuracy: 0.4747\n",
            "INFO:tensorflow:Assets written to: /tmp/tmpu39i_m4j/model/data/model/assets\n"
          ]
        },
        {
          "output_type": "stream",
          "name": "stderr",
          "text": [
            "2022/05/04 18:51:22 WARNING mlflow.utils.requirements_utils: Found jaxlib version (0.3.7+cuda11.cudnn805) contains a local version label (+cuda11.cudnn805). MLflow logged a pip requirement for this package as 'jaxlib==0.3.7' without the local version label to make it installable from PyPI. To specify pip requirements containing local version labels, please use `conda_env` or `pip_requirements`.\n"
          ]
        },
        {
          "output_type": "stream",
          "name": "stdout",
          "text": [
            "Modelo:  ffcf78463cf840c7920b09fd56bd7303\n",
            "Model: \"sequential_8\"\n",
            "_________________________________________________________________\n",
            " Layer (type)                Output Shape              Param #   \n",
            "=================================================================\n",
            " dense_24 (Dense)            (None, 2)                 1570      \n",
            "                                                                 \n",
            " dropout_16 (Dropout)        (None, 2)                 0         \n",
            "                                                                 \n",
            " dense_25 (Dense)            (None, 2)                 6         \n",
            "                                                                 \n",
            " dropout_17 (Dropout)        (None, 2)                 0         \n",
            "                                                                 \n",
            " dense_26 (Dense)            (None, 10)                30        \n",
            "                                                                 \n",
            "=================================================================\n",
            "Total params: 1,606\n",
            "Trainable params: 1,606\n",
            "Non-trainable params: 0\n",
            "_________________________________________________________________\n",
            "Epoch 1/5\n",
            "   1/1875 [..............................] - ETA: 12:15 - loss: 2.3074 - accuracy: 0.1250WARNING:tensorflow:Callback method `on_train_batch_end` is slow compared to the batch time (batch time: 0.0018s vs `on_train_batch_end` time: 0.0022s). Check your callbacks.\n",
            "1875/1875 [==============================] - 6s 3ms/step - loss: 1.7782 - accuracy: 0.3245 - val_loss: 1.4522 - val_accuracy: 0.4692\n",
            "Epoch 2/5\n",
            "1875/1875 [==============================] - 5s 3ms/step - loss: 1.5338 - accuracy: 0.3855 - val_loss: 1.3116 - val_accuracy: 0.5258\n",
            "Epoch 3/5\n",
            "1875/1875 [==============================] - 5s 3ms/step - loss: 1.4736 - accuracy: 0.4313 - val_loss: 1.2622 - val_accuracy: 0.5398\n",
            "Epoch 4/5\n",
            "1875/1875 [==============================] - 5s 3ms/step - loss: 1.4560 - accuracy: 0.4394 - val_loss: 1.2249 - val_accuracy: 0.5720\n",
            "Epoch 5/5\n",
            "1875/1875 [==============================] - 5s 3ms/step - loss: 1.4471 - accuracy: 0.4435 - val_loss: 1.2157 - val_accuracy: 0.5848\n",
            "INFO:tensorflow:Assets written to: /tmp/tmphdl6s6u5/model/data/model/assets\n"
          ]
        },
        {
          "output_type": "stream",
          "name": "stderr",
          "text": [
            "2022/05/04 18:51:53 WARNING mlflow.utils.requirements_utils: Found jaxlib version (0.3.7+cuda11.cudnn805) contains a local version label (+cuda11.cudnn805). MLflow logged a pip requirement for this package as 'jaxlib==0.3.7' without the local version label to make it installable from PyPI. To specify pip requirements containing local version labels, please use `conda_env` or `pip_requirements`.\n"
          ]
        },
        {
          "output_type": "stream",
          "name": "stdout",
          "text": [
            "Modelo:  e2003df137bd492895ef6f033df312ef\n",
            "Model: \"sequential_9\"\n",
            "_________________________________________________________________\n",
            " Layer (type)                Output Shape              Param #   \n",
            "=================================================================\n",
            " dense_27 (Dense)            (None, 2)                 1570      \n",
            "                                                                 \n",
            " dropout_18 (Dropout)        (None, 2)                 0         \n",
            "                                                                 \n",
            " dense_28 (Dense)            (None, 2)                 6         \n",
            "                                                                 \n",
            " dropout_19 (Dropout)        (None, 2)                 0         \n",
            "                                                                 \n",
            " dense_29 (Dense)            (None, 10)                30        \n",
            "                                                                 \n",
            "=================================================================\n",
            "Total params: 1,606\n",
            "Trainable params: 1,606\n",
            "Non-trainable params: 0\n",
            "_________________________________________________________________\n",
            "Epoch 1/3\n",
            "   1/1875 [..............................] - ETA: 12:20 - loss: 2.3717 - accuracy: 0.1250WARNING:tensorflow:Callback method `on_train_batch_end` is slow compared to the batch time (batch time: 0.0019s vs `on_train_batch_end` time: 0.0020s). Check your callbacks.\n",
            "1875/1875 [==============================] - 6s 3ms/step - loss: 1.8914 - accuracy: 0.2593 - val_loss: 1.5681 - val_accuracy: 0.4139\n",
            "Epoch 2/3\n",
            "1875/1875 [==============================] - 5s 3ms/step - loss: 1.7510 - accuracy: 0.2721 - val_loss: 1.4863 - val_accuracy: 0.4121\n",
            "Epoch 3/3\n",
            "1875/1875 [==============================] - 5s 3ms/step - loss: 1.7247 - accuracy: 0.2756 - val_loss: 1.4310 - val_accuracy: 0.4198\n",
            "INFO:tensorflow:Assets written to: /tmp/tmpalt05zo7/model/data/model/assets\n"
          ]
        },
        {
          "output_type": "stream",
          "name": "stderr",
          "text": [
            "2022/05/04 18:52:19 WARNING mlflow.utils.requirements_utils: Found jaxlib version (0.3.7+cuda11.cudnn805) contains a local version label (+cuda11.cudnn805). MLflow logged a pip requirement for this package as 'jaxlib==0.3.7' without the local version label to make it installable from PyPI. To specify pip requirements containing local version labels, please use `conda_env` or `pip_requirements`.\n"
          ]
        },
        {
          "output_type": "stream",
          "name": "stdout",
          "text": [
            "Modelo:  d155d08321984a6e9e8bcbb26d264de3\n",
            "Model: \"sequential_10\"\n",
            "_________________________________________________________________\n",
            " Layer (type)                Output Shape              Param #   \n",
            "=================================================================\n",
            " dense_30 (Dense)            (None, 2)                 1570      \n",
            "                                                                 \n",
            " dropout_20 (Dropout)        (None, 2)                 0         \n",
            "                                                                 \n",
            " dense_31 (Dense)            (None, 2)                 6         \n",
            "                                                                 \n",
            " dropout_21 (Dropout)        (None, 2)                 0         \n",
            "                                                                 \n",
            " dense_32 (Dense)            (None, 10)                30        \n",
            "                                                                 \n",
            "=================================================================\n",
            "Total params: 1,606\n",
            "Trainable params: 1,606\n",
            "Non-trainable params: 0\n",
            "_________________________________________________________________\n",
            "Epoch 1/4\n",
            "   1/1875 [..............................] - ETA: 12:13 - loss: 2.2709 - accuracy: 0.0938WARNING:tensorflow:Callback method `on_train_batch_end` is slow compared to the batch time (batch time: 0.0021s vs `on_train_batch_end` time: 0.0029s). Check your callbacks.\n",
            "1875/1875 [==============================] - 5s 3ms/step - loss: 1.8981 - accuracy: 0.2970 - val_loss: 1.5796 - val_accuracy: 0.5340\n",
            "Epoch 2/4\n",
            "1875/1875 [==============================] - 5s 3ms/step - loss: 1.7635 - accuracy: 0.3383 - val_loss: 1.4749 - val_accuracy: 0.5823\n",
            "Epoch 3/4\n",
            "1875/1875 [==============================] - 5s 3ms/step - loss: 1.7238 - accuracy: 0.3459 - val_loss: 1.4382 - val_accuracy: 0.5763\n",
            "Epoch 4/4\n",
            "1875/1875 [==============================] - 5s 3ms/step - loss: 1.7023 - accuracy: 0.3500 - val_loss: 1.4075 - val_accuracy: 0.5909\n",
            "INFO:tensorflow:Assets written to: /tmp/tmpdzzqn5xw/model/data/model/assets\n"
          ]
        },
        {
          "output_type": "stream",
          "name": "stderr",
          "text": [
            "2022/05/04 18:52:45 WARNING mlflow.utils.requirements_utils: Found jaxlib version (0.3.7+cuda11.cudnn805) contains a local version label (+cuda11.cudnn805). MLflow logged a pip requirement for this package as 'jaxlib==0.3.7' without the local version label to make it installable from PyPI. To specify pip requirements containing local version labels, please use `conda_env` or `pip_requirements`.\n"
          ]
        },
        {
          "output_type": "stream",
          "name": "stdout",
          "text": [
            "Modelo:  59239e439430499e93cf5f2d18e98e4d\n",
            "Model: \"sequential_11\"\n",
            "_________________________________________________________________\n",
            " Layer (type)                Output Shape              Param #   \n",
            "=================================================================\n",
            " dense_33 (Dense)            (None, 2)                 1570      \n",
            "                                                                 \n",
            " dropout_22 (Dropout)        (None, 2)                 0         \n",
            "                                                                 \n",
            " dense_34 (Dense)            (None, 2)                 6         \n",
            "                                                                 \n",
            " dropout_23 (Dropout)        (None, 2)                 0         \n",
            "                                                                 \n",
            " dense_35 (Dense)            (None, 10)                30        \n",
            "                                                                 \n",
            "=================================================================\n",
            "Total params: 1,606\n",
            "Trainable params: 1,606\n",
            "Non-trainable params: 0\n",
            "_________________________________________________________________\n",
            "Epoch 1/5\n",
            "   1/1875 [..............................] - ETA: 12:50 - loss: 2.3183 - accuracy: 0.0938WARNING:tensorflow:Callback method `on_train_batch_end` is slow compared to the batch time (batch time: 0.0017s vs `on_train_batch_end` time: 0.0021s). Check your callbacks.\n",
            "1875/1875 [==============================] - 5s 3ms/step - loss: 1.9383 - accuracy: 0.2254 - val_loss: 1.6540 - val_accuracy: 0.3305\n",
            "Epoch 2/5\n",
            "1875/1875 [==============================] - 5s 3ms/step - loss: 1.8064 - accuracy: 0.2537 - val_loss: 1.5620 - val_accuracy: 0.3918\n",
            "Epoch 3/5\n",
            "1875/1875 [==============================] - 5s 3ms/step - loss: 1.7556 - accuracy: 0.2799 - val_loss: 1.4877 - val_accuracy: 0.4535\n",
            "Epoch 4/5\n",
            "1875/1875 [==============================] - 5s 3ms/step - loss: 1.7168 - accuracy: 0.2799 - val_loss: 1.4049 - val_accuracy: 0.4437\n",
            "Epoch 5/5\n",
            "1875/1875 [==============================] - 5s 3ms/step - loss: 1.6807 - accuracy: 0.2823 - val_loss: 1.3681 - val_accuracy: 0.4444\n",
            "INFO:tensorflow:Assets written to: /tmp/tmph0qlt9nf/model/data/model/assets\n"
          ]
        },
        {
          "output_type": "stream",
          "name": "stderr",
          "text": [
            "2022/05/04 18:53:16 WARNING mlflow.utils.requirements_utils: Found jaxlib version (0.3.7+cuda11.cudnn805) contains a local version label (+cuda11.cudnn805). MLflow logged a pip requirement for this package as 'jaxlib==0.3.7' without the local version label to make it installable from PyPI. To specify pip requirements containing local version labels, please use `conda_env` or `pip_requirements`.\n"
          ]
        },
        {
          "output_type": "stream",
          "name": "stdout",
          "text": [
            "Modelo:  c2ebed7df8ce4488b123e359714ef984\n",
            "Model: \"sequential_12\"\n",
            "_________________________________________________________________\n",
            " Layer (type)                Output Shape              Param #   \n",
            "=================================================================\n",
            " dense_36 (Dense)            (None, 4)                 3140      \n",
            "                                                                 \n",
            " dropout_24 (Dropout)        (None, 4)                 0         \n",
            "                                                                 \n",
            " dense_37 (Dense)            (None, 4)                 20        \n",
            "                                                                 \n",
            " dropout_25 (Dropout)        (None, 4)                 0         \n",
            "                                                                 \n",
            " dense_38 (Dense)            (None, 10)                50        \n",
            "                                                                 \n",
            "=================================================================\n",
            "Total params: 3,210\n",
            "Trainable params: 3,210\n",
            "Non-trainable params: 0\n",
            "_________________________________________________________________\n",
            "Epoch 1/3\n",
            "1875/1875 [==============================] - 6s 3ms/step - loss: 1.6337 - accuracy: 0.3982 - val_loss: 1.1907 - val_accuracy: 0.5775\n",
            "Epoch 2/3\n",
            "1875/1875 [==============================] - 5s 3ms/step - loss: 1.3265 - accuracy: 0.5050 - val_loss: 1.0122 - val_accuracy: 0.6524\n",
            "Epoch 3/3\n",
            "1875/1875 [==============================] - 5s 3ms/step - loss: 1.2431 - accuracy: 0.5519 - val_loss: 0.9639 - val_accuracy: 0.6987\n",
            "INFO:tensorflow:Assets written to: /tmp/tmpp1duq3jg/model/data/model/assets\n"
          ]
        },
        {
          "output_type": "stream",
          "name": "stderr",
          "text": [
            "2022/05/04 18:53:42 WARNING mlflow.utils.requirements_utils: Found jaxlib version (0.3.7+cuda11.cudnn805) contains a local version label (+cuda11.cudnn805). MLflow logged a pip requirement for this package as 'jaxlib==0.3.7' without the local version label to make it installable from PyPI. To specify pip requirements containing local version labels, please use `conda_env` or `pip_requirements`.\n"
          ]
        },
        {
          "output_type": "stream",
          "name": "stdout",
          "text": [
            "Modelo:  430d3b6472a342db873b6cc08ff95468\n",
            "Model: \"sequential_13\"\n",
            "_________________________________________________________________\n",
            " Layer (type)                Output Shape              Param #   \n",
            "=================================================================\n",
            " dense_39 (Dense)            (None, 4)                 3140      \n",
            "                                                                 \n",
            " dropout_26 (Dropout)        (None, 4)                 0         \n",
            "                                                                 \n",
            " dense_40 (Dense)            (None, 4)                 20        \n",
            "                                                                 \n",
            " dropout_27 (Dropout)        (None, 4)                 0         \n",
            "                                                                 \n",
            " dense_41 (Dense)            (None, 10)                50        \n",
            "                                                                 \n",
            "=================================================================\n",
            "Total params: 3,210\n",
            "Trainable params: 3,210\n",
            "Non-trainable params: 0\n",
            "_________________________________________________________________\n",
            "Epoch 1/4\n",
            "   1/1875 [..............................] - ETA: 12:33 - loss: 2.3157 - accuracy: 0.1875WARNING:tensorflow:Callback method `on_train_batch_end` is slow compared to the batch time (batch time: 0.0018s vs `on_train_batch_end` time: 0.0021s). Check your callbacks.\n",
            "1875/1875 [==============================] - 5s 3ms/step - loss: 1.5422 - accuracy: 0.4630 - val_loss: 1.0707 - val_accuracy: 0.6948\n",
            "Epoch 2/4\n",
            "1875/1875 [==============================] - 5s 3ms/step - loss: 1.2748 - accuracy: 0.5619 - val_loss: 0.9245 - val_accuracy: 0.7451\n",
            "Epoch 3/4\n",
            "1875/1875 [==============================] - 5s 3ms/step - loss: 1.2052 - accuracy: 0.5925 - val_loss: 0.8780 - val_accuracy: 0.7442\n",
            "Epoch 4/4\n",
            "1875/1875 [==============================] - 5s 3ms/step - loss: 1.1865 - accuracy: 0.5964 - val_loss: 0.8426 - val_accuracy: 0.7695\n",
            "INFO:tensorflow:Assets written to: /tmp/tmppag7wuug/model/data/model/assets\n"
          ]
        },
        {
          "output_type": "stream",
          "name": "stderr",
          "text": [
            "2022/05/04 18:54:08 WARNING mlflow.utils.requirements_utils: Found jaxlib version (0.3.7+cuda11.cudnn805) contains a local version label (+cuda11.cudnn805). MLflow logged a pip requirement for this package as 'jaxlib==0.3.7' without the local version label to make it installable from PyPI. To specify pip requirements containing local version labels, please use `conda_env` or `pip_requirements`.\n"
          ]
        },
        {
          "output_type": "stream",
          "name": "stdout",
          "text": [
            "Modelo:  184e3c5c521a461ca48d25af2a7756b2\n",
            "Model: \"sequential_14\"\n",
            "_________________________________________________________________\n",
            " Layer (type)                Output Shape              Param #   \n",
            "=================================================================\n",
            " dense_42 (Dense)            (None, 4)                 3140      \n",
            "                                                                 \n",
            " dropout_28 (Dropout)        (None, 4)                 0         \n",
            "                                                                 \n",
            " dense_43 (Dense)            (None, 4)                 20        \n",
            "                                                                 \n",
            " dropout_29 (Dropout)        (None, 4)                 0         \n",
            "                                                                 \n",
            " dense_44 (Dense)            (None, 10)                50        \n",
            "                                                                 \n",
            "=================================================================\n",
            "Total params: 3,210\n",
            "Trainable params: 3,210\n",
            "Non-trainable params: 0\n",
            "_________________________________________________________________\n",
            "Epoch 1/5\n",
            "   1/1875 [..............................] - ETA: 12:54 - loss: 2.3042 - accuracy: 0.0625WARNING:tensorflow:Callback method `on_train_batch_end` is slow compared to the batch time (batch time: 0.0019s vs `on_train_batch_end` time: 0.0021s). Check your callbacks.\n",
            "1875/1875 [==============================] - 5s 3ms/step - loss: 1.5285 - accuracy: 0.4270 - val_loss: 1.0290 - val_accuracy: 0.6931\n",
            "Epoch 2/5\n",
            "1875/1875 [==============================] - 5s 3ms/step - loss: 1.2409 - accuracy: 0.5912 - val_loss: 0.8762 - val_accuracy: 0.7829\n",
            "Epoch 3/5\n",
            "1875/1875 [==============================] - 5s 3ms/step - loss: 1.1735 - accuracy: 0.6259 - val_loss: 0.8109 - val_accuracy: 0.7858\n",
            "Epoch 4/5\n",
            "1875/1875 [==============================] - 5s 3ms/step - loss: 1.1411 - accuracy: 0.6361 - val_loss: 0.7630 - val_accuracy: 0.8123\n",
            "Epoch 5/5\n",
            "1875/1875 [==============================] - 5s 3ms/step - loss: 1.1176 - accuracy: 0.6403 - val_loss: 0.7352 - val_accuracy: 0.8192\n",
            "INFO:tensorflow:Assets written to: /tmp/tmp_8ykcizg/model/data/model/assets\n"
          ]
        },
        {
          "output_type": "stream",
          "name": "stderr",
          "text": [
            "2022/05/04 18:54:39 WARNING mlflow.utils.requirements_utils: Found jaxlib version (0.3.7+cuda11.cudnn805) contains a local version label (+cuda11.cudnn805). MLflow logged a pip requirement for this package as 'jaxlib==0.3.7' without the local version label to make it installable from PyPI. To specify pip requirements containing local version labels, please use `conda_env` or `pip_requirements`.\n"
          ]
        },
        {
          "output_type": "stream",
          "name": "stdout",
          "text": [
            "Modelo:  a44432cc163f4fdfb376557cb24e712c\n",
            "Model: \"sequential_15\"\n",
            "_________________________________________________________________\n",
            " Layer (type)                Output Shape              Param #   \n",
            "=================================================================\n",
            " dense_45 (Dense)            (None, 4)                 3140      \n",
            "                                                                 \n",
            " dropout_30 (Dropout)        (None, 4)                 0         \n",
            "                                                                 \n",
            " dense_46 (Dense)            (None, 4)                 20        \n",
            "                                                                 \n",
            " dropout_31 (Dropout)        (None, 4)                 0         \n",
            "                                                                 \n",
            " dense_47 (Dense)            (None, 10)                50        \n",
            "                                                                 \n",
            "=================================================================\n",
            "Total params: 3,210\n",
            "Trainable params: 3,210\n",
            "Non-trainable params: 0\n",
            "_________________________________________________________________\n",
            "Epoch 1/3\n",
            "1875/1875 [==============================] - 5s 3ms/step - loss: 1.8526 - accuracy: 0.2817 - val_loss: 1.4188 - val_accuracy: 0.5726\n",
            "Epoch 2/3\n",
            "1875/1875 [==============================] - 5s 3ms/step - loss: 1.6298 - accuracy: 0.3838 - val_loss: 1.2498 - val_accuracy: 0.6265\n",
            "Epoch 3/3\n",
            "1875/1875 [==============================] - 5s 3ms/step - loss: 1.5834 - accuracy: 0.4139 - val_loss: 1.1885 - val_accuracy: 0.6810\n",
            "INFO:tensorflow:Assets written to: /tmp/tmprd265dib/model/data/model/assets\n"
          ]
        },
        {
          "output_type": "stream",
          "name": "stderr",
          "text": [
            "2022/05/04 18:55:05 WARNING mlflow.utils.requirements_utils: Found jaxlib version (0.3.7+cuda11.cudnn805) contains a local version label (+cuda11.cudnn805). MLflow logged a pip requirement for this package as 'jaxlib==0.3.7' without the local version label to make it installable from PyPI. To specify pip requirements containing local version labels, please use `conda_env` or `pip_requirements`.\n"
          ]
        },
        {
          "output_type": "stream",
          "name": "stdout",
          "text": [
            "Modelo:  d8637529346840f0a2a57cc78cefeee0\n",
            "Model: \"sequential_16\"\n",
            "_________________________________________________________________\n",
            " Layer (type)                Output Shape              Param #   \n",
            "=================================================================\n",
            " dense_48 (Dense)            (None, 4)                 3140      \n",
            "                                                                 \n",
            " dropout_32 (Dropout)        (None, 4)                 0         \n",
            "                                                                 \n",
            " dense_49 (Dense)            (None, 4)                 20        \n",
            "                                                                 \n",
            " dropout_33 (Dropout)        (None, 4)                 0         \n",
            "                                                                 \n",
            " dense_50 (Dense)            (None, 10)                50        \n",
            "                                                                 \n",
            "=================================================================\n",
            "Total params: 3,210\n",
            "Trainable params: 3,210\n",
            "Non-trainable params: 0\n",
            "_________________________________________________________________\n",
            "Epoch 1/4\n",
            "   1/1875 [..............................] - ETA: 12:05 - loss: 2.3318 - accuracy: 0.0938WARNING:tensorflow:Callback method `on_train_batch_end` is slow compared to the batch time (batch time: 0.0019s vs `on_train_batch_end` time: 0.0022s). Check your callbacks.\n",
            "1875/1875 [==============================] - 6s 3ms/step - loss: 1.7656 - accuracy: 0.3357 - val_loss: 1.1981 - val_accuracy: 0.6306\n",
            "Epoch 2/4\n",
            "1875/1875 [==============================] - 5s 3ms/step - loss: 1.5101 - accuracy: 0.4303 - val_loss: 1.0879 - val_accuracy: 0.6720\n",
            "Epoch 3/4\n",
            "1875/1875 [==============================] - 5s 3ms/step - loss: 1.4577 - accuracy: 0.4451 - val_loss: 1.0182 - val_accuracy: 0.6899\n",
            "Epoch 4/4\n",
            "1875/1875 [==============================] - 5s 3ms/step - loss: 1.4475 - accuracy: 0.4472 - val_loss: 1.0001 - val_accuracy: 0.7036\n",
            "INFO:tensorflow:Assets written to: /tmp/tmp_qs476qz/model/data/model/assets\n"
          ]
        },
        {
          "output_type": "stream",
          "name": "stderr",
          "text": [
            "2022/05/04 18:55:31 WARNING mlflow.utils.requirements_utils: Found jaxlib version (0.3.7+cuda11.cudnn805) contains a local version label (+cuda11.cudnn805). MLflow logged a pip requirement for this package as 'jaxlib==0.3.7' without the local version label to make it installable from PyPI. To specify pip requirements containing local version labels, please use `conda_env` or `pip_requirements`.\n"
          ]
        },
        {
          "output_type": "stream",
          "name": "stdout",
          "text": [
            "Modelo:  76cfda5cdca745a5bc3e75b7ac3fb7a0\n",
            "Model: \"sequential_17\"\n",
            "_________________________________________________________________\n",
            " Layer (type)                Output Shape              Param #   \n",
            "=================================================================\n",
            " dense_51 (Dense)            (None, 4)                 3140      \n",
            "                                                                 \n",
            " dropout_34 (Dropout)        (None, 4)                 0         \n",
            "                                                                 \n",
            " dense_52 (Dense)            (None, 4)                 20        \n",
            "                                                                 \n",
            " dropout_35 (Dropout)        (None, 4)                 0         \n",
            "                                                                 \n",
            " dense_53 (Dense)            (None, 10)                50        \n",
            "                                                                 \n",
            "=================================================================\n",
            "Total params: 3,210\n",
            "Trainable params: 3,210\n",
            "Non-trainable params: 0\n",
            "_________________________________________________________________\n",
            "Epoch 1/5\n",
            "   1/1875 [..............................] - ETA: 12:30 - loss: 2.3021 - accuracy: 0.0625WARNING:tensorflow:Callback method `on_train_batch_end` is slow compared to the batch time (batch time: 0.0019s vs `on_train_batch_end` time: 0.0023s). Check your callbacks.\n",
            "1875/1875 [==============================] - 6s 3ms/step - loss: 1.8321 - accuracy: 0.2822 - val_loss: 1.4511 - val_accuracy: 0.5478\n",
            "Epoch 2/5\n",
            "1875/1875 [==============================] - 5s 3ms/step - loss: 1.6439 - accuracy: 0.4022 - val_loss: 1.2854 - val_accuracy: 0.6030\n",
            "Epoch 3/5\n",
            "1875/1875 [==============================] - 5s 3ms/step - loss: 1.5683 - accuracy: 0.4369 - val_loss: 1.1767 - val_accuracy: 0.6749\n",
            "Epoch 4/5\n",
            "1875/1875 [==============================] - 5s 3ms/step - loss: 1.5151 - accuracy: 0.4573 - val_loss: 1.1029 - val_accuracy: 0.6619\n",
            "Epoch 5/5\n",
            "1875/1875 [==============================] - 5s 3ms/step - loss: 1.4867 - accuracy: 0.4752 - val_loss: 1.0849 - val_accuracy: 0.6864\n",
            "INFO:tensorflow:Assets written to: /tmp/tmpcj37b6x2/model/data/model/assets\n"
          ]
        },
        {
          "output_type": "stream",
          "name": "stderr",
          "text": [
            "2022/05/04 18:56:02 WARNING mlflow.utils.requirements_utils: Found jaxlib version (0.3.7+cuda11.cudnn805) contains a local version label (+cuda11.cudnn805). MLflow logged a pip requirement for this package as 'jaxlib==0.3.7' without the local version label to make it installable from PyPI. To specify pip requirements containing local version labels, please use `conda_env` or `pip_requirements`.\n"
          ]
        },
        {
          "output_type": "stream",
          "name": "stdout",
          "text": [
            "Modelo:  52c66323553e498a8379856aead9cea0\n",
            "Model: \"sequential_18\"\n",
            "_________________________________________________________________\n",
            " Layer (type)                Output Shape              Param #   \n",
            "=================================================================\n",
            " dense_54 (Dense)            (None, 4)                 3140      \n",
            "                                                                 \n",
            " dropout_36 (Dropout)        (None, 4)                 0         \n",
            "                                                                 \n",
            " dense_55 (Dense)            (None, 4)                 20        \n",
            "                                                                 \n",
            " dropout_37 (Dropout)        (None, 4)                 0         \n",
            "                                                                 \n",
            " dense_56 (Dense)            (None, 10)                50        \n",
            "                                                                 \n",
            "=================================================================\n",
            "Total params: 3,210\n",
            "Trainable params: 3,210\n",
            "Non-trainable params: 0\n",
            "_________________________________________________________________\n",
            "Epoch 1/3\n",
            "1875/1875 [==============================] - 6s 3ms/step - loss: 1.4709 - accuracy: 0.4995 - val_loss: 1.0313 - val_accuracy: 0.6684\n",
            "Epoch 2/3\n",
            "1875/1875 [==============================] - 5s 3ms/step - loss: 1.1413 - accuracy: 0.5778 - val_loss: 0.8895 - val_accuracy: 0.7325\n",
            "Epoch 3/3\n",
            "1875/1875 [==============================] - 5s 3ms/step - loss: 1.0456 - accuracy: 0.6199 - val_loss: 0.7934 - val_accuracy: 0.7604\n",
            "INFO:tensorflow:Assets written to: /tmp/tmpppijdh6r/model/data/model/assets\n"
          ]
        },
        {
          "output_type": "stream",
          "name": "stderr",
          "text": [
            "2022/05/04 18:56:28 WARNING mlflow.utils.requirements_utils: Found jaxlib version (0.3.7+cuda11.cudnn805) contains a local version label (+cuda11.cudnn805). MLflow logged a pip requirement for this package as 'jaxlib==0.3.7' without the local version label to make it installable from PyPI. To specify pip requirements containing local version labels, please use `conda_env` or `pip_requirements`.\n"
          ]
        },
        {
          "output_type": "stream",
          "name": "stdout",
          "text": [
            "Modelo:  77eb1d1d1e1246609823cfb9d1967f6d\n",
            "Model: \"sequential_19\"\n",
            "_________________________________________________________________\n",
            " Layer (type)                Output Shape              Param #   \n",
            "=================================================================\n",
            " dense_57 (Dense)            (None, 4)                 3140      \n",
            "                                                                 \n",
            " dropout_38 (Dropout)        (None, 4)                 0         \n",
            "                                                                 \n",
            " dense_58 (Dense)            (None, 4)                 20        \n",
            "                                                                 \n",
            " dropout_39 (Dropout)        (None, 4)                 0         \n",
            "                                                                 \n",
            " dense_59 (Dense)            (None, 10)                50        \n",
            "                                                                 \n",
            "=================================================================\n",
            "Total params: 3,210\n",
            "Trainable params: 3,210\n",
            "Non-trainable params: 0\n",
            "_________________________________________________________________\n",
            "Epoch 1/4\n",
            "   1/1875 [..............................] - ETA: 12:33 - loss: 2.2725 - accuracy: 0.1875WARNING:tensorflow:Callback method `on_train_batch_end` is slow compared to the batch time (batch time: 0.0019s vs `on_train_batch_end` time: 0.0021s). Check your callbacks.\n",
            "1875/1875 [==============================] - 6s 3ms/step - loss: 1.3187 - accuracy: 0.5839 - val_loss: 0.8019 - val_accuracy: 0.8114\n",
            "Epoch 2/4\n",
            "1875/1875 [==============================] - 5s 3ms/step - loss: 0.9596 - accuracy: 0.6750 - val_loss: 0.6720 - val_accuracy: 0.8240\n",
            "Epoch 3/4\n",
            "1875/1875 [==============================] - 5s 3ms/step - loss: 0.9062 - accuracy: 0.6919 - val_loss: 0.6421 - val_accuracy: 0.8261\n",
            "Epoch 4/4\n",
            "1875/1875 [==============================] - 5s 3ms/step - loss: 0.8860 - accuracy: 0.6958 - val_loss: 0.6394 - val_accuracy: 0.8193\n",
            "INFO:tensorflow:Assets written to: /tmp/tmpw2pmb6_2/model/data/model/assets\n"
          ]
        },
        {
          "output_type": "stream",
          "name": "stderr",
          "text": [
            "2022/05/04 18:56:55 WARNING mlflow.utils.requirements_utils: Found jaxlib version (0.3.7+cuda11.cudnn805) contains a local version label (+cuda11.cudnn805). MLflow logged a pip requirement for this package as 'jaxlib==0.3.7' without the local version label to make it installable from PyPI. To specify pip requirements containing local version labels, please use `conda_env` or `pip_requirements`.\n"
          ]
        },
        {
          "output_type": "stream",
          "name": "stdout",
          "text": [
            "Modelo:  5b10f35c2a6b4079a411192695d15fd9\n",
            "Model: \"sequential_20\"\n",
            "_________________________________________________________________\n",
            " Layer (type)                Output Shape              Param #   \n",
            "=================================================================\n",
            " dense_60 (Dense)            (None, 4)                 3140      \n",
            "                                                                 \n",
            " dropout_40 (Dropout)        (None, 4)                 0         \n",
            "                                                                 \n",
            " dense_61 (Dense)            (None, 4)                 20        \n",
            "                                                                 \n",
            " dropout_41 (Dropout)        (None, 4)                 0         \n",
            "                                                                 \n",
            " dense_62 (Dense)            (None, 10)                50        \n",
            "                                                                 \n",
            "=================================================================\n",
            "Total params: 3,210\n",
            "Trainable params: 3,210\n",
            "Non-trainable params: 0\n",
            "_________________________________________________________________\n",
            "Epoch 1/5\n",
            "1875/1875 [==============================] - 5s 3ms/step - loss: 1.4328 - accuracy: 0.4876 - val_loss: 1.0251 - val_accuracy: 0.6566\n",
            "Epoch 2/5\n",
            "1875/1875 [==============================] - 5s 3ms/step - loss: 1.1008 - accuracy: 0.6057 - val_loss: 0.8501 - val_accuracy: 0.7543\n",
            "Epoch 3/5\n",
            "1875/1875 [==============================] - 5s 3ms/step - loss: 1.0109 - accuracy: 0.6378 - val_loss: 0.7583 - val_accuracy: 0.7805\n",
            "Epoch 4/5\n",
            "1875/1875 [==============================] - 5s 3ms/step - loss: 0.9688 - accuracy: 0.6514 - val_loss: 0.7231 - val_accuracy: 0.7868\n",
            "Epoch 5/5\n",
            "1875/1875 [==============================] - 5s 3ms/step - loss: 0.9458 - accuracy: 0.6600 - val_loss: 0.6816 - val_accuracy: 0.7983\n",
            "INFO:tensorflow:Assets written to: /tmp/tmp8q7970we/model/data/model/assets\n"
          ]
        },
        {
          "output_type": "stream",
          "name": "stderr",
          "text": [
            "2022/05/04 18:57:26 WARNING mlflow.utils.requirements_utils: Found jaxlib version (0.3.7+cuda11.cudnn805) contains a local version label (+cuda11.cudnn805). MLflow logged a pip requirement for this package as 'jaxlib==0.3.7' without the local version label to make it installable from PyPI. To specify pip requirements containing local version labels, please use `conda_env` or `pip_requirements`.\n"
          ]
        },
        {
          "output_type": "stream",
          "name": "stdout",
          "text": [
            "Modelo:  0d8046bc1ce0493e9cfa39fd6affcd79\n",
            "Model: \"sequential_21\"\n",
            "_________________________________________________________________\n",
            " Layer (type)                Output Shape              Param #   \n",
            "=================================================================\n",
            " dense_63 (Dense)            (None, 4)                 3140      \n",
            "                                                                 \n",
            " dropout_42 (Dropout)        (None, 4)                 0         \n",
            "                                                                 \n",
            " dense_64 (Dense)            (None, 4)                 20        \n",
            "                                                                 \n",
            " dropout_43 (Dropout)        (None, 4)                 0         \n",
            "                                                                 \n",
            " dense_65 (Dense)            (None, 10)                50        \n",
            "                                                                 \n",
            "=================================================================\n",
            "Total params: 3,210\n",
            "Trainable params: 3,210\n",
            "Non-trainable params: 0\n",
            "_________________________________________________________________\n",
            "Epoch 1/3\n",
            "1875/1875 [==============================] - 6s 3ms/step - loss: 1.6006 - accuracy: 0.4147 - val_loss: 1.0866 - val_accuracy: 0.6533\n",
            "Epoch 2/3\n",
            "1875/1875 [==============================] - 5s 3ms/step - loss: 1.3223 - accuracy: 0.4923 - val_loss: 0.8643 - val_accuracy: 0.7405\n",
            "Epoch 3/3\n",
            "1875/1875 [==============================] - 5s 3ms/step - loss: 1.2123 - accuracy: 0.5313 - val_loss: 0.7712 - val_accuracy: 0.7721\n",
            "INFO:tensorflow:Assets written to: /tmp/tmphpu25kx9/model/data/model/assets\n"
          ]
        },
        {
          "output_type": "stream",
          "name": "stderr",
          "text": [
            "2022/05/04 18:57:52 WARNING mlflow.utils.requirements_utils: Found jaxlib version (0.3.7+cuda11.cudnn805) contains a local version label (+cuda11.cudnn805). MLflow logged a pip requirement for this package as 'jaxlib==0.3.7' without the local version label to make it installable from PyPI. To specify pip requirements containing local version labels, please use `conda_env` or `pip_requirements`.\n"
          ]
        },
        {
          "output_type": "stream",
          "name": "stdout",
          "text": [
            "Modelo:  38ffa607e37f4f0caf39a9dca73cc9a4\n",
            "Model: \"sequential_22\"\n",
            "_________________________________________________________________\n",
            " Layer (type)                Output Shape              Param #   \n",
            "=================================================================\n",
            " dense_66 (Dense)            (None, 4)                 3140      \n",
            "                                                                 \n",
            " dropout_44 (Dropout)        (None, 4)                 0         \n",
            "                                                                 \n",
            " dense_67 (Dense)            (None, 4)                 20        \n",
            "                                                                 \n",
            " dropout_45 (Dropout)        (None, 4)                 0         \n",
            "                                                                 \n",
            " dense_68 (Dense)            (None, 10)                50        \n",
            "                                                                 \n",
            "=================================================================\n",
            "Total params: 3,210\n",
            "Trainable params: 3,210\n",
            "Non-trainable params: 0\n",
            "_________________________________________________________________\n",
            "Epoch 1/4\n",
            "   1/1875 [..............................] - ETA: 12:39 - loss: 2.4888 - accuracy: 0.0312WARNING:tensorflow:Callback method `on_train_batch_end` is slow compared to the batch time (batch time: 0.0018s vs `on_train_batch_end` time: 0.0020s). Check your callbacks.\n",
            "1875/1875 [==============================] - 5s 3ms/step - loss: 1.5256 - accuracy: 0.4456 - val_loss: 1.0028 - val_accuracy: 0.6489\n",
            "Epoch 2/4\n",
            "1875/1875 [==============================] - 5s 3ms/step - loss: 1.2421 - accuracy: 0.5106 - val_loss: 0.8791 - val_accuracy: 0.7060\n",
            "Epoch 3/4\n",
            "1875/1875 [==============================] - 5s 3ms/step - loss: 1.1900 - accuracy: 0.5244 - val_loss: 0.8431 - val_accuracy: 0.6671\n",
            "Epoch 4/4\n",
            "1875/1875 [==============================] - 5s 3ms/step - loss: 1.1680 - accuracy: 0.5265 - val_loss: 0.8196 - val_accuracy: 0.6997\n",
            "INFO:tensorflow:Assets written to: /tmp/tmpstm8u493/model/data/model/assets\n"
          ]
        },
        {
          "output_type": "stream",
          "name": "stderr",
          "text": [
            "2022/05/04 18:58:18 WARNING mlflow.utils.requirements_utils: Found jaxlib version (0.3.7+cuda11.cudnn805) contains a local version label (+cuda11.cudnn805). MLflow logged a pip requirement for this package as 'jaxlib==0.3.7' without the local version label to make it installable from PyPI. To specify pip requirements containing local version labels, please use `conda_env` or `pip_requirements`.\n"
          ]
        },
        {
          "output_type": "stream",
          "name": "stdout",
          "text": [
            "Modelo:  e6530f5198a14db4bf88a02cfe5dcc4a\n",
            "Model: \"sequential_23\"\n",
            "_________________________________________________________________\n",
            " Layer (type)                Output Shape              Param #   \n",
            "=================================================================\n",
            " dense_69 (Dense)            (None, 4)                 3140      \n",
            "                                                                 \n",
            " dropout_46 (Dropout)        (None, 4)                 0         \n",
            "                                                                 \n",
            " dense_70 (Dense)            (None, 4)                 20        \n",
            "                                                                 \n",
            " dropout_47 (Dropout)        (None, 4)                 0         \n",
            "                                                                 \n",
            " dense_71 (Dense)            (None, 10)                50        \n",
            "                                                                 \n",
            "=================================================================\n",
            "Total params: 3,210\n",
            "Trainable params: 3,210\n",
            "Non-trainable params: 0\n",
            "_________________________________________________________________\n",
            "Epoch 1/5\n",
            "1875/1875 [==============================] - 6s 3ms/step - loss: 1.5660 - accuracy: 0.4307 - val_loss: 1.1116 - val_accuracy: 0.6415\n",
            "Epoch 2/5\n",
            "1875/1875 [==============================] - 5s 3ms/step - loss: 1.3388 - accuracy: 0.4887 - val_loss: 1.0069 - val_accuracy: 0.6472\n",
            "Epoch 3/5\n",
            "1875/1875 [==============================] - 5s 3ms/step - loss: 1.2951 - accuracy: 0.5026 - val_loss: 0.9805 - val_accuracy: 0.6818\n",
            "Epoch 4/5\n",
            "1875/1875 [==============================] - 5s 3ms/step - loss: 1.2669 - accuracy: 0.5078 - val_loss: 0.9209 - val_accuracy: 0.7009\n",
            "Epoch 5/5\n",
            "1875/1875 [==============================] - 5s 3ms/step - loss: 1.2560 - accuracy: 0.5106 - val_loss: 0.8943 - val_accuracy: 0.7082\n",
            "INFO:tensorflow:Assets written to: /tmp/tmpascmotut/model/data/model/assets\n"
          ]
        },
        {
          "output_type": "stream",
          "name": "stderr",
          "text": [
            "2022/05/04 18:58:49 WARNING mlflow.utils.requirements_utils: Found jaxlib version (0.3.7+cuda11.cudnn805) contains a local version label (+cuda11.cudnn805). MLflow logged a pip requirement for this package as 'jaxlib==0.3.7' without the local version label to make it installable from PyPI. To specify pip requirements containing local version labels, please use `conda_env` or `pip_requirements`.\n"
          ]
        },
        {
          "output_type": "stream",
          "name": "stdout",
          "text": [
            "Modelo:  52ba75df3cd84d70bae8c328524471d4\n",
            "Model: \"sequential_24\"\n",
            "_________________________________________________________________\n",
            " Layer (type)                Output Shape              Param #   \n",
            "=================================================================\n",
            " dense_72 (Dense)            (None, 6)                 4710      \n",
            "                                                                 \n",
            " dropout_48 (Dropout)        (None, 6)                 0         \n",
            "                                                                 \n",
            " dense_73 (Dense)            (None, 6)                 42        \n",
            "                                                                 \n",
            " dropout_49 (Dropout)        (None, 6)                 0         \n",
            "                                                                 \n",
            " dense_74 (Dense)            (None, 10)                70        \n",
            "                                                                 \n",
            "=================================================================\n",
            "Total params: 4,822\n",
            "Trainable params: 4,822\n",
            "Non-trainable params: 0\n",
            "_________________________________________________________________\n",
            "Epoch 1/3\n",
            "   1/1875 [..............................] - ETA: 12:32 - loss: 2.2629 - accuracy: 0.2188WARNING:tensorflow:Callback method `on_train_batch_end` is slow compared to the batch time (batch time: 0.0018s vs `on_train_batch_end` time: 0.0020s). Check your callbacks.\n",
            "1875/1875 [==============================] - 6s 3ms/step - loss: 1.3027 - accuracy: 0.5543 - val_loss: 0.7112 - val_accuracy: 0.8299\n",
            "Epoch 2/3\n",
            "1875/1875 [==============================] - 5s 3ms/step - loss: 1.0155 - accuracy: 0.6519 - val_loss: 0.6225 - val_accuracy: 0.8584\n",
            "Epoch 3/3\n",
            "1875/1875 [==============================] - 5s 3ms/step - loss: 0.9641 - accuracy: 0.6692 - val_loss: 0.5862 - val_accuracy: 0.8651\n",
            "INFO:tensorflow:Assets written to: /tmp/tmpp77x2csl/model/data/model/assets\n"
          ]
        },
        {
          "output_type": "stream",
          "name": "stderr",
          "text": [
            "2022/05/04 18:59:15 WARNING mlflow.utils.requirements_utils: Found jaxlib version (0.3.7+cuda11.cudnn805) contains a local version label (+cuda11.cudnn805). MLflow logged a pip requirement for this package as 'jaxlib==0.3.7' without the local version label to make it installable from PyPI. To specify pip requirements containing local version labels, please use `conda_env` or `pip_requirements`.\n"
          ]
        },
        {
          "output_type": "stream",
          "name": "stdout",
          "text": [
            "Modelo:  aef5f2d6e3bd40fc888e000ced377b63\n",
            "Model: \"sequential_25\"\n",
            "_________________________________________________________________\n",
            " Layer (type)                Output Shape              Param #   \n",
            "=================================================================\n",
            " dense_75 (Dense)            (None, 6)                 4710      \n",
            "                                                                 \n",
            " dropout_50 (Dropout)        (None, 6)                 0         \n",
            "                                                                 \n",
            " dense_76 (Dense)            (None, 6)                 42        \n",
            "                                                                 \n",
            " dropout_51 (Dropout)        (None, 6)                 0         \n",
            "                                                                 \n",
            " dense_77 (Dense)            (None, 10)                70        \n",
            "                                                                 \n",
            "=================================================================\n",
            "Total params: 4,822\n",
            "Trainable params: 4,822\n",
            "Non-trainable params: 0\n",
            "_________________________________________________________________\n",
            "Epoch 1/4\n",
            "   1/1875 [..............................] - ETA: 12:19 - loss: 2.3096 - accuracy: 0.1875WARNING:tensorflow:Callback method `on_train_batch_end` is slow compared to the batch time (batch time: 0.0018s vs `on_train_batch_end` time: 0.0022s). Check your callbacks.\n",
            "1875/1875 [==============================] - 5s 3ms/step - loss: 1.3474 - accuracy: 0.5114 - val_loss: 0.7926 - val_accuracy: 0.7956\n",
            "Epoch 2/4\n",
            "1875/1875 [==============================] - 5s 3ms/step - loss: 1.0175 - accuracy: 0.6456 - val_loss: 0.6295 - val_accuracy: 0.8379\n",
            "Epoch 3/4\n",
            "1875/1875 [==============================] - 5s 3ms/step - loss: 0.9148 - accuracy: 0.6930 - val_loss: 0.5725 - val_accuracy: 0.8529\n",
            "Epoch 4/4\n",
            "1875/1875 [==============================] - 5s 3ms/step - loss: 0.8535 - accuracy: 0.7230 - val_loss: 0.5239 - val_accuracy: 0.8707\n",
            "INFO:tensorflow:Assets written to: /tmp/tmpect8livl/model/data/model/assets\n"
          ]
        },
        {
          "output_type": "stream",
          "name": "stderr",
          "text": [
            "2022/05/04 18:59:41 WARNING mlflow.utils.requirements_utils: Found jaxlib version (0.3.7+cuda11.cudnn805) contains a local version label (+cuda11.cudnn805). MLflow logged a pip requirement for this package as 'jaxlib==0.3.7' without the local version label to make it installable from PyPI. To specify pip requirements containing local version labels, please use `conda_env` or `pip_requirements`.\n"
          ]
        },
        {
          "output_type": "stream",
          "name": "stdout",
          "text": [
            "Modelo:  e0b6fdcc445b45548bdf866f356131cc\n",
            "Model: \"sequential_26\"\n",
            "_________________________________________________________________\n",
            " Layer (type)                Output Shape              Param #   \n",
            "=================================================================\n",
            " dense_78 (Dense)            (None, 6)                 4710      \n",
            "                                                                 \n",
            " dropout_52 (Dropout)        (None, 6)                 0         \n",
            "                                                                 \n",
            " dense_79 (Dense)            (None, 6)                 42        \n",
            "                                                                 \n",
            " dropout_53 (Dropout)        (None, 6)                 0         \n",
            "                                                                 \n",
            " dense_80 (Dense)            (None, 10)                70        \n",
            "                                                                 \n",
            "=================================================================\n",
            "Total params: 4,822\n",
            "Trainable params: 4,822\n",
            "Non-trainable params: 0\n",
            "_________________________________________________________________\n",
            "Epoch 1/5\n",
            "   1/1875 [..............................] - ETA: 12:16 - loss: 2.3454 - accuracy: 0.1250WARNING:tensorflow:Callback method `on_train_batch_end` is slow compared to the batch time (batch time: 0.0019s vs `on_train_batch_end` time: 0.0021s). Check your callbacks.\n",
            "1875/1875 [==============================] - 5s 3ms/step - loss: 1.2914 - accuracy: 0.5195 - val_loss: 0.6646 - val_accuracy: 0.8365\n",
            "Epoch 2/5\n",
            "1875/1875 [==============================] - 5s 3ms/step - loss: 0.9262 - accuracy: 0.6664 - val_loss: 0.5664 - val_accuracy: 0.8530\n",
            "Epoch 3/5\n",
            "1875/1875 [==============================] - 5s 3ms/step - loss: 0.8639 - accuracy: 0.6901 - val_loss: 0.5195 - val_accuracy: 0.8615\n",
            "Epoch 4/5\n",
            "1875/1875 [==============================] - 5s 3ms/step - loss: 0.8506 - accuracy: 0.6978 - val_loss: 0.5009 - val_accuracy: 0.8627\n",
            "Epoch 5/5\n",
            "1875/1875 [==============================] - 5s 3ms/step - loss: 0.8318 - accuracy: 0.7040 - val_loss: 0.4872 - val_accuracy: 0.8696\n",
            "INFO:tensorflow:Assets written to: /tmp/tmpfaa0ovz7/model/data/model/assets\n"
          ]
        },
        {
          "output_type": "stream",
          "name": "stderr",
          "text": [
            "2022/05/04 19:00:28 WARNING mlflow.utils.requirements_utils: Found jaxlib version (0.3.7+cuda11.cudnn805) contains a local version label (+cuda11.cudnn805). MLflow logged a pip requirement for this package as 'jaxlib==0.3.7' without the local version label to make it installable from PyPI. To specify pip requirements containing local version labels, please use `conda_env` or `pip_requirements`.\n"
          ]
        },
        {
          "output_type": "stream",
          "name": "stdout",
          "text": [
            "Modelo:  052a07666798465c90fd852a1ed596e6\n",
            "Model: \"sequential_27\"\n",
            "_________________________________________________________________\n",
            " Layer (type)                Output Shape              Param #   \n",
            "=================================================================\n",
            " dense_81 (Dense)            (None, 6)                 4710      \n",
            "                                                                 \n",
            " dropout_54 (Dropout)        (None, 6)                 0         \n",
            "                                                                 \n",
            " dense_82 (Dense)            (None, 6)                 42        \n",
            "                                                                 \n",
            " dropout_55 (Dropout)        (None, 6)                 0         \n",
            "                                                                 \n",
            " dense_83 (Dense)            (None, 10)                70        \n",
            "                                                                 \n",
            "=================================================================\n",
            "Total params: 4,822\n",
            "Trainable params: 4,822\n",
            "Non-trainable params: 0\n",
            "_________________________________________________________________\n",
            "Epoch 1/3\n",
            "   1/1875 [..............................] - ETA: 12:43 - loss: 2.2764 - accuracy: 0.0625WARNING:tensorflow:Callback method `on_train_batch_end` is slow compared to the batch time (batch time: 0.0017s vs `on_train_batch_end` time: 0.0027s). Check your callbacks.\n",
            "1875/1875 [==============================] - 6s 3ms/step - loss: 1.5104 - accuracy: 0.4702 - val_loss: 0.8775 - val_accuracy: 0.7866\n",
            "Epoch 2/3\n",
            "1875/1875 [==============================] - 5s 3ms/step - loss: 1.2344 - accuracy: 0.5729 - val_loss: 0.7851 - val_accuracy: 0.8018\n",
            "Epoch 3/3\n",
            "1875/1875 [==============================] - 5s 3ms/step - loss: 1.1845 - accuracy: 0.5986 - val_loss: 0.7066 - val_accuracy: 0.8432\n",
            "INFO:tensorflow:Assets written to: /tmp/tmp7d5y830u/model/data/model/assets\n"
          ]
        },
        {
          "output_type": "stream",
          "name": "stderr",
          "text": [
            "2022/05/04 19:00:54 WARNING mlflow.utils.requirements_utils: Found jaxlib version (0.3.7+cuda11.cudnn805) contains a local version label (+cuda11.cudnn805). MLflow logged a pip requirement for this package as 'jaxlib==0.3.7' without the local version label to make it installable from PyPI. To specify pip requirements containing local version labels, please use `conda_env` or `pip_requirements`.\n"
          ]
        },
        {
          "output_type": "stream",
          "name": "stdout",
          "text": [
            "Modelo:  804abec1f3ba42afb89c6cea743f8946\n",
            "Model: \"sequential_28\"\n",
            "_________________________________________________________________\n",
            " Layer (type)                Output Shape              Param #   \n",
            "=================================================================\n",
            " dense_84 (Dense)            (None, 6)                 4710      \n",
            "                                                                 \n",
            " dropout_56 (Dropout)        (None, 6)                 0         \n",
            "                                                                 \n",
            " dense_85 (Dense)            (None, 6)                 42        \n",
            "                                                                 \n",
            " dropout_57 (Dropout)        (None, 6)                 0         \n",
            "                                                                 \n",
            " dense_86 (Dense)            (None, 10)                70        \n",
            "                                                                 \n",
            "=================================================================\n",
            "Total params: 4,822\n",
            "Trainable params: 4,822\n",
            "Non-trainable params: 0\n",
            "_________________________________________________________________\n",
            "Epoch 1/4\n",
            "   1/1875 [..............................] - ETA: 12:02 - loss: 2.3271 - accuracy: 0.2188WARNING:tensorflow:Callback method `on_train_batch_end` is slow compared to the batch time (batch time: 0.0018s vs `on_train_batch_end` time: 0.0019s). Check your callbacks.\n",
            "1875/1875 [==============================] - 6s 3ms/step - loss: 1.4727 - accuracy: 0.4516 - val_loss: 0.8109 - val_accuracy: 0.8353\n",
            "Epoch 2/4\n",
            "1875/1875 [==============================] - 5s 3ms/step - loss: 1.2312 - accuracy: 0.5561 - val_loss: 0.6763 - val_accuracy: 0.8583\n",
            "Epoch 3/4\n",
            "1875/1875 [==============================] - 5s 3ms/step - loss: 1.1805 - accuracy: 0.5811 - val_loss: 0.6509 - val_accuracy: 0.8630\n",
            "Epoch 4/4\n",
            "1875/1875 [==============================] - 5s 3ms/step - loss: 1.1557 - accuracy: 0.5950 - val_loss: 0.6521 - val_accuracy: 0.8603\n",
            "INFO:tensorflow:Assets written to: /tmp/tmpufbp3p_k/model/data/model/assets\n"
          ]
        },
        {
          "output_type": "stream",
          "name": "stderr",
          "text": [
            "2022/05/04 19:01:20 WARNING mlflow.utils.requirements_utils: Found jaxlib version (0.3.7+cuda11.cudnn805) contains a local version label (+cuda11.cudnn805). MLflow logged a pip requirement for this package as 'jaxlib==0.3.7' without the local version label to make it installable from PyPI. To specify pip requirements containing local version labels, please use `conda_env` or `pip_requirements`.\n"
          ]
        },
        {
          "output_type": "stream",
          "name": "stdout",
          "text": [
            "Modelo:  3cc23911e57a4698aaea0082662aa4ce\n",
            "Model: \"sequential_29\"\n",
            "_________________________________________________________________\n",
            " Layer (type)                Output Shape              Param #   \n",
            "=================================================================\n",
            " dense_87 (Dense)            (None, 6)                 4710      \n",
            "                                                                 \n",
            " dropout_58 (Dropout)        (None, 6)                 0         \n",
            "                                                                 \n",
            " dense_88 (Dense)            (None, 6)                 42        \n",
            "                                                                 \n",
            " dropout_59 (Dropout)        (None, 6)                 0         \n",
            "                                                                 \n",
            " dense_89 (Dense)            (None, 10)                70        \n",
            "                                                                 \n",
            "=================================================================\n",
            "Total params: 4,822\n",
            "Trainable params: 4,822\n",
            "Non-trainable params: 0\n",
            "_________________________________________________________________\n",
            "Epoch 1/5\n",
            "   1/1875 [..............................] - ETA: 12:43 - loss: 2.2910 - accuracy: 0.1562WARNING:tensorflow:Callback method `on_train_batch_end` is slow compared to the batch time (batch time: 0.0019s vs `on_train_batch_end` time: 0.0019s). Check your callbacks.\n",
            "1875/1875 [==============================] - 6s 3ms/step - loss: 1.5359 - accuracy: 0.4346 - val_loss: 0.9466 - val_accuracy: 0.7319\n",
            "Epoch 2/5\n",
            "1875/1875 [==============================] - 5s 3ms/step - loss: 1.2856 - accuracy: 0.5302 - val_loss: 0.8342 - val_accuracy: 0.7780\n",
            "Epoch 3/5\n",
            "1875/1875 [==============================] - 5s 3ms/step - loss: 1.2398 - accuracy: 0.5521 - val_loss: 0.7985 - val_accuracy: 0.7750\n",
            "Epoch 4/5\n",
            "1875/1875 [==============================] - 5s 3ms/step - loss: 1.2129 - accuracy: 0.5688 - val_loss: 0.8054 - val_accuracy: 0.7786\n",
            "Epoch 5/5\n",
            "1875/1875 [==============================] - 5s 3ms/step - loss: 1.1939 - accuracy: 0.5790 - val_loss: 0.7839 - val_accuracy: 0.7821\n",
            "INFO:tensorflow:Assets written to: /tmp/tmpjy_6_a_8/model/data/model/assets\n"
          ]
        },
        {
          "output_type": "stream",
          "name": "stderr",
          "text": [
            "2022/05/04 19:01:52 WARNING mlflow.utils.requirements_utils: Found jaxlib version (0.3.7+cuda11.cudnn805) contains a local version label (+cuda11.cudnn805). MLflow logged a pip requirement for this package as 'jaxlib==0.3.7' without the local version label to make it installable from PyPI. To specify pip requirements containing local version labels, please use `conda_env` or `pip_requirements`.\n"
          ]
        },
        {
          "output_type": "stream",
          "name": "stdout",
          "text": [
            "Modelo:  2403797269bb4ab5b5cef331f3826ad6\n",
            "Model: \"sequential_30\"\n",
            "_________________________________________________________________\n",
            " Layer (type)                Output Shape              Param #   \n",
            "=================================================================\n",
            " dense_90 (Dense)            (None, 6)                 4710      \n",
            "                                                                 \n",
            " dropout_60 (Dropout)        (None, 6)                 0         \n",
            "                                                                 \n",
            " dense_91 (Dense)            (None, 6)                 42        \n",
            "                                                                 \n",
            " dropout_61 (Dropout)        (None, 6)                 0         \n",
            "                                                                 \n",
            " dense_92 (Dense)            (None, 10)                70        \n",
            "                                                                 \n",
            "=================================================================\n",
            "Total params: 4,822\n",
            "Trainable params: 4,822\n",
            "Non-trainable params: 0\n",
            "_________________________________________________________________\n",
            "Epoch 1/3\n",
            "   1/1875 [..............................] - ETA: 12:08 - loss: 2.3681 - accuracy: 0.0625WARNING:tensorflow:Callback method `on_train_batch_end` is slow compared to the batch time (batch time: 0.0017s vs `on_train_batch_end` time: 0.0019s). Check your callbacks.\n",
            "1875/1875 [==============================] - 6s 3ms/step - loss: 1.0903 - accuracy: 0.6740 - val_loss: 0.6070 - val_accuracy: 0.8270\n",
            "Epoch 2/3\n",
            "1875/1875 [==============================] - 5s 3ms/step - loss: 0.7301 - accuracy: 0.7747 - val_loss: 0.5206 - val_accuracy: 0.8445\n",
            "Epoch 3/3\n",
            "1875/1875 [==============================] - 5s 3ms/step - loss: 0.6750 - accuracy: 0.7893 - val_loss: 0.4867 - val_accuracy: 0.8555\n",
            "INFO:tensorflow:Assets written to: /tmp/tmpbobih40z/model/data/model/assets\n"
          ]
        },
        {
          "output_type": "stream",
          "name": "stderr",
          "text": [
            "2022/05/04 19:02:19 WARNING mlflow.utils.requirements_utils: Found jaxlib version (0.3.7+cuda11.cudnn805) contains a local version label (+cuda11.cudnn805). MLflow logged a pip requirement for this package as 'jaxlib==0.3.7' without the local version label to make it installable from PyPI. To specify pip requirements containing local version labels, please use `conda_env` or `pip_requirements`.\n"
          ]
        },
        {
          "output_type": "stream",
          "name": "stdout",
          "text": [
            "Modelo:  2bd82ba72d594d099a6f0a55ee5f96a2\n",
            "Model: \"sequential_31\"\n",
            "_________________________________________________________________\n",
            " Layer (type)                Output Shape              Param #   \n",
            "=================================================================\n",
            " dense_93 (Dense)            (None, 6)                 4710      \n",
            "                                                                 \n",
            " dropout_62 (Dropout)        (None, 6)                 0         \n",
            "                                                                 \n",
            " dense_94 (Dense)            (None, 6)                 42        \n",
            "                                                                 \n",
            " dropout_63 (Dropout)        (None, 6)                 0         \n",
            "                                                                 \n",
            " dense_95 (Dense)            (None, 10)                70        \n",
            "                                                                 \n",
            "=================================================================\n",
            "Total params: 4,822\n",
            "Trainable params: 4,822\n",
            "Non-trainable params: 0\n",
            "_________________________________________________________________\n",
            "Epoch 1/4\n",
            "1875/1875 [==============================] - 6s 3ms/step - loss: 1.0720 - accuracy: 0.6853 - val_loss: 0.5491 - val_accuracy: 0.8521\n",
            "Epoch 2/4\n",
            "1875/1875 [==============================] - 5s 3ms/step - loss: 0.6952 - accuracy: 0.7866 - val_loss: 0.4633 - val_accuracy: 0.8716\n",
            "Epoch 3/4\n",
            "1875/1875 [==============================] - 5s 3ms/step - loss: 0.6393 - accuracy: 0.8022 - val_loss: 0.4398 - val_accuracy: 0.8742\n",
            "Epoch 4/4\n",
            "1875/1875 [==============================] - 5s 3ms/step - loss: 0.6227 - accuracy: 0.8065 - val_loss: 0.4181 - val_accuracy: 0.8820\n",
            "INFO:tensorflow:Assets written to: /tmp/tmp4ybfnvbq/model/data/model/assets\n"
          ]
        },
        {
          "output_type": "stream",
          "name": "stderr",
          "text": [
            "2022/05/04 19:02:45 WARNING mlflow.utils.requirements_utils: Found jaxlib version (0.3.7+cuda11.cudnn805) contains a local version label (+cuda11.cudnn805). MLflow logged a pip requirement for this package as 'jaxlib==0.3.7' without the local version label to make it installable from PyPI. To specify pip requirements containing local version labels, please use `conda_env` or `pip_requirements`.\n"
          ]
        },
        {
          "output_type": "stream",
          "name": "stdout",
          "text": [
            "Modelo:  1045946cc18242df99955374bd802f9f\n",
            "Model: \"sequential_32\"\n",
            "_________________________________________________________________\n",
            " Layer (type)                Output Shape              Param #   \n",
            "=================================================================\n",
            " dense_96 (Dense)            (None, 6)                 4710      \n",
            "                                                                 \n",
            " dropout_64 (Dropout)        (None, 6)                 0         \n",
            "                                                                 \n",
            " dense_97 (Dense)            (None, 6)                 42        \n",
            "                                                                 \n",
            " dropout_65 (Dropout)        (None, 6)                 0         \n",
            "                                                                 \n",
            " dense_98 (Dense)            (None, 10)                70        \n",
            "                                                                 \n",
            "=================================================================\n",
            "Total params: 4,822\n",
            "Trainable params: 4,822\n",
            "Non-trainable params: 0\n",
            "_________________________________________________________________\n",
            "Epoch 1/5\n",
            "   1/1875 [..............................] - ETA: 12:04 - loss: 2.3892 - accuracy: 0.0625WARNING:tensorflow:Callback method `on_train_batch_end` is slow compared to the batch time (batch time: 0.0017s vs `on_train_batch_end` time: 0.0020s). Check your callbacks.\n",
            "1875/1875 [==============================] - 6s 3ms/step - loss: 0.9895 - accuracy: 0.7100 - val_loss: 0.5367 - val_accuracy: 0.8597\n",
            "Epoch 2/5\n",
            "1875/1875 [==============================] - 5s 3ms/step - loss: 0.6626 - accuracy: 0.7997 - val_loss: 0.4305 - val_accuracy: 0.8838\n",
            "Epoch 3/5\n",
            "1875/1875 [==============================] - 5s 3ms/step - loss: 0.6104 - accuracy: 0.8124 - val_loss: 0.4061 - val_accuracy: 0.8863\n",
            "Epoch 4/5\n",
            "1875/1875 [==============================] - 5s 3ms/step - loss: 0.5936 - accuracy: 0.8157 - val_loss: 0.3934 - val_accuracy: 0.8897\n",
            "Epoch 5/5\n",
            "1875/1875 [==============================] - 5s 3ms/step - loss: 0.5791 - accuracy: 0.8181 - val_loss: 0.3874 - val_accuracy: 0.8902\n",
            "INFO:tensorflow:Assets written to: /tmp/tmpfsxkt_qi/model/data/model/assets\n"
          ]
        },
        {
          "output_type": "stream",
          "name": "stderr",
          "text": [
            "2022/05/04 19:03:31 WARNING mlflow.utils.requirements_utils: Found jaxlib version (0.3.7+cuda11.cudnn805) contains a local version label (+cuda11.cudnn805). MLflow logged a pip requirement for this package as 'jaxlib==0.3.7' without the local version label to make it installable from PyPI. To specify pip requirements containing local version labels, please use `conda_env` or `pip_requirements`.\n"
          ]
        },
        {
          "output_type": "stream",
          "name": "stdout",
          "text": [
            "Modelo:  8cd3ea7f12644ddc934b8504847e3c1b\n",
            "Model: \"sequential_33\"\n",
            "_________________________________________________________________\n",
            " Layer (type)                Output Shape              Param #   \n",
            "=================================================================\n",
            " dense_99 (Dense)            (None, 6)                 4710      \n",
            "                                                                 \n",
            " dropout_66 (Dropout)        (None, 6)                 0         \n",
            "                                                                 \n",
            " dense_100 (Dense)           (None, 6)                 42        \n",
            "                                                                 \n",
            " dropout_67 (Dropout)        (None, 6)                 0         \n",
            "                                                                 \n",
            " dense_101 (Dense)           (None, 10)                70        \n",
            "                                                                 \n",
            "=================================================================\n",
            "Total params: 4,822\n",
            "Trainable params: 4,822\n",
            "Non-trainable params: 0\n",
            "_________________________________________________________________\n",
            "Epoch 1/3\n",
            "   1/1875 [..............................] - ETA: 12:28 - loss: 2.3741 - accuracy: 0.0938WARNING:tensorflow:Callback method `on_train_batch_end` is slow compared to the batch time (batch time: 0.0019s vs `on_train_batch_end` time: 0.0021s). Check your callbacks.\n",
            "1875/1875 [==============================] - 5s 3ms/step - loss: 1.2607 - accuracy: 0.6005 - val_loss: 0.6344 - val_accuracy: 0.8499\n",
            "Epoch 2/3\n",
            "1875/1875 [==============================] - 5s 3ms/step - loss: 0.9437 - accuracy: 0.6822 - val_loss: 0.5360 - val_accuracy: 0.8580\n",
            "Epoch 3/3\n",
            "1875/1875 [==============================] - 5s 3ms/step - loss: 0.8964 - accuracy: 0.6953 - val_loss: 0.4895 - val_accuracy: 0.8740\n",
            "INFO:tensorflow:Assets written to: /tmp/tmpjowa_mzf/model/data/model/assets\n"
          ]
        },
        {
          "output_type": "stream",
          "name": "stderr",
          "text": [
            "2022/05/04 19:03:52 WARNING mlflow.utils.requirements_utils: Found jaxlib version (0.3.7+cuda11.cudnn805) contains a local version label (+cuda11.cudnn805). MLflow logged a pip requirement for this package as 'jaxlib==0.3.7' without the local version label to make it installable from PyPI. To specify pip requirements containing local version labels, please use `conda_env` or `pip_requirements`.\n"
          ]
        },
        {
          "output_type": "stream",
          "name": "stdout",
          "text": [
            "Modelo:  aec1e05fae35424a83af7a7598470894\n",
            "Model: \"sequential_34\"\n",
            "_________________________________________________________________\n",
            " Layer (type)                Output Shape              Param #   \n",
            "=================================================================\n",
            " dense_102 (Dense)           (None, 6)                 4710      \n",
            "                                                                 \n",
            " dropout_68 (Dropout)        (None, 6)                 0         \n",
            "                                                                 \n",
            " dense_103 (Dense)           (None, 6)                 42        \n",
            "                                                                 \n",
            " dropout_69 (Dropout)        (None, 6)                 0         \n",
            "                                                                 \n",
            " dense_104 (Dense)           (None, 10)                70        \n",
            "                                                                 \n",
            "=================================================================\n",
            "Total params: 4,822\n",
            "Trainable params: 4,822\n",
            "Non-trainable params: 0\n",
            "_________________________________________________________________\n",
            "Epoch 1/4\n",
            "   1/1875 [..............................] - ETA: 12:33 - loss: 2.4720 - accuracy: 0.0938WARNING:tensorflow:Callback method `on_train_batch_end` is slow compared to the batch time (batch time: 0.0018s vs `on_train_batch_end` time: 0.0022s). Check your callbacks.\n",
            "1875/1875 [==============================] - 6s 3ms/step - loss: 1.2463 - accuracy: 0.5941 - val_loss: 0.6529 - val_accuracy: 0.8448\n",
            "Epoch 2/4\n",
            "1875/1875 [==============================] - 5s 3ms/step - loss: 0.9314 - accuracy: 0.6787 - val_loss: 0.5315 - val_accuracy: 0.8567\n",
            "Epoch 3/4\n",
            "1875/1875 [==============================] - 5s 3ms/step - loss: 0.8807 - accuracy: 0.6938 - val_loss: 0.4972 - val_accuracy: 0.8629\n",
            "Epoch 4/4\n",
            "1875/1875 [==============================] - 5s 3ms/step - loss: 0.8496 - accuracy: 0.7041 - val_loss: 0.4795 - val_accuracy: 0.8658\n",
            "INFO:tensorflow:Assets written to: /tmp/tmp_s426trl/model/data/model/assets\n"
          ]
        },
        {
          "output_type": "stream",
          "name": "stderr",
          "text": [
            "2022/05/04 19:04:19 WARNING mlflow.utils.requirements_utils: Found jaxlib version (0.3.7+cuda11.cudnn805) contains a local version label (+cuda11.cudnn805). MLflow logged a pip requirement for this package as 'jaxlib==0.3.7' without the local version label to make it installable from PyPI. To specify pip requirements containing local version labels, please use `conda_env` or `pip_requirements`.\n"
          ]
        },
        {
          "output_type": "stream",
          "name": "stdout",
          "text": [
            "Modelo:  538a693b40254b3aa5174ff74d7c3a24\n",
            "Model: \"sequential_35\"\n",
            "_________________________________________________________________\n",
            " Layer (type)                Output Shape              Param #   \n",
            "=================================================================\n",
            " dense_105 (Dense)           (None, 6)                 4710      \n",
            "                                                                 \n",
            " dropout_70 (Dropout)        (None, 6)                 0         \n",
            "                                                                 \n",
            " dense_106 (Dense)           (None, 6)                 42        \n",
            "                                                                 \n",
            " dropout_71 (Dropout)        (None, 6)                 0         \n",
            "                                                                 \n",
            " dense_107 (Dense)           (None, 10)                70        \n",
            "                                                                 \n",
            "=================================================================\n",
            "Total params: 4,822\n",
            "Trainable params: 4,822\n",
            "Non-trainable params: 0\n",
            "_________________________________________________________________\n",
            "Epoch 1/5\n",
            "1875/1875 [==============================] - 6s 3ms/step - loss: 1.2957 - accuracy: 0.5605 - val_loss: 0.7479 - val_accuracy: 0.7939\n",
            "Epoch 2/5\n",
            "1875/1875 [==============================] - 5s 3ms/step - loss: 0.9891 - accuracy: 0.6470 - val_loss: 0.6429 - val_accuracy: 0.8136\n",
            "Epoch 3/5\n",
            "1875/1875 [==============================] - 5s 3ms/step - loss: 0.9412 - accuracy: 0.6610 - val_loss: 0.5956 - val_accuracy: 0.8283\n",
            "Epoch 4/5\n",
            "1875/1875 [==============================] - 5s 3ms/step - loss: 0.9152 - accuracy: 0.6710 - val_loss: 0.5757 - val_accuracy: 0.8326\n",
            "Epoch 5/5\n",
            "1875/1875 [==============================] - 5s 3ms/step - loss: 0.9073 - accuracy: 0.6776 - val_loss: 0.5536 - val_accuracy: 0.8430\n",
            "INFO:tensorflow:Assets written to: /tmp/tmpzvgc74qu/model/data/model/assets\n"
          ]
        },
        {
          "output_type": "stream",
          "name": "stderr",
          "text": [
            "2022/05/04 19:05:06 WARNING mlflow.utils.requirements_utils: Found jaxlib version (0.3.7+cuda11.cudnn805) contains a local version label (+cuda11.cudnn805). MLflow logged a pip requirement for this package as 'jaxlib==0.3.7' without the local version label to make it installable from PyPI. To specify pip requirements containing local version labels, please use `conda_env` or `pip_requirements`.\n"
          ]
        },
        {
          "output_type": "stream",
          "name": "stdout",
          "text": [
            "Modelo:  513d2169288c4d86a6c52891bd6887a0\n",
            "Model: \"sequential_36\"\n",
            "_________________________________________________________________\n",
            " Layer (type)                Output Shape              Param #   \n",
            "=================================================================\n",
            " dense_108 (Dense)           (None, 2)                 1570      \n",
            "                                                                 \n",
            " dropout_72 (Dropout)        (None, 2)                 0         \n",
            "                                                                 \n",
            " dense_109 (Dense)           (None, 2)                 6         \n",
            "                                                                 \n",
            " dropout_73 (Dropout)        (None, 2)                 0         \n",
            "                                                                 \n",
            " dense_110 (Dense)           (None, 2)                 6         \n",
            "                                                                 \n",
            " dropout_74 (Dropout)        (None, 2)                 0         \n",
            "                                                                 \n",
            " dense_111 (Dense)           (None, 10)                30        \n",
            "                                                                 \n",
            "=================================================================\n",
            "Total params: 1,612\n",
            "Trainable params: 1,612\n",
            "Non-trainable params: 0\n",
            "_________________________________________________________________\n",
            "Epoch 1/3\n",
            "   1/1875 [..............................] - ETA: 14:27 - loss: 2.3007 - accuracy: 0.0938WARNING:tensorflow:Callback method `on_train_batch_end` is slow compared to the batch time (batch time: 0.0018s vs `on_train_batch_end` time: 0.0021s). Check your callbacks.\n",
            "1875/1875 [==============================] - 6s 3ms/step - loss: 2.0444 - accuracy: 0.2022 - val_loss: 1.8266 - val_accuracy: 0.3172\n",
            "Epoch 2/3\n",
            "1875/1875 [==============================] - 5s 3ms/step - loss: 1.8661 - accuracy: 0.2505 - val_loss: 1.7062 - val_accuracy: 0.3670\n",
            "Epoch 3/3\n",
            "1875/1875 [==============================] - 5s 3ms/step - loss: 1.8335 - accuracy: 0.2579 - val_loss: 1.6760 - val_accuracy: 0.3836\n",
            "INFO:tensorflow:Assets written to: /tmp/tmps_u6okso/model/data/model/assets\n"
          ]
        },
        {
          "output_type": "stream",
          "name": "stderr",
          "text": [
            "2022/05/04 19:05:28 WARNING mlflow.utils.requirements_utils: Found jaxlib version (0.3.7+cuda11.cudnn805) contains a local version label (+cuda11.cudnn805). MLflow logged a pip requirement for this package as 'jaxlib==0.3.7' without the local version label to make it installable from PyPI. To specify pip requirements containing local version labels, please use `conda_env` or `pip_requirements`.\n"
          ]
        },
        {
          "output_type": "stream",
          "name": "stdout",
          "text": [
            "Modelo:  709a8ba4896a444ca3c4459fd0e8e104\n",
            "Model: \"sequential_37\"\n",
            "_________________________________________________________________\n",
            " Layer (type)                Output Shape              Param #   \n",
            "=================================================================\n",
            " dense_112 (Dense)           (None, 2)                 1570      \n",
            "                                                                 \n",
            " dropout_75 (Dropout)        (None, 2)                 0         \n",
            "                                                                 \n",
            " dense_113 (Dense)           (None, 2)                 6         \n",
            "                                                                 \n",
            " dropout_76 (Dropout)        (None, 2)                 0         \n",
            "                                                                 \n",
            " dense_114 (Dense)           (None, 2)                 6         \n",
            "                                                                 \n",
            " dropout_77 (Dropout)        (None, 2)                 0         \n",
            "                                                                 \n",
            " dense_115 (Dense)           (None, 10)                30        \n",
            "                                                                 \n",
            "=================================================================\n",
            "Total params: 1,612\n",
            "Trainable params: 1,612\n",
            "Non-trainable params: 0\n",
            "_________________________________________________________________\n",
            "Epoch 1/4\n",
            "   1/1875 [..............................] - ETA: 14:20 - loss: 2.3037 - accuracy: 0.0000e+00WARNING:tensorflow:Callback method `on_train_batch_end` is slow compared to the batch time (batch time: 0.0018s vs `on_train_batch_end` time: 0.0026s). Check your callbacks.\n",
            "1875/1875 [==============================] - 6s 3ms/step - loss: 2.0569 - accuracy: 0.2073 - val_loss: 1.8278 - val_accuracy: 0.2944\n",
            "Epoch 2/4\n",
            "1875/1875 [==============================] - 5s 3ms/step - loss: 1.8977 - accuracy: 0.2587 - val_loss: 1.7171 - val_accuracy: 0.3531\n",
            "Epoch 3/4\n",
            "1875/1875 [==============================] - 5s 3ms/step - loss: 1.8530 - accuracy: 0.2807 - val_loss: 1.6773 - val_accuracy: 0.3560\n",
            "Epoch 4/4\n",
            "1875/1875 [==============================] - 5s 3ms/step - loss: 1.8307 - accuracy: 0.2863 - val_loss: 1.6493 - val_accuracy: 0.3642\n",
            "INFO:tensorflow:Assets written to: /tmp/tmpxg1kr2z3/model/data/model/assets\n"
          ]
        },
        {
          "output_type": "stream",
          "name": "stderr",
          "text": [
            "2022/05/04 19:05:55 WARNING mlflow.utils.requirements_utils: Found jaxlib version (0.3.7+cuda11.cudnn805) contains a local version label (+cuda11.cudnn805). MLflow logged a pip requirement for this package as 'jaxlib==0.3.7' without the local version label to make it installable from PyPI. To specify pip requirements containing local version labels, please use `conda_env` or `pip_requirements`.\n"
          ]
        },
        {
          "output_type": "stream",
          "name": "stdout",
          "text": [
            "Modelo:  1e2d417c88ae45cea6f8fc8c3b346a5b\n",
            "Model: \"sequential_38\"\n",
            "_________________________________________________________________\n",
            " Layer (type)                Output Shape              Param #   \n",
            "=================================================================\n",
            " dense_116 (Dense)           (None, 2)                 1570      \n",
            "                                                                 \n",
            " dropout_78 (Dropout)        (None, 2)                 0         \n",
            "                                                                 \n",
            " dense_117 (Dense)           (None, 2)                 6         \n",
            "                                                                 \n",
            " dropout_79 (Dropout)        (None, 2)                 0         \n",
            "                                                                 \n",
            " dense_118 (Dense)           (None, 2)                 6         \n",
            "                                                                 \n",
            " dropout_80 (Dropout)        (None, 2)                 0         \n",
            "                                                                 \n",
            " dense_119 (Dense)           (None, 10)                30        \n",
            "                                                                 \n",
            "=================================================================\n",
            "Total params: 1,612\n",
            "Trainable params: 1,612\n",
            "Non-trainable params: 0\n",
            "_________________________________________________________________\n",
            "Epoch 1/5\n",
            "   1/1875 [..............................] - ETA: 13:46 - loss: 2.2978 - accuracy: 0.1250WARNING:tensorflow:Callback method `on_train_batch_end` is slow compared to the batch time (batch time: 0.0021s vs `on_train_batch_end` time: 0.0021s). Check your callbacks.\n",
            "1875/1875 [==============================] - 6s 3ms/step - loss: 2.0314 - accuracy: 0.2116 - val_loss: 1.7571 - val_accuracy: 0.3138\n",
            "Epoch 2/5\n",
            "1875/1875 [==============================] - 5s 3ms/step - loss: 1.8838 - accuracy: 0.2520 - val_loss: 1.6659 - val_accuracy: 0.3312\n",
            "Epoch 3/5\n",
            "1875/1875 [==============================] - 5s 3ms/step - loss: 1.8384 - accuracy: 0.2577 - val_loss: 1.6377 - val_accuracy: 0.3615\n",
            "Epoch 4/5\n",
            "1875/1875 [==============================] - 5s 3ms/step - loss: 1.8252 - accuracy: 0.2682 - val_loss: 1.6120 - val_accuracy: 0.3802\n",
            "Epoch 5/5\n",
            "1875/1875 [==============================] - 5s 3ms/step - loss: 1.8123 - accuracy: 0.2903 - val_loss: 1.5999 - val_accuracy: 0.3893\n",
            "INFO:tensorflow:Assets written to: /tmp/tmphkwq480m/model/data/model/assets\n"
          ]
        },
        {
          "output_type": "stream",
          "name": "stderr",
          "text": [
            "2022/05/04 19:06:43 WARNING mlflow.utils.requirements_utils: Found jaxlib version (0.3.7+cuda11.cudnn805) contains a local version label (+cuda11.cudnn805). MLflow logged a pip requirement for this package as 'jaxlib==0.3.7' without the local version label to make it installable from PyPI. To specify pip requirements containing local version labels, please use `conda_env` or `pip_requirements`.\n"
          ]
        },
        {
          "output_type": "stream",
          "name": "stdout",
          "text": [
            "Modelo:  2122d5a1b86a4c2eb160307b7176e323\n",
            "Model: \"sequential_39\"\n",
            "_________________________________________________________________\n",
            " Layer (type)                Output Shape              Param #   \n",
            "=================================================================\n",
            " dense_120 (Dense)           (None, 2)                 1570      \n",
            "                                                                 \n",
            " dropout_81 (Dropout)        (None, 2)                 0         \n",
            "                                                                 \n",
            " dense_121 (Dense)           (None, 2)                 6         \n",
            "                                                                 \n",
            " dropout_82 (Dropout)        (None, 2)                 0         \n",
            "                                                                 \n",
            " dense_122 (Dense)           (None, 2)                 6         \n",
            "                                                                 \n",
            " dropout_83 (Dropout)        (None, 2)                 0         \n",
            "                                                                 \n",
            " dense_123 (Dense)           (None, 10)                30        \n",
            "                                                                 \n",
            "=================================================================\n",
            "Total params: 1,612\n",
            "Trainable params: 1,612\n",
            "Non-trainable params: 0\n",
            "_________________________________________________________________\n",
            "Epoch 1/3\n",
            "   1/1875 [..............................] - ETA: 14:06 - loss: 2.3088 - accuracy: 0.0938WARNING:tensorflow:Callback method `on_train_batch_end` is slow compared to the batch time (batch time: 0.0019s vs `on_train_batch_end` time: 0.0026s). Check your callbacks.\n",
            "1875/1875 [==============================] - 6s 3ms/step - loss: 2.1427 - accuracy: 0.1741 - val_loss: 1.9479 - val_accuracy: 0.2727\n",
            "Epoch 2/3\n",
            "1875/1875 [==============================] - 5s 3ms/step - loss: 2.0751 - accuracy: 0.2061 - val_loss: 1.8927 - val_accuracy: 0.3300\n",
            "Epoch 3/3\n",
            "1875/1875 [==============================] - 5s 3ms/step - loss: 2.0514 - accuracy: 0.2325 - val_loss: 1.8562 - val_accuracy: 0.3601\n",
            "INFO:tensorflow:Assets written to: /tmp/tmpwvsenphf/model/data/model/assets\n"
          ]
        },
        {
          "output_type": "stream",
          "name": "stderr",
          "text": [
            "2022/05/04 19:07:06 WARNING mlflow.utils.requirements_utils: Found jaxlib version (0.3.7+cuda11.cudnn805) contains a local version label (+cuda11.cudnn805). MLflow logged a pip requirement for this package as 'jaxlib==0.3.7' without the local version label to make it installable from PyPI. To specify pip requirements containing local version labels, please use `conda_env` or `pip_requirements`.\n"
          ]
        },
        {
          "output_type": "stream",
          "name": "stdout",
          "text": [
            "Modelo:  a1ebdfe109854f08bca39fde86361d6b\n",
            "Model: \"sequential_40\"\n",
            "_________________________________________________________________\n",
            " Layer (type)                Output Shape              Param #   \n",
            "=================================================================\n",
            " dense_124 (Dense)           (None, 2)                 1570      \n",
            "                                                                 \n",
            " dropout_84 (Dropout)        (None, 2)                 0         \n",
            "                                                                 \n",
            " dense_125 (Dense)           (None, 2)                 6         \n",
            "                                                                 \n",
            " dropout_85 (Dropout)        (None, 2)                 0         \n",
            "                                                                 \n",
            " dense_126 (Dense)           (None, 2)                 6         \n",
            "                                                                 \n",
            " dropout_86 (Dropout)        (None, 2)                 0         \n",
            "                                                                 \n",
            " dense_127 (Dense)           (None, 10)                30        \n",
            "                                                                 \n",
            "=================================================================\n",
            "Total params: 1,612\n",
            "Trainable params: 1,612\n",
            "Non-trainable params: 0\n",
            "_________________________________________________________________\n",
            "Epoch 1/4\n",
            "   1/1875 [..............................] - ETA: 14:06 - loss: 2.3164 - accuracy: 0.0938WARNING:tensorflow:Callback method `on_train_batch_end` is slow compared to the batch time (batch time: 0.0018s vs `on_train_batch_end` time: 0.0022s). Check your callbacks.\n",
            "1875/1875 [==============================] - 6s 3ms/step - loss: 2.1548 - accuracy: 0.1691 - val_loss: 1.9793 - val_accuracy: 0.3218\n",
            "Epoch 2/4\n",
            "1875/1875 [==============================] - 5s 3ms/step - loss: 2.0713 - accuracy: 0.2090 - val_loss: 1.8448 - val_accuracy: 0.3173\n",
            "Epoch 3/4\n",
            "1875/1875 [==============================] - 5s 3ms/step - loss: 2.0464 - accuracy: 0.2188 - val_loss: 1.8309 - val_accuracy: 0.3060\n",
            "Epoch 4/4\n",
            "1875/1875 [==============================] - 5s 3ms/step - loss: 2.0436 - accuracy: 0.2202 - val_loss: 1.8010 - val_accuracy: 0.3211\n",
            "INFO:tensorflow:Assets written to: /tmp/tmpo9fa8av4/model/data/model/assets\n"
          ]
        },
        {
          "output_type": "stream",
          "name": "stderr",
          "text": [
            "2022/05/04 19:07:33 WARNING mlflow.utils.requirements_utils: Found jaxlib version (0.3.7+cuda11.cudnn805) contains a local version label (+cuda11.cudnn805). MLflow logged a pip requirement for this package as 'jaxlib==0.3.7' without the local version label to make it installable from PyPI. To specify pip requirements containing local version labels, please use `conda_env` or `pip_requirements`.\n"
          ]
        },
        {
          "output_type": "stream",
          "name": "stdout",
          "text": [
            "Modelo:  c9afccbae4ff45cd89b455cd9e168171\n",
            "Model: \"sequential_41\"\n",
            "_________________________________________________________________\n",
            " Layer (type)                Output Shape              Param #   \n",
            "=================================================================\n",
            " dense_128 (Dense)           (None, 2)                 1570      \n",
            "                                                                 \n",
            " dropout_87 (Dropout)        (None, 2)                 0         \n",
            "                                                                 \n",
            " dense_129 (Dense)           (None, 2)                 6         \n",
            "                                                                 \n",
            " dropout_88 (Dropout)        (None, 2)                 0         \n",
            "                                                                 \n",
            " dense_130 (Dense)           (None, 2)                 6         \n",
            "                                                                 \n",
            " dropout_89 (Dropout)        (None, 2)                 0         \n",
            "                                                                 \n",
            " dense_131 (Dense)           (None, 10)                30        \n",
            "                                                                 \n",
            "=================================================================\n",
            "Total params: 1,612\n",
            "Trainable params: 1,612\n",
            "Non-trainable params: 0\n",
            "_________________________________________________________________\n",
            "Epoch 1/5\n",
            "   1/1875 [..............................] - ETA: 14:31 - loss: 2.3028 - accuracy: 0.1562WARNING:tensorflow:Callback method `on_train_batch_end` is slow compared to the batch time (batch time: 0.0022s vs `on_train_batch_end` time: 0.0022s). Check your callbacks.\n",
            "1875/1875 [==============================] - 6s 3ms/step - loss: 2.3015 - accuracy: 0.1114 - val_loss: 2.3011 - val_accuracy: 0.1135\n",
            "Epoch 2/5\n",
            "1875/1875 [==============================] - 5s 3ms/step - loss: 2.3013 - accuracy: 0.1124 - val_loss: 2.3010 - val_accuracy: 0.1135\n",
            "Epoch 3/5\n",
            "1875/1875 [==============================] - 5s 3ms/step - loss: 2.2686 - accuracy: 0.1238 - val_loss: 1.9949 - val_accuracy: 0.2332\n",
            "Epoch 4/5\n",
            "1875/1875 [==============================] - 5s 3ms/step - loss: 2.1143 - accuracy: 0.1751 - val_loss: 1.9159 - val_accuracy: 0.2893\n",
            "Epoch 5/5\n",
            "1875/1875 [==============================] - 5s 3ms/step - loss: 2.0973 - accuracy: 0.1844 - val_loss: 1.9135 - val_accuracy: 0.3733\n",
            "INFO:tensorflow:Assets written to: /tmp/tmp1_2jhp14/model/data/model/assets\n"
          ]
        },
        {
          "output_type": "stream",
          "name": "stderr",
          "text": [
            "2022/05/04 19:08:20 WARNING mlflow.utils.requirements_utils: Found jaxlib version (0.3.7+cuda11.cudnn805) contains a local version label (+cuda11.cudnn805). MLflow logged a pip requirement for this package as 'jaxlib==0.3.7' without the local version label to make it installable from PyPI. To specify pip requirements containing local version labels, please use `conda_env` or `pip_requirements`.\n"
          ]
        },
        {
          "output_type": "stream",
          "name": "stdout",
          "text": [
            "Modelo:  8331b804cf8e41619f205259fa16e7ec\n",
            "Model: \"sequential_42\"\n",
            "_________________________________________________________________\n",
            " Layer (type)                Output Shape              Param #   \n",
            "=================================================================\n",
            " dense_132 (Dense)           (None, 2)                 1570      \n",
            "                                                                 \n",
            " dropout_90 (Dropout)        (None, 2)                 0         \n",
            "                                                                 \n",
            " dense_133 (Dense)           (None, 2)                 6         \n",
            "                                                                 \n",
            " dropout_91 (Dropout)        (None, 2)                 0         \n",
            "                                                                 \n",
            " dense_134 (Dense)           (None, 2)                 6         \n",
            "                                                                 \n",
            " dropout_92 (Dropout)        (None, 2)                 0         \n",
            "                                                                 \n",
            " dense_135 (Dense)           (None, 10)                30        \n",
            "                                                                 \n",
            "=================================================================\n",
            "Total params: 1,612\n",
            "Trainable params: 1,612\n",
            "Non-trainable params: 0\n",
            "_________________________________________________________________\n",
            "Epoch 1/3\n",
            "   1/1875 [..............................] - ETA: 13:56 - loss: 2.3187 - accuracy: 0.1562WARNING:tensorflow:Callback method `on_train_batch_end` is slow compared to the batch time (batch time: 0.0019s vs `on_train_batch_end` time: 0.0021s). Check your callbacks.\n",
            "1875/1875 [==============================] - 6s 3ms/step - loss: 1.8233 - accuracy: 0.2870 - val_loss: 1.4572 - val_accuracy: 0.4196\n",
            "Epoch 2/3\n",
            "1875/1875 [==============================] - 5s 3ms/step - loss: 1.6370 - accuracy: 0.3159 - val_loss: 1.3836 - val_accuracy: 0.4440\n",
            "Epoch 3/3\n",
            "1875/1875 [==============================] - 5s 3ms/step - loss: 1.5962 - accuracy: 0.3193 - val_loss: 1.3537 - val_accuracy: 0.4476\n",
            "INFO:tensorflow:Assets written to: /tmp/tmpi17dcc_l/model/data/model/assets\n"
          ]
        },
        {
          "output_type": "stream",
          "name": "stderr",
          "text": [
            "2022/05/04 19:08:47 WARNING mlflow.utils.requirements_utils: Found jaxlib version (0.3.7+cuda11.cudnn805) contains a local version label (+cuda11.cudnn805). MLflow logged a pip requirement for this package as 'jaxlib==0.3.7' without the local version label to make it installable from PyPI. To specify pip requirements containing local version labels, please use `conda_env` or `pip_requirements`.\n"
          ]
        },
        {
          "output_type": "stream",
          "name": "stdout",
          "text": [
            "Modelo:  912fd0ad99f748af81f7f5d9f99fd65c\n",
            "Model: \"sequential_43\"\n",
            "_________________________________________________________________\n",
            " Layer (type)                Output Shape              Param #   \n",
            "=================================================================\n",
            " dense_136 (Dense)           (None, 2)                 1570      \n",
            "                                                                 \n",
            " dropout_93 (Dropout)        (None, 2)                 0         \n",
            "                                                                 \n",
            " dense_137 (Dense)           (None, 2)                 6         \n",
            "                                                                 \n",
            " dropout_94 (Dropout)        (None, 2)                 0         \n",
            "                                                                 \n",
            " dense_138 (Dense)           (None, 2)                 6         \n",
            "                                                                 \n",
            " dropout_95 (Dropout)        (None, 2)                 0         \n",
            "                                                                 \n",
            " dense_139 (Dense)           (None, 10)                30        \n",
            "                                                                 \n",
            "=================================================================\n",
            "Total params: 1,612\n",
            "Trainable params: 1,612\n",
            "Non-trainable params: 0\n",
            "_________________________________________________________________\n",
            "Epoch 1/4\n",
            "   1/1875 [..............................] - ETA: 14:01 - loss: 2.2951 - accuracy: 0.0625WARNING:tensorflow:Callback method `on_train_batch_end` is slow compared to the batch time (batch time: 0.0023s vs `on_train_batch_end` time: 0.0023s). Check your callbacks.\n",
            "1875/1875 [==============================] - 6s 3ms/step - loss: 1.9162 - accuracy: 0.1964 - val_loss: 1.8204 - val_accuracy: 0.2134\n",
            "Epoch 2/4\n",
            "1875/1875 [==============================] - 5s 3ms/step - loss: 1.8268 - accuracy: 0.2086 - val_loss: 1.7896 - val_accuracy: 0.2154\n",
            "Epoch 3/4\n",
            "1875/1875 [==============================] - 5s 3ms/step - loss: 1.8140 - accuracy: 0.2105 - val_loss: 1.7888 - val_accuracy: 0.2256\n",
            "Epoch 4/4\n",
            "1875/1875 [==============================] - 5s 3ms/step - loss: 1.8055 - accuracy: 0.2160 - val_loss: 1.7738 - val_accuracy: 0.2244\n",
            "INFO:tensorflow:Assets written to: /tmp/tmpbv2w89kh/model/data/model/assets\n"
          ]
        },
        {
          "output_type": "stream",
          "name": "stderr",
          "text": [
            "2022/05/04 19:09:15 WARNING mlflow.utils.requirements_utils: Found jaxlib version (0.3.7+cuda11.cudnn805) contains a local version label (+cuda11.cudnn805). MLflow logged a pip requirement for this package as 'jaxlib==0.3.7' without the local version label to make it installable from PyPI. To specify pip requirements containing local version labels, please use `conda_env` or `pip_requirements`.\n"
          ]
        },
        {
          "output_type": "stream",
          "name": "stdout",
          "text": [
            "Modelo:  40d437562be0404e93aeb1d5c5cdaf0c\n",
            "Model: \"sequential_44\"\n",
            "_________________________________________________________________\n",
            " Layer (type)                Output Shape              Param #   \n",
            "=================================================================\n",
            " dense_140 (Dense)           (None, 2)                 1570      \n",
            "                                                                 \n",
            " dropout_96 (Dropout)        (None, 2)                 0         \n",
            "                                                                 \n",
            " dense_141 (Dense)           (None, 2)                 6         \n",
            "                                                                 \n",
            " dropout_97 (Dropout)        (None, 2)                 0         \n",
            "                                                                 \n",
            " dense_142 (Dense)           (None, 2)                 6         \n",
            "                                                                 \n",
            " dropout_98 (Dropout)        (None, 2)                 0         \n",
            "                                                                 \n",
            " dense_143 (Dense)           (None, 10)                30        \n",
            "                                                                 \n",
            "=================================================================\n",
            "Total params: 1,612\n",
            "Trainable params: 1,612\n",
            "Non-trainable params: 0\n",
            "_________________________________________________________________\n",
            "Epoch 1/5\n",
            "   1/1875 [..............................] - ETA: 13:32 - loss: 2.3267 - accuracy: 0.0938WARNING:tensorflow:Callback method `on_train_batch_end` is slow compared to the batch time (batch time: 0.0018s vs `on_train_batch_end` time: 0.0021s). Check your callbacks.\n",
            "1875/1875 [==============================] - 6s 3ms/step - loss: 1.9513 - accuracy: 0.2129 - val_loss: 1.8397 - val_accuracy: 0.2306\n",
            "Epoch 2/5\n",
            "1875/1875 [==============================] - 5s 3ms/step - loss: 1.8681 - accuracy: 0.2326 - val_loss: 1.7917 - val_accuracy: 0.2773\n",
            "Epoch 3/5\n",
            "1875/1875 [==============================] - 5s 3ms/step - loss: 1.8270 - accuracy: 0.2429 - val_loss: 1.7113 - val_accuracy: 0.2949\n",
            "Epoch 4/5\n",
            "1875/1875 [==============================] - 5s 3ms/step - loss: 1.7949 - accuracy: 0.2445 - val_loss: 1.6577 - val_accuracy: 0.3052\n",
            "Epoch 5/5\n",
            "1875/1875 [==============================] - 5s 3ms/step - loss: 1.7487 - accuracy: 0.2783 - val_loss: 1.5437 - val_accuracy: 0.3853\n",
            "INFO:tensorflow:Assets written to: /tmp/tmp0zdjtb42/model/data/model/assets\n"
          ]
        },
        {
          "output_type": "stream",
          "name": "stderr",
          "text": [
            "2022/05/04 19:09:48 WARNING mlflow.utils.requirements_utils: Found jaxlib version (0.3.7+cuda11.cudnn805) contains a local version label (+cuda11.cudnn805). MLflow logged a pip requirement for this package as 'jaxlib==0.3.7' without the local version label to make it installable from PyPI. To specify pip requirements containing local version labels, please use `conda_env` or `pip_requirements`.\n"
          ]
        },
        {
          "output_type": "stream",
          "name": "stdout",
          "text": [
            "Modelo:  8b37481adbc04fbba1c593b1d65519ec\n",
            "Model: \"sequential_45\"\n",
            "_________________________________________________________________\n",
            " Layer (type)                Output Shape              Param #   \n",
            "=================================================================\n",
            " dense_144 (Dense)           (None, 2)                 1570      \n",
            "                                                                 \n",
            " dropout_99 (Dropout)        (None, 2)                 0         \n",
            "                                                                 \n",
            " dense_145 (Dense)           (None, 2)                 6         \n",
            "                                                                 \n",
            " dropout_100 (Dropout)       (None, 2)                 0         \n",
            "                                                                 \n",
            " dense_146 (Dense)           (None, 2)                 6         \n",
            "                                                                 \n",
            " dropout_101 (Dropout)       (None, 2)                 0         \n",
            "                                                                 \n",
            " dense_147 (Dense)           (None, 10)                30        \n",
            "                                                                 \n",
            "=================================================================\n",
            "Total params: 1,612\n",
            "Trainable params: 1,612\n",
            "Non-trainable params: 0\n",
            "_________________________________________________________________\n",
            "Epoch 1/3\n",
            "   1/1875 [..............................] - ETA: 14:08 - loss: 2.2779 - accuracy: 0.1562WARNING:tensorflow:Callback method `on_train_batch_end` is slow compared to the batch time (batch time: 0.0018s vs `on_train_batch_end` time: 0.0021s). Check your callbacks.\n",
            "1875/1875 [==============================] - 6s 3ms/step - loss: 1.9768 - accuracy: 0.1840 - val_loss: 1.8063 - val_accuracy: 0.1996\n",
            "Epoch 2/3\n",
            "1875/1875 [==============================] - 5s 3ms/step - loss: 1.8772 - accuracy: 0.1882 - val_loss: 1.7860 - val_accuracy: 0.2069\n",
            "Epoch 3/3\n",
            "1875/1875 [==============================] - 5s 3ms/step - loss: 1.8660 - accuracy: 0.1945 - val_loss: 1.7790 - val_accuracy: 0.2067\n",
            "INFO:tensorflow:Assets written to: /tmp/tmpo5zk4u_t/model/data/model/assets\n"
          ]
        },
        {
          "output_type": "stream",
          "name": "stderr",
          "text": [
            "2022/05/04 19:10:11 WARNING mlflow.utils.requirements_utils: Found jaxlib version (0.3.7+cuda11.cudnn805) contains a local version label (+cuda11.cudnn805). MLflow logged a pip requirement for this package as 'jaxlib==0.3.7' without the local version label to make it installable from PyPI. To specify pip requirements containing local version labels, please use `conda_env` or `pip_requirements`.\n"
          ]
        },
        {
          "output_type": "stream",
          "name": "stdout",
          "text": [
            "Modelo:  a0bb3bcae20346a8957b51d6d95d861d\n",
            "Model: \"sequential_46\"\n",
            "_________________________________________________________________\n",
            " Layer (type)                Output Shape              Param #   \n",
            "=================================================================\n",
            " dense_148 (Dense)           (None, 2)                 1570      \n",
            "                                                                 \n",
            " dropout_102 (Dropout)       (None, 2)                 0         \n",
            "                                                                 \n",
            " dense_149 (Dense)           (None, 2)                 6         \n",
            "                                                                 \n",
            " dropout_103 (Dropout)       (None, 2)                 0         \n",
            "                                                                 \n",
            " dense_150 (Dense)           (None, 2)                 6         \n",
            "                                                                 \n",
            " dropout_104 (Dropout)       (None, 2)                 0         \n",
            "                                                                 \n",
            " dense_151 (Dense)           (None, 10)                30        \n",
            "                                                                 \n",
            "=================================================================\n",
            "Total params: 1,612\n",
            "Trainable params: 1,612\n",
            "Non-trainable params: 0\n",
            "_________________________________________________________________\n",
            "Epoch 1/4\n",
            "   1/1875 [..............................] - ETA: 14:17 - loss: 2.3524 - accuracy: 0.0000e+00WARNING:tensorflow:Callback method `on_train_batch_end` is slow compared to the batch time (batch time: 0.0020s vs `on_train_batch_end` time: 0.0025s). Check your callbacks.\n",
            "1875/1875 [==============================] - 6s 3ms/step - loss: 2.0060 - accuracy: 0.2050 - val_loss: 1.6479 - val_accuracy: 0.3533\n",
            "Epoch 2/4\n",
            "1875/1875 [==============================] - 5s 3ms/step - loss: 1.8916 - accuracy: 0.2299 - val_loss: 1.5554 - val_accuracy: 0.4242\n",
            "Epoch 3/4\n",
            "1875/1875 [==============================] - 5s 3ms/step - loss: 1.8559 - accuracy: 0.2476 - val_loss: 1.5144 - val_accuracy: 0.4605\n",
            "Epoch 4/4\n",
            "1875/1875 [==============================] - 5s 3ms/step - loss: 1.8321 - accuracy: 0.2516 - val_loss: 1.4820 - val_accuracy: 0.4837\n",
            "INFO:tensorflow:Assets written to: /tmp/tmpp_62wngx/model/data/model/assets\n"
          ]
        },
        {
          "output_type": "stream",
          "name": "stderr",
          "text": [
            "2022/05/04 19:10:58 WARNING mlflow.utils.requirements_utils: Found jaxlib version (0.3.7+cuda11.cudnn805) contains a local version label (+cuda11.cudnn805). MLflow logged a pip requirement for this package as 'jaxlib==0.3.7' without the local version label to make it installable from PyPI. To specify pip requirements containing local version labels, please use `conda_env` or `pip_requirements`.\n"
          ]
        },
        {
          "output_type": "stream",
          "name": "stdout",
          "text": [
            "Modelo:  2727ea27792c4cefa3bf7e8fb1e47482\n",
            "Model: \"sequential_47\"\n",
            "_________________________________________________________________\n",
            " Layer (type)                Output Shape              Param #   \n",
            "=================================================================\n",
            " dense_152 (Dense)           (None, 2)                 1570      \n",
            "                                                                 \n",
            " dropout_105 (Dropout)       (None, 2)                 0         \n",
            "                                                                 \n",
            " dense_153 (Dense)           (None, 2)                 6         \n",
            "                                                                 \n",
            " dropout_106 (Dropout)       (None, 2)                 0         \n",
            "                                                                 \n",
            " dense_154 (Dense)           (None, 2)                 6         \n",
            "                                                                 \n",
            " dropout_107 (Dropout)       (None, 2)                 0         \n",
            "                                                                 \n",
            " dense_155 (Dense)           (None, 10)                30        \n",
            "                                                                 \n",
            "=================================================================\n",
            "Total params: 1,612\n",
            "Trainable params: 1,612\n",
            "Non-trainable params: 0\n",
            "_________________________________________________________________\n",
            "Epoch 1/5\n",
            "   1/1875 [..............................] - ETA: 14:11 - loss: 2.1989 - accuracy: 0.1562WARNING:tensorflow:Callback method `on_train_batch_end` is slow compared to the batch time (batch time: 0.0020s vs `on_train_batch_end` time: 0.0022s). Check your callbacks.\n",
            "1875/1875 [==============================] - 6s 3ms/step - loss: 2.0037 - accuracy: 0.1859 - val_loss: 1.8534 - val_accuracy: 0.2257\n",
            "Epoch 2/5\n",
            "1875/1875 [==============================] - 5s 3ms/step - loss: 1.9305 - accuracy: 0.1998 - val_loss: 1.8226 - val_accuracy: 0.2334\n",
            "Epoch 3/5\n",
            "1875/1875 [==============================] - 5s 3ms/step - loss: 1.9150 - accuracy: 0.2085 - val_loss: 1.8155 - val_accuracy: 0.2319\n",
            "Epoch 4/5\n",
            "1875/1875 [==============================] - 5s 3ms/step - loss: 1.9087 - accuracy: 0.2120 - val_loss: 1.8092 - val_accuracy: 0.2468\n",
            "Epoch 5/5\n",
            "1875/1875 [==============================] - 5s 3ms/step - loss: 1.9041 - accuracy: 0.2194 - val_loss: 1.7942 - val_accuracy: 0.2469\n",
            "INFO:tensorflow:Assets written to: /tmp/tmppeyj0kji/model/data/model/assets\n"
          ]
        },
        {
          "output_type": "stream",
          "name": "stderr",
          "text": [
            "2022/05/04 19:11:31 WARNING mlflow.utils.requirements_utils: Found jaxlib version (0.3.7+cuda11.cudnn805) contains a local version label (+cuda11.cudnn805). MLflow logged a pip requirement for this package as 'jaxlib==0.3.7' without the local version label to make it installable from PyPI. To specify pip requirements containing local version labels, please use `conda_env` or `pip_requirements`.\n"
          ]
        },
        {
          "output_type": "stream",
          "name": "stdout",
          "text": [
            "Modelo:  e07d45b1265e42e69d7239f765babd59\n",
            "Model: \"sequential_48\"\n",
            "_________________________________________________________________\n",
            " Layer (type)                Output Shape              Param #   \n",
            "=================================================================\n",
            " dense_156 (Dense)           (None, 4)                 3140      \n",
            "                                                                 \n",
            " dropout_108 (Dropout)       (None, 4)                 0         \n",
            "                                                                 \n",
            " dense_157 (Dense)           (None, 4)                 20        \n",
            "                                                                 \n",
            " dropout_109 (Dropout)       (None, 4)                 0         \n",
            "                                                                 \n",
            " dense_158 (Dense)           (None, 4)                 20        \n",
            "                                                                 \n",
            " dropout_110 (Dropout)       (None, 4)                 0         \n",
            "                                                                 \n",
            " dense_159 (Dense)           (None, 10)                50        \n",
            "                                                                 \n",
            "=================================================================\n",
            "Total params: 3,230\n",
            "Trainable params: 3,230\n",
            "Non-trainable params: 0\n",
            "_________________________________________________________________\n",
            "Epoch 1/3\n",
            "   1/1875 [..............................] - ETA: 14:09 - loss: 2.3023 - accuracy: 0.2500WARNING:tensorflow:Callback method `on_train_batch_end` is slow compared to the batch time (batch time: 0.0019s vs `on_train_batch_end` time: 0.0025s). Check your callbacks.\n",
            "1875/1875 [==============================] - 6s 3ms/step - loss: 1.9826 - accuracy: 0.2257 - val_loss: 1.7653 - val_accuracy: 0.2939\n",
            "Epoch 2/3\n",
            "1875/1875 [==============================] - 5s 3ms/step - loss: 1.8204 - accuracy: 0.2747 - val_loss: 1.6739 - val_accuracy: 0.3755\n",
            "Epoch 3/3\n",
            "1875/1875 [==============================] - 5s 3ms/step - loss: 1.7715 - accuracy: 0.3065 - val_loss: 1.6150 - val_accuracy: 0.4071\n",
            "INFO:tensorflow:Assets written to: /tmp/tmpgqab86ym/model/data/model/assets\n"
          ]
        },
        {
          "output_type": "stream",
          "name": "stderr",
          "text": [
            "2022/05/04 19:11:53 WARNING mlflow.utils.requirements_utils: Found jaxlib version (0.3.7+cuda11.cudnn805) contains a local version label (+cuda11.cudnn805). MLflow logged a pip requirement for this package as 'jaxlib==0.3.7' without the local version label to make it installable from PyPI. To specify pip requirements containing local version labels, please use `conda_env` or `pip_requirements`.\n"
          ]
        },
        {
          "output_type": "stream",
          "name": "stdout",
          "text": [
            "Modelo:  dfcd99c1ed964dac9b3bf798ab44dce1\n",
            "Model: \"sequential_49\"\n",
            "_________________________________________________________________\n",
            " Layer (type)                Output Shape              Param #   \n",
            "=================================================================\n",
            " dense_160 (Dense)           (None, 4)                 3140      \n",
            "                                                                 \n",
            " dropout_111 (Dropout)       (None, 4)                 0         \n",
            "                                                                 \n",
            " dense_161 (Dense)           (None, 4)                 20        \n",
            "                                                                 \n",
            " dropout_112 (Dropout)       (None, 4)                 0         \n",
            "                                                                 \n",
            " dense_162 (Dense)           (None, 4)                 20        \n",
            "                                                                 \n",
            " dropout_113 (Dropout)       (None, 4)                 0         \n",
            "                                                                 \n",
            " dense_163 (Dense)           (None, 10)                50        \n",
            "                                                                 \n",
            "=================================================================\n",
            "Total params: 3,230\n",
            "Trainable params: 3,230\n",
            "Non-trainable params: 0\n",
            "_________________________________________________________________\n",
            "Epoch 1/4\n",
            "1875/1875 [==============================] - 6s 3ms/step - loss: 1.7946 - accuracy: 0.3051 - val_loss: 1.3691 - val_accuracy: 0.5035\n",
            "Epoch 2/4\n",
            "1875/1875 [==============================] - 6s 3ms/step - loss: 1.5486 - accuracy: 0.3856 - val_loss: 1.2686 - val_accuracy: 0.5328\n",
            "Epoch 3/4\n",
            "1875/1875 [==============================] - 5s 3ms/step - loss: 1.5019 - accuracy: 0.4159 - val_loss: 1.1971 - val_accuracy: 0.5968\n",
            "Epoch 4/4\n",
            "1875/1875 [==============================] - 5s 3ms/step - loss: 1.4471 - accuracy: 0.4544 - val_loss: 1.1218 - val_accuracy: 0.6217\n",
            "INFO:tensorflow:Assets written to: /tmp/tmp7257x3kc/model/data/model/assets\n"
          ]
        },
        {
          "output_type": "stream",
          "name": "stderr",
          "text": [
            "2022/05/04 19:12:41 WARNING mlflow.utils.requirements_utils: Found jaxlib version (0.3.7+cuda11.cudnn805) contains a local version label (+cuda11.cudnn805). MLflow logged a pip requirement for this package as 'jaxlib==0.3.7' without the local version label to make it installable from PyPI. To specify pip requirements containing local version labels, please use `conda_env` or `pip_requirements`.\n"
          ]
        },
        {
          "output_type": "stream",
          "name": "stdout",
          "text": [
            "Modelo:  f5c6780b32824fd6aa029d4475d86cf0\n",
            "Model: \"sequential_50\"\n",
            "_________________________________________________________________\n",
            " Layer (type)                Output Shape              Param #   \n",
            "=================================================================\n",
            " dense_164 (Dense)           (None, 4)                 3140      \n",
            "                                                                 \n",
            " dropout_114 (Dropout)       (None, 4)                 0         \n",
            "                                                                 \n",
            " dense_165 (Dense)           (None, 4)                 20        \n",
            "                                                                 \n",
            " dropout_115 (Dropout)       (None, 4)                 0         \n",
            "                                                                 \n",
            " dense_166 (Dense)           (None, 4)                 20        \n",
            "                                                                 \n",
            " dropout_116 (Dropout)       (None, 4)                 0         \n",
            "                                                                 \n",
            " dense_167 (Dense)           (None, 10)                50        \n",
            "                                                                 \n",
            "=================================================================\n",
            "Total params: 3,230\n",
            "Trainable params: 3,230\n",
            "Non-trainable params: 0\n",
            "_________________________________________________________________\n",
            "Epoch 1/5\n",
            "   1/1875 [..............................] - ETA: 14:06 - loss: 2.2979 - accuracy: 0.1250WARNING:tensorflow:Callback method `on_train_batch_end` is slow compared to the batch time (batch time: 0.0019s vs `on_train_batch_end` time: 0.0026s). Check your callbacks.\n",
            "1875/1875 [==============================] - 6s 3ms/step - loss: 1.9132 - accuracy: 0.2921 - val_loss: 1.5731 - val_accuracy: 0.4456\n",
            "Epoch 2/5\n",
            "1875/1875 [==============================] - 5s 3ms/step - loss: 1.6361 - accuracy: 0.3745 - val_loss: 1.4000 - val_accuracy: 0.5118\n",
            "Epoch 3/5\n",
            "1875/1875 [==============================] - 5s 3ms/step - loss: 1.5713 - accuracy: 0.3980 - val_loss: 1.3205 - val_accuracy: 0.5515\n",
            "Epoch 4/5\n",
            "1875/1875 [==============================] - 5s 3ms/step - loss: 1.5334 - accuracy: 0.4347 - val_loss: 1.2780 - val_accuracy: 0.5796\n",
            "Epoch 5/5\n",
            "1875/1875 [==============================] - 5s 3ms/step - loss: 1.5149 - accuracy: 0.4450 - val_loss: 1.2388 - val_accuracy: 0.5920\n",
            "INFO:tensorflow:Assets written to: /tmp/tmpk_iv24ze/model/data/model/assets\n"
          ]
        },
        {
          "output_type": "stream",
          "name": "stderr",
          "text": [
            "2022/05/04 19:13:28 WARNING mlflow.utils.requirements_utils: Found jaxlib version (0.3.7+cuda11.cudnn805) contains a local version label (+cuda11.cudnn805). MLflow logged a pip requirement for this package as 'jaxlib==0.3.7' without the local version label to make it installable from PyPI. To specify pip requirements containing local version labels, please use `conda_env` or `pip_requirements`.\n"
          ]
        },
        {
          "output_type": "stream",
          "name": "stdout",
          "text": [
            "Modelo:  76b28f429b7743eaa2e386a5fdeb31c4\n",
            "Model: \"sequential_51\"\n",
            "_________________________________________________________________\n",
            " Layer (type)                Output Shape              Param #   \n",
            "=================================================================\n",
            " dense_168 (Dense)           (None, 4)                 3140      \n",
            "                                                                 \n",
            " dropout_117 (Dropout)       (None, 4)                 0         \n",
            "                                                                 \n",
            " dense_169 (Dense)           (None, 4)                 20        \n",
            "                                                                 \n",
            " dropout_118 (Dropout)       (None, 4)                 0         \n",
            "                                                                 \n",
            " dense_170 (Dense)           (None, 4)                 20        \n",
            "                                                                 \n",
            " dropout_119 (Dropout)       (None, 4)                 0         \n",
            "                                                                 \n",
            " dense_171 (Dense)           (None, 10)                50        \n",
            "                                                                 \n",
            "=================================================================\n",
            "Total params: 3,230\n",
            "Trainable params: 3,230\n",
            "Non-trainable params: 0\n",
            "_________________________________________________________________\n",
            "Epoch 1/3\n",
            "   1/1875 [..............................] - ETA: 14:12 - loss: 2.3306 - accuracy: 0.1562WARNING:tensorflow:Callback method `on_train_batch_end` is slow compared to the batch time (batch time: 0.0019s vs `on_train_batch_end` time: 0.0027s). Check your callbacks.\n",
            "1875/1875 [==============================] - 6s 3ms/step - loss: 1.8883 - accuracy: 0.2885 - val_loss: 1.3957 - val_accuracy: 0.5520\n",
            "Epoch 2/3\n",
            "1875/1875 [==============================] - 5s 3ms/step - loss: 1.6750 - accuracy: 0.3533 - val_loss: 1.2567 - val_accuracy: 0.5558\n",
            "Epoch 3/3\n",
            "1875/1875 [==============================] - 5s 3ms/step - loss: 1.6276 - accuracy: 0.3621 - val_loss: 1.2117 - val_accuracy: 0.5634\n",
            "INFO:tensorflow:Assets written to: /tmp/tmpfcidb6pb/model/data/model/assets\n"
          ]
        },
        {
          "output_type": "stream",
          "name": "stderr",
          "text": [
            "2022/05/04 19:13:55 WARNING mlflow.utils.requirements_utils: Found jaxlib version (0.3.7+cuda11.cudnn805) contains a local version label (+cuda11.cudnn805). MLflow logged a pip requirement for this package as 'jaxlib==0.3.7' without the local version label to make it installable from PyPI. To specify pip requirements containing local version labels, please use `conda_env` or `pip_requirements`.\n"
          ]
        },
        {
          "output_type": "stream",
          "name": "stdout",
          "text": [
            "Modelo:  284bdee023a044a5ae65f2eb7f53bf98\n",
            "Model: \"sequential_52\"\n",
            "_________________________________________________________________\n",
            " Layer (type)                Output Shape              Param #   \n",
            "=================================================================\n",
            " dense_172 (Dense)           (None, 4)                 3140      \n",
            "                                                                 \n",
            " dropout_120 (Dropout)       (None, 4)                 0         \n",
            "                                                                 \n",
            " dense_173 (Dense)           (None, 4)                 20        \n",
            "                                                                 \n",
            " dropout_121 (Dropout)       (None, 4)                 0         \n",
            "                                                                 \n",
            " dense_174 (Dense)           (None, 4)                 20        \n",
            "                                                                 \n",
            " dropout_122 (Dropout)       (None, 4)                 0         \n",
            "                                                                 \n",
            " dense_175 (Dense)           (None, 10)                50        \n",
            "                                                                 \n",
            "=================================================================\n",
            "Total params: 3,230\n",
            "Trainable params: 3,230\n",
            "Non-trainable params: 0\n",
            "_________________________________________________________________\n",
            "Epoch 1/4\n",
            "   1/1875 [..............................] - ETA: 13:53 - loss: 2.3132 - accuracy: 0.0625WARNING:tensorflow:Callback method `on_train_batch_end` is slow compared to the batch time (batch time: 0.0023s vs `on_train_batch_end` time: 0.0024s). Check your callbacks.\n",
            "1875/1875 [==============================] - 6s 3ms/step - loss: 1.9014 - accuracy: 0.2402 - val_loss: 1.5806 - val_accuracy: 0.4091\n",
            "Epoch 2/4\n",
            "1875/1875 [==============================] - 5s 3ms/step - loss: 1.7468 - accuracy: 0.2941 - val_loss: 1.5073 - val_accuracy: 0.4219\n",
            "Epoch 3/4\n",
            "1875/1875 [==============================] - 5s 3ms/step - loss: 1.7181 - accuracy: 0.3025 - val_loss: 1.4850 - val_accuracy: 0.4499\n",
            "Epoch 4/4\n",
            "1875/1875 [==============================] - 5s 3ms/step - loss: 1.7025 - accuracy: 0.3071 - val_loss: 1.4683 - val_accuracy: 0.4429\n",
            "INFO:tensorflow:Assets written to: /tmp/tmp4qlv5gmd/model/data/model/assets\n"
          ]
        },
        {
          "output_type": "stream",
          "name": "stderr",
          "text": [
            "2022/05/04 19:14:42 WARNING mlflow.utils.requirements_utils: Found jaxlib version (0.3.7+cuda11.cudnn805) contains a local version label (+cuda11.cudnn805). MLflow logged a pip requirement for this package as 'jaxlib==0.3.7' without the local version label to make it installable from PyPI. To specify pip requirements containing local version labels, please use `conda_env` or `pip_requirements`.\n"
          ]
        },
        {
          "output_type": "stream",
          "name": "stdout",
          "text": [
            "Modelo:  004b96779c9c49799f8362881e1ad4b8\n",
            "Model: \"sequential_53\"\n",
            "_________________________________________________________________\n",
            " Layer (type)                Output Shape              Param #   \n",
            "=================================================================\n",
            " dense_176 (Dense)           (None, 4)                 3140      \n",
            "                                                                 \n",
            " dropout_123 (Dropout)       (None, 4)                 0         \n",
            "                                                                 \n",
            " dense_177 (Dense)           (None, 4)                 20        \n",
            "                                                                 \n",
            " dropout_124 (Dropout)       (None, 4)                 0         \n",
            "                                                                 \n",
            " dense_178 (Dense)           (None, 4)                 20        \n",
            "                                                                 \n",
            " dropout_125 (Dropout)       (None, 4)                 0         \n",
            "                                                                 \n",
            " dense_179 (Dense)           (None, 10)                50        \n",
            "                                                                 \n",
            "=================================================================\n",
            "Total params: 3,230\n",
            "Trainable params: 3,230\n",
            "Non-trainable params: 0\n",
            "_________________________________________________________________\n",
            "Epoch 1/5\n",
            "1875/1875 [==============================] - 6s 3ms/step - loss: 1.9274 - accuracy: 0.2343 - val_loss: 1.5366 - val_accuracy: 0.3641\n",
            "Epoch 2/5\n",
            "1875/1875 [==============================] - 5s 3ms/step - loss: 1.7458 - accuracy: 0.3050 - val_loss: 1.4214 - val_accuracy: 0.5161\n",
            "Epoch 3/5\n",
            "1875/1875 [==============================] - 5s 3ms/step - loss: 1.7058 - accuracy: 0.3320 - val_loss: 1.3605 - val_accuracy: 0.5487\n",
            "Epoch 4/5\n",
            "1875/1875 [==============================] - 6s 3ms/step - loss: 1.6788 - accuracy: 0.3472 - val_loss: 1.3237 - val_accuracy: 0.5608\n",
            "Epoch 5/5\n",
            "1875/1875 [==============================] - 5s 3ms/step - loss: 1.6693 - accuracy: 0.3515 - val_loss: 1.3159 - val_accuracy: 0.5509\n",
            "INFO:tensorflow:Assets written to: /tmp/tmpl08qqe1p/model/data/model/assets\n"
          ]
        },
        {
          "output_type": "stream",
          "name": "stderr",
          "text": [
            "2022/05/04 19:15:15 WARNING mlflow.utils.requirements_utils: Found jaxlib version (0.3.7+cuda11.cudnn805) contains a local version label (+cuda11.cudnn805). MLflow logged a pip requirement for this package as 'jaxlib==0.3.7' without the local version label to make it installable from PyPI. To specify pip requirements containing local version labels, please use `conda_env` or `pip_requirements`.\n"
          ]
        },
        {
          "output_type": "stream",
          "name": "stdout",
          "text": [
            "Modelo:  a37805af993240e2bcb0e5aebce3373f\n",
            "Model: \"sequential_54\"\n",
            "_________________________________________________________________\n",
            " Layer (type)                Output Shape              Param #   \n",
            "=================================================================\n",
            " dense_180 (Dense)           (None, 4)                 3140      \n",
            "                                                                 \n",
            " dropout_126 (Dropout)       (None, 4)                 0         \n",
            "                                                                 \n",
            " dense_181 (Dense)           (None, 4)                 20        \n",
            "                                                                 \n",
            " dropout_127 (Dropout)       (None, 4)                 0         \n",
            "                                                                 \n",
            " dense_182 (Dense)           (None, 4)                 20        \n",
            "                                                                 \n",
            " dropout_128 (Dropout)       (None, 4)                 0         \n",
            "                                                                 \n",
            " dense_183 (Dense)           (None, 10)                50        \n",
            "                                                                 \n",
            "=================================================================\n",
            "Total params: 3,230\n",
            "Trainable params: 3,230\n",
            "Non-trainable params: 0\n",
            "_________________________________________________________________\n",
            "Epoch 1/3\n",
            "1875/1875 [==============================] - 6s 3ms/step - loss: 1.5714 - accuracy: 0.4258 - val_loss: 1.1420 - val_accuracy: 0.6131\n",
            "Epoch 2/3\n",
            "1875/1875 [==============================] - 5s 3ms/step - loss: 1.2569 - accuracy: 0.5311 - val_loss: 0.8600 - val_accuracy: 0.7462\n",
            "Epoch 3/3\n",
            "1875/1875 [==============================] - 5s 3ms/step - loss: 1.1050 - accuracy: 0.5880 - val_loss: 0.7588 - val_accuracy: 0.7410\n",
            "INFO:tensorflow:Assets written to: /tmp/tmpvw3olt88/model/data/model/assets\n"
          ]
        },
        {
          "output_type": "stream",
          "name": "stderr",
          "text": [
            "2022/05/04 19:15:42 WARNING mlflow.utils.requirements_utils: Found jaxlib version (0.3.7+cuda11.cudnn805) contains a local version label (+cuda11.cudnn805). MLflow logged a pip requirement for this package as 'jaxlib==0.3.7' without the local version label to make it installable from PyPI. To specify pip requirements containing local version labels, please use `conda_env` or `pip_requirements`.\n"
          ]
        },
        {
          "output_type": "stream",
          "name": "stdout",
          "text": [
            "Modelo:  0ecde57867614850917dfed97da481c3\n",
            "Model: \"sequential_55\"\n",
            "_________________________________________________________________\n",
            " Layer (type)                Output Shape              Param #   \n",
            "=================================================================\n",
            " dense_184 (Dense)           (None, 4)                 3140      \n",
            "                                                                 \n",
            " dropout_129 (Dropout)       (None, 4)                 0         \n",
            "                                                                 \n",
            " dense_185 (Dense)           (None, 4)                 20        \n",
            "                                                                 \n",
            " dropout_130 (Dropout)       (None, 4)                 0         \n",
            "                                                                 \n",
            " dense_186 (Dense)           (None, 4)                 20        \n",
            "                                                                 \n",
            " dropout_131 (Dropout)       (None, 4)                 0         \n",
            "                                                                 \n",
            " dense_187 (Dense)           (None, 10)                50        \n",
            "                                                                 \n",
            "=================================================================\n",
            "Total params: 3,230\n",
            "Trainable params: 3,230\n",
            "Non-trainable params: 0\n",
            "_________________________________________________________________\n",
            "Epoch 1/4\n",
            "1875/1875 [==============================] - 6s 3ms/step - loss: 1.4578 - accuracy: 0.4886 - val_loss: 0.9505 - val_accuracy: 0.7200\n",
            "Epoch 2/4\n",
            "1875/1875 [==============================] - 5s 3ms/step - loss: 1.1514 - accuracy: 0.5776 - val_loss: 0.8320 - val_accuracy: 0.7413\n",
            "Epoch 3/4\n",
            "1875/1875 [==============================] - 5s 3ms/step - loss: 1.1050 - accuracy: 0.5869 - val_loss: 0.7832 - val_accuracy: 0.7381\n",
            "Epoch 4/4\n",
            "1875/1875 [==============================] - 5s 3ms/step - loss: 1.0812 - accuracy: 0.5858 - val_loss: 0.7651 - val_accuracy: 0.7439\n",
            "INFO:tensorflow:Assets written to: /tmp/tmpsoaac1mx/model/data/model/assets\n"
          ]
        },
        {
          "output_type": "stream",
          "name": "stderr",
          "text": [
            "2022/05/04 19:16:10 WARNING mlflow.utils.requirements_utils: Found jaxlib version (0.3.7+cuda11.cudnn805) contains a local version label (+cuda11.cudnn805). MLflow logged a pip requirement for this package as 'jaxlib==0.3.7' without the local version label to make it installable from PyPI. To specify pip requirements containing local version labels, please use `conda_env` or `pip_requirements`.\n"
          ]
        },
        {
          "output_type": "stream",
          "name": "stdout",
          "text": [
            "Modelo:  2c207fae7c0c4828b084628c2d115559\n",
            "Model: \"sequential_56\"\n",
            "_________________________________________________________________\n",
            " Layer (type)                Output Shape              Param #   \n",
            "=================================================================\n",
            " dense_188 (Dense)           (None, 4)                 3140      \n",
            "                                                                 \n",
            " dropout_132 (Dropout)       (None, 4)                 0         \n",
            "                                                                 \n",
            " dense_189 (Dense)           (None, 4)                 20        \n",
            "                                                                 \n",
            " dropout_133 (Dropout)       (None, 4)                 0         \n",
            "                                                                 \n",
            " dense_190 (Dense)           (None, 4)                 20        \n",
            "                                                                 \n",
            " dropout_134 (Dropout)       (None, 4)                 0         \n",
            "                                                                 \n",
            " dense_191 (Dense)           (None, 10)                50        \n",
            "                                                                 \n",
            "=================================================================\n",
            "Total params: 3,230\n",
            "Trainable params: 3,230\n",
            "Non-trainable params: 0\n",
            "_________________________________________________________________\n",
            "Epoch 1/5\n",
            "   1/1875 [..............................] - ETA: 14:10 - loss: 2.2604 - accuracy: 0.1250WARNING:tensorflow:Callback method `on_train_batch_end` is slow compared to the batch time (batch time: 0.0020s vs `on_train_batch_end` time: 0.0021s). Check your callbacks.\n",
            "1875/1875 [==============================] - 6s 3ms/step - loss: 1.5526 - accuracy: 0.4299 - val_loss: 1.0981 - val_accuracy: 0.6547\n",
            "Epoch 2/5\n",
            "1875/1875 [==============================] - 5s 3ms/step - loss: 1.2518 - accuracy: 0.5219 - val_loss: 0.9219 - val_accuracy: 0.7181\n",
            "Epoch 3/5\n",
            "1875/1875 [==============================] - 5s 3ms/step - loss: 1.1759 - accuracy: 0.5454 - val_loss: 0.8855 - val_accuracy: 0.7452\n",
            "Epoch 4/5\n",
            "1875/1875 [==============================] - 5s 3ms/step - loss: 1.1421 - accuracy: 0.5624 - val_loss: 0.8350 - val_accuracy: 0.7353\n",
            "Epoch 5/5\n",
            "1875/1875 [==============================] - 5s 3ms/step - loss: 1.1161 - accuracy: 0.5824 - val_loss: 0.8263 - val_accuracy: 0.7609\n",
            "INFO:tensorflow:Assets written to: /tmp/tmpgto1d_sp/model/data/model/assets\n"
          ]
        },
        {
          "output_type": "stream",
          "name": "stderr",
          "text": [
            "2022/05/04 19:16:57 WARNING mlflow.utils.requirements_utils: Found jaxlib version (0.3.7+cuda11.cudnn805) contains a local version label (+cuda11.cudnn805). MLflow logged a pip requirement for this package as 'jaxlib==0.3.7' without the local version label to make it installable from PyPI. To specify pip requirements containing local version labels, please use `conda_env` or `pip_requirements`.\n"
          ]
        },
        {
          "output_type": "stream",
          "name": "stdout",
          "text": [
            "Modelo:  5d687274812c41398f66b1b37079040c\n",
            "Model: \"sequential_57\"\n",
            "_________________________________________________________________\n",
            " Layer (type)                Output Shape              Param #   \n",
            "=================================================================\n",
            " dense_192 (Dense)           (None, 4)                 3140      \n",
            "                                                                 \n",
            " dropout_135 (Dropout)       (None, 4)                 0         \n",
            "                                                                 \n",
            " dense_193 (Dense)           (None, 4)                 20        \n",
            "                                                                 \n",
            " dropout_136 (Dropout)       (None, 4)                 0         \n",
            "                                                                 \n",
            " dense_194 (Dense)           (None, 4)                 20        \n",
            "                                                                 \n",
            " dropout_137 (Dropout)       (None, 4)                 0         \n",
            "                                                                 \n",
            " dense_195 (Dense)           (None, 10)                50        \n",
            "                                                                 \n",
            "=================================================================\n",
            "Total params: 3,230\n",
            "Trainable params: 3,230\n",
            "Non-trainable params: 0\n",
            "_________________________________________________________________\n",
            "Epoch 1/3\n",
            "   1/1875 [..............................] - ETA: 24:36 - loss: 2.3873 - accuracy: 0.1250WARNING:tensorflow:Callback method `on_train_batch_end` is slow compared to the batch time (batch time: 0.0021s vs `on_train_batch_end` time: 0.0024s). Check your callbacks.\n",
            "1875/1875 [==============================] - 6s 3ms/step - loss: 1.7262 - accuracy: 0.3293 - val_loss: 1.2844 - val_accuracy: 0.5051\n",
            "Epoch 2/3\n",
            "1875/1875 [==============================] - 6s 3ms/step - loss: 1.5275 - accuracy: 0.3667 - val_loss: 1.2038 - val_accuracy: 0.5133\n",
            "Epoch 3/3\n",
            "1875/1875 [==============================] - 5s 3ms/step - loss: 1.4911 - accuracy: 0.3729 - val_loss: 1.1675 - val_accuracy: 0.4940\n",
            "INFO:tensorflow:Assets written to: /tmp/tmpqwxp8rad/model/data/model/assets\n"
          ]
        },
        {
          "output_type": "stream",
          "name": "stderr",
          "text": [
            "2022/05/04 19:17:24 WARNING mlflow.utils.requirements_utils: Found jaxlib version (0.3.7+cuda11.cudnn805) contains a local version label (+cuda11.cudnn805). MLflow logged a pip requirement for this package as 'jaxlib==0.3.7' without the local version label to make it installable from PyPI. To specify pip requirements containing local version labels, please use `conda_env` or `pip_requirements`.\n"
          ]
        },
        {
          "output_type": "stream",
          "name": "stdout",
          "text": [
            "Modelo:  e5a3cbfd6af442b3b82cd38f66ee6212\n",
            "Model: \"sequential_58\"\n",
            "_________________________________________________________________\n",
            " Layer (type)                Output Shape              Param #   \n",
            "=================================================================\n",
            " dense_196 (Dense)           (None, 4)                 3140      \n",
            "                                                                 \n",
            " dropout_138 (Dropout)       (None, 4)                 0         \n",
            "                                                                 \n",
            " dense_197 (Dense)           (None, 4)                 20        \n",
            "                                                                 \n",
            " dropout_139 (Dropout)       (None, 4)                 0         \n",
            "                                                                 \n",
            " dense_198 (Dense)           (None, 4)                 20        \n",
            "                                                                 \n",
            " dropout_140 (Dropout)       (None, 4)                 0         \n",
            "                                                                 \n",
            " dense_199 (Dense)           (None, 10)                50        \n",
            "                                                                 \n",
            "=================================================================\n",
            "Total params: 3,230\n",
            "Trainable params: 3,230\n",
            "Non-trainable params: 0\n",
            "_________________________________________________________________\n",
            "Epoch 1/4\n",
            "1875/1875 [==============================] - 6s 3ms/step - loss: 1.7228 - accuracy: 0.3163 - val_loss: 1.3118 - val_accuracy: 0.5250\n",
            "Epoch 2/4\n",
            "1875/1875 [==============================] - 5s 3ms/step - loss: 1.5343 - accuracy: 0.3772 - val_loss: 1.2156 - val_accuracy: 0.5479\n",
            "Epoch 3/4\n",
            "1875/1875 [==============================] - 5s 3ms/step - loss: 1.4781 - accuracy: 0.3903 - val_loss: 1.1739 - val_accuracy: 0.5579\n",
            "Epoch 4/4\n",
            "1875/1875 [==============================] - 5s 3ms/step - loss: 1.4596 - accuracy: 0.3889 - val_loss: 1.1646 - val_accuracy: 0.5549\n",
            "INFO:tensorflow:Assets written to: /tmp/tmpz5lcs9xn/model/data/model/assets\n"
          ]
        },
        {
          "output_type": "stream",
          "name": "stderr",
          "text": [
            "2022/05/04 19:17:52 WARNING mlflow.utils.requirements_utils: Found jaxlib version (0.3.7+cuda11.cudnn805) contains a local version label (+cuda11.cudnn805). MLflow logged a pip requirement for this package as 'jaxlib==0.3.7' without the local version label to make it installable from PyPI. To specify pip requirements containing local version labels, please use `conda_env` or `pip_requirements`.\n"
          ]
        },
        {
          "output_type": "stream",
          "name": "stdout",
          "text": [
            "Modelo:  f46d96a607bb4ad797acda4cc6867286\n",
            "Model: \"sequential_59\"\n",
            "_________________________________________________________________\n",
            " Layer (type)                Output Shape              Param #   \n",
            "=================================================================\n",
            " dense_200 (Dense)           (None, 4)                 3140      \n",
            "                                                                 \n",
            " dropout_141 (Dropout)       (None, 4)                 0         \n",
            "                                                                 \n",
            " dense_201 (Dense)           (None, 4)                 20        \n",
            "                                                                 \n",
            " dropout_142 (Dropout)       (None, 4)                 0         \n",
            "                                                                 \n",
            " dense_202 (Dense)           (None, 4)                 20        \n",
            "                                                                 \n",
            " dropout_143 (Dropout)       (None, 4)                 0         \n",
            "                                                                 \n",
            " dense_203 (Dense)           (None, 10)                50        \n",
            "                                                                 \n",
            "=================================================================\n",
            "Total params: 3,230\n",
            "Trainable params: 3,230\n",
            "Non-trainable params: 0\n",
            "_________________________________________________________________\n",
            "Epoch 1/5\n",
            "   1/1875 [..............................] - ETA: 13:56 - loss: 2.4208 - accuracy: 0.0938WARNING:tensorflow:Callback method `on_train_batch_end` is slow compared to the batch time (batch time: 0.0019s vs `on_train_batch_end` time: 0.0027s). Check your callbacks.\n",
            "1875/1875 [==============================] - 6s 3ms/step - loss: 1.7583 - accuracy: 0.3149 - val_loss: 1.3069 - val_accuracy: 0.5037\n",
            "Epoch 2/5\n",
            "1875/1875 [==============================] - 5s 3ms/step - loss: 1.5257 - accuracy: 0.3753 - val_loss: 1.1650 - val_accuracy: 0.5288\n",
            "Epoch 3/5\n",
            "1875/1875 [==============================] - 5s 3ms/step - loss: 1.4592 - accuracy: 0.3981 - val_loss: 1.0647 - val_accuracy: 0.5754\n",
            "Epoch 4/5\n",
            "1875/1875 [==============================] - 5s 3ms/step - loss: 1.3917 - accuracy: 0.4283 - val_loss: 0.9801 - val_accuracy: 0.5628\n",
            "Epoch 5/5\n",
            "1875/1875 [==============================] - 5s 3ms/step - loss: 1.3492 - accuracy: 0.4428 - val_loss: 0.9587 - val_accuracy: 0.5846\n",
            "INFO:tensorflow:Assets written to: /tmp/tmp4un0m4bc/model/data/model/assets\n"
          ]
        },
        {
          "output_type": "stream",
          "name": "stderr",
          "text": [
            "2022/05/04 19:18:25 WARNING mlflow.utils.requirements_utils: Found jaxlib version (0.3.7+cuda11.cudnn805) contains a local version label (+cuda11.cudnn805). MLflow logged a pip requirement for this package as 'jaxlib==0.3.7' without the local version label to make it installable from PyPI. To specify pip requirements containing local version labels, please use `conda_env` or `pip_requirements`.\n"
          ]
        },
        {
          "output_type": "stream",
          "name": "stdout",
          "text": [
            "Modelo:  c6aa0a1d5ece4d228155b3abde8dd090\n",
            "Model: \"sequential_60\"\n",
            "_________________________________________________________________\n",
            " Layer (type)                Output Shape              Param #   \n",
            "=================================================================\n",
            " dense_204 (Dense)           (None, 6)                 4710      \n",
            "                                                                 \n",
            " dropout_144 (Dropout)       (None, 6)                 0         \n",
            "                                                                 \n",
            " dense_205 (Dense)           (None, 6)                 42        \n",
            "                                                                 \n",
            " dropout_145 (Dropout)       (None, 6)                 0         \n",
            "                                                                 \n",
            " dense_206 (Dense)           (None, 6)                 42        \n",
            "                                                                 \n",
            " dropout_146 (Dropout)       (None, 6)                 0         \n",
            "                                                                 \n",
            " dense_207 (Dense)           (None, 10)                70        \n",
            "                                                                 \n",
            "=================================================================\n",
            "Total params: 4,864\n",
            "Trainable params: 4,864\n",
            "Non-trainable params: 0\n",
            "_________________________________________________________________\n",
            "Epoch 1/3\n",
            "   1/1875 [..............................] - ETA: 14:10 - loss: 2.3038 - accuracy: 0.1562WARNING:tensorflow:Callback method `on_train_batch_end` is slow compared to the batch time (batch time: 0.0021s vs `on_train_batch_end` time: 0.0022s). Check your callbacks.\n",
            "1875/1875 [==============================] - 6s 3ms/step - loss: 1.4869 - accuracy: 0.4493 - val_loss: 0.8919 - val_accuracy: 0.7106\n",
            "Epoch 2/3\n",
            "1875/1875 [==============================] - 5s 3ms/step - loss: 1.1738 - accuracy: 0.5651 - val_loss: 0.7650 - val_accuracy: 0.7833\n",
            "Epoch 3/3\n",
            "1875/1875 [==============================] - 5s 3ms/step - loss: 1.1069 - accuracy: 0.6057 - val_loss: 0.7337 - val_accuracy: 0.8068\n",
            "INFO:tensorflow:Assets written to: /tmp/tmpv48shx1p/model/data/model/assets\n"
          ]
        },
        {
          "output_type": "stream",
          "name": "stderr",
          "text": [
            "2022/05/04 19:18:52 WARNING mlflow.utils.requirements_utils: Found jaxlib version (0.3.7+cuda11.cudnn805) contains a local version label (+cuda11.cudnn805). MLflow logged a pip requirement for this package as 'jaxlib==0.3.7' without the local version label to make it installable from PyPI. To specify pip requirements containing local version labels, please use `conda_env` or `pip_requirements`.\n"
          ]
        },
        {
          "output_type": "stream",
          "name": "stdout",
          "text": [
            "Modelo:  af03946cfd904518ab1cb0cb0ce74875\n",
            "Model: \"sequential_61\"\n",
            "_________________________________________________________________\n",
            " Layer (type)                Output Shape              Param #   \n",
            "=================================================================\n",
            " dense_208 (Dense)           (None, 6)                 4710      \n",
            "                                                                 \n",
            " dropout_147 (Dropout)       (None, 6)                 0         \n",
            "                                                                 \n",
            " dense_209 (Dense)           (None, 6)                 42        \n",
            "                                                                 \n",
            " dropout_148 (Dropout)       (None, 6)                 0         \n",
            "                                                                 \n",
            " dense_210 (Dense)           (None, 6)                 42        \n",
            "                                                                 \n",
            " dropout_149 (Dropout)       (None, 6)                 0         \n",
            "                                                                 \n",
            " dense_211 (Dense)           (None, 10)                70        \n",
            "                                                                 \n",
            "=================================================================\n",
            "Total params: 4,864\n",
            "Trainable params: 4,864\n",
            "Non-trainable params: 0\n",
            "_________________________________________________________________\n",
            "Epoch 1/4\n",
            "   1/1875 [..............................] - ETA: 14:09 - loss: 2.2897 - accuracy: 0.0312WARNING:tensorflow:Callback method `on_train_batch_end` is slow compared to the batch time (batch time: 0.0023s vs `on_train_batch_end` time: 0.0024s). Check your callbacks.\n",
            "1875/1875 [==============================] - 6s 3ms/step - loss: 1.4739 - accuracy: 0.4839 - val_loss: 0.8865 - val_accuracy: 0.7395\n",
            "Epoch 2/4\n",
            "1875/1875 [==============================] - 6s 3ms/step - loss: 1.1438 - accuracy: 0.6010 - val_loss: 0.7542 - val_accuracy: 0.7821\n",
            "Epoch 3/4\n",
            "1875/1875 [==============================] - 5s 3ms/step - loss: 1.0771 - accuracy: 0.6327 - val_loss: 0.7096 - val_accuracy: 0.7901\n",
            "Epoch 4/4\n",
            "1875/1875 [==============================] - 5s 3ms/step - loss: 1.0477 - accuracy: 0.6440 - val_loss: 0.7062 - val_accuracy: 0.7934\n",
            "INFO:tensorflow:Assets written to: /tmp/tmp6m9z7h1h/model/data/model/assets\n"
          ]
        },
        {
          "output_type": "stream",
          "name": "stderr",
          "text": [
            "2022/05/04 19:19:39 WARNING mlflow.utils.requirements_utils: Found jaxlib version (0.3.7+cuda11.cudnn805) contains a local version label (+cuda11.cudnn805). MLflow logged a pip requirement for this package as 'jaxlib==0.3.7' without the local version label to make it installable from PyPI. To specify pip requirements containing local version labels, please use `conda_env` or `pip_requirements`.\n"
          ]
        },
        {
          "output_type": "stream",
          "name": "stdout",
          "text": [
            "Modelo:  6974469a8d3742b39dc4989dc8533273\n",
            "Model: \"sequential_62\"\n",
            "_________________________________________________________________\n",
            " Layer (type)                Output Shape              Param #   \n",
            "=================================================================\n",
            " dense_212 (Dense)           (None, 6)                 4710      \n",
            "                                                                 \n",
            " dropout_150 (Dropout)       (None, 6)                 0         \n",
            "                                                                 \n",
            " dense_213 (Dense)           (None, 6)                 42        \n",
            "                                                                 \n",
            " dropout_151 (Dropout)       (None, 6)                 0         \n",
            "                                                                 \n",
            " dense_214 (Dense)           (None, 6)                 42        \n",
            "                                                                 \n",
            " dropout_152 (Dropout)       (None, 6)                 0         \n",
            "                                                                 \n",
            " dense_215 (Dense)           (None, 10)                70        \n",
            "                                                                 \n",
            "=================================================================\n",
            "Total params: 4,864\n",
            "Trainable params: 4,864\n",
            "Non-trainable params: 0\n",
            "_________________________________________________________________\n",
            "Epoch 1/5\n",
            "   1/1875 [..............................] - ETA: 14:23 - loss: 2.3083 - accuracy: 0.0312WARNING:tensorflow:Callback method `on_train_batch_end` is slow compared to the batch time (batch time: 0.0020s vs `on_train_batch_end` time: 0.0022s). Check your callbacks.\n",
            "1875/1875 [==============================] - 6s 3ms/step - loss: 1.5725 - accuracy: 0.4458 - val_loss: 0.9189 - val_accuracy: 0.7652\n",
            "Epoch 2/5\n",
            "1875/1875 [==============================] - 5s 3ms/step - loss: 1.2010 - accuracy: 0.5831 - val_loss: 0.7744 - val_accuracy: 0.8005\n",
            "Epoch 3/5\n",
            "1875/1875 [==============================] - 5s 3ms/step - loss: 1.0805 - accuracy: 0.6415 - val_loss: 0.6608 - val_accuracy: 0.8362\n",
            "Epoch 4/5\n",
            "1875/1875 [==============================] - 5s 3ms/step - loss: 1.0010 - accuracy: 0.6742 - val_loss: 0.6107 - val_accuracy: 0.8488\n",
            "Epoch 5/5\n",
            "1875/1875 [==============================] - 5s 3ms/step - loss: 0.9666 - accuracy: 0.6869 - val_loss: 0.5686 - val_accuracy: 0.8606\n",
            "INFO:tensorflow:Assets written to: /tmp/tmpel8ti1ds/model/data/model/assets\n"
          ]
        },
        {
          "output_type": "stream",
          "name": "stderr",
          "text": [
            "2022/05/04 19:20:13 WARNING mlflow.utils.requirements_utils: Found jaxlib version (0.3.7+cuda11.cudnn805) contains a local version label (+cuda11.cudnn805). MLflow logged a pip requirement for this package as 'jaxlib==0.3.7' without the local version label to make it installable from PyPI. To specify pip requirements containing local version labels, please use `conda_env` or `pip_requirements`.\n"
          ]
        },
        {
          "output_type": "stream",
          "name": "stdout",
          "text": [
            "Modelo:  3e434083c16b40ee81f551cc308127b1\n",
            "Model: \"sequential_63\"\n",
            "_________________________________________________________________\n",
            " Layer (type)                Output Shape              Param #   \n",
            "=================================================================\n",
            " dense_216 (Dense)           (None, 6)                 4710      \n",
            "                                                                 \n",
            " dropout_153 (Dropout)       (None, 6)                 0         \n",
            "                                                                 \n",
            " dense_217 (Dense)           (None, 6)                 42        \n",
            "                                                                 \n",
            " dropout_154 (Dropout)       (None, 6)                 0         \n",
            "                                                                 \n",
            " dense_218 (Dense)           (None, 6)                 42        \n",
            "                                                                 \n",
            " dropout_155 (Dropout)       (None, 6)                 0         \n",
            "                                                                 \n",
            " dense_219 (Dense)           (None, 10)                70        \n",
            "                                                                 \n",
            "=================================================================\n",
            "Total params: 4,864\n",
            "Trainable params: 4,864\n",
            "Non-trainable params: 0\n",
            "_________________________________________________________________\n",
            "Epoch 1/3\n",
            "   1/1875 [..............................] - ETA: 13:43 - loss: 2.2370 - accuracy: 0.2500WARNING:tensorflow:Callback method `on_train_batch_end` is slow compared to the batch time (batch time: 0.0018s vs `on_train_batch_end` time: 0.0021s). Check your callbacks.\n",
            "1875/1875 [==============================] - 6s 3ms/step - loss: 1.7154 - accuracy: 0.3982 - val_loss: 1.1847 - val_accuracy: 0.6795\n",
            "Epoch 2/3\n",
            "1875/1875 [==============================] - 5s 3ms/step - loss: 1.4289 - accuracy: 0.4994 - val_loss: 0.9815 - val_accuracy: 0.7487\n",
            "Epoch 3/3\n",
            "1875/1875 [==============================] - 5s 3ms/step - loss: 1.3627 - accuracy: 0.5164 - val_loss: 0.9274 - val_accuracy: 0.7477\n",
            "INFO:tensorflow:Assets written to: /tmp/tmp3l9w7ea1/model/data/model/assets\n"
          ]
        },
        {
          "output_type": "stream",
          "name": "stderr",
          "text": [
            "2022/05/04 19:20:35 WARNING mlflow.utils.requirements_utils: Found jaxlib version (0.3.7+cuda11.cudnn805) contains a local version label (+cuda11.cudnn805). MLflow logged a pip requirement for this package as 'jaxlib==0.3.7' without the local version label to make it installable from PyPI. To specify pip requirements containing local version labels, please use `conda_env` or `pip_requirements`.\n"
          ]
        },
        {
          "output_type": "stream",
          "name": "stdout",
          "text": [
            "Modelo:  556808bbba144f49afb34def2e960813\n",
            "Model: \"sequential_64\"\n",
            "_________________________________________________________________\n",
            " Layer (type)                Output Shape              Param #   \n",
            "=================================================================\n",
            " dense_220 (Dense)           (None, 6)                 4710      \n",
            "                                                                 \n",
            " dropout_156 (Dropout)       (None, 6)                 0         \n",
            "                                                                 \n",
            " dense_221 (Dense)           (None, 6)                 42        \n",
            "                                                                 \n",
            " dropout_157 (Dropout)       (None, 6)                 0         \n",
            "                                                                 \n",
            " dense_222 (Dense)           (None, 6)                 42        \n",
            "                                                                 \n",
            " dropout_158 (Dropout)       (None, 6)                 0         \n",
            "                                                                 \n",
            " dense_223 (Dense)           (None, 10)                70        \n",
            "                                                                 \n",
            "=================================================================\n",
            "Total params: 4,864\n",
            "Trainable params: 4,864\n",
            "Non-trainable params: 0\n",
            "_________________________________________________________________\n",
            "Epoch 1/4\n",
            "   1/1875 [..............................] - ETA: 14:14 - loss: 2.2929 - accuracy: 0.2188WARNING:tensorflow:Callback method `on_train_batch_end` is slow compared to the batch time (batch time: 0.0019s vs `on_train_batch_end` time: 0.0027s). Check your callbacks.\n",
            "1875/1875 [==============================] - 6s 3ms/step - loss: 1.7819 - accuracy: 0.3195 - val_loss: 1.2690 - val_accuracy: 0.5903\n",
            "Epoch 2/4\n",
            "1875/1875 [==============================] - 5s 3ms/step - loss: 1.5609 - accuracy: 0.4015 - val_loss: 1.1105 - val_accuracy: 0.6632\n",
            "Epoch 3/4\n",
            "1875/1875 [==============================] - 5s 3ms/step - loss: 1.4723 - accuracy: 0.4446 - val_loss: 1.0499 - val_accuracy: 0.6816\n",
            "Epoch 4/4\n",
            "1875/1875 [==============================] - 5s 3ms/step - loss: 1.4188 - accuracy: 0.4617 - val_loss: 0.9812 - val_accuracy: 0.6977\n",
            "INFO:tensorflow:Assets written to: /tmp/tmpu3d3v6if/model/data/model/assets\n"
          ]
        },
        {
          "output_type": "stream",
          "name": "stderr",
          "text": [
            "2022/05/04 19:21:03 WARNING mlflow.utils.requirements_utils: Found jaxlib version (0.3.7+cuda11.cudnn805) contains a local version label (+cuda11.cudnn805). MLflow logged a pip requirement for this package as 'jaxlib==0.3.7' without the local version label to make it installable from PyPI. To specify pip requirements containing local version labels, please use `conda_env` or `pip_requirements`.\n"
          ]
        },
        {
          "output_type": "stream",
          "name": "stdout",
          "text": [
            "Modelo:  1ab068dcbf9c47f28ebaaa12d8a7b91a\n",
            "Model: \"sequential_65\"\n",
            "_________________________________________________________________\n",
            " Layer (type)                Output Shape              Param #   \n",
            "=================================================================\n",
            " dense_224 (Dense)           (None, 6)                 4710      \n",
            "                                                                 \n",
            " dropout_159 (Dropout)       (None, 6)                 0         \n",
            "                                                                 \n",
            " dense_225 (Dense)           (None, 6)                 42        \n",
            "                                                                 \n",
            " dropout_160 (Dropout)       (None, 6)                 0         \n",
            "                                                                 \n",
            " dense_226 (Dense)           (None, 6)                 42        \n",
            "                                                                 \n",
            " dropout_161 (Dropout)       (None, 6)                 0         \n",
            "                                                                 \n",
            " dense_227 (Dense)           (None, 10)                70        \n",
            "                                                                 \n",
            "=================================================================\n",
            "Total params: 4,864\n",
            "Trainable params: 4,864\n",
            "Non-trainable params: 0\n",
            "_________________________________________________________________\n",
            "Epoch 1/5\n",
            "   1/1875 [..............................] - ETA: 14:07 - loss: 2.3438 - accuracy: 0.0625WARNING:tensorflow:Callback method `on_train_batch_end` is slow compared to the batch time (batch time: 0.0020s vs `on_train_batch_end` time: 0.0024s). Check your callbacks.\n",
            "1875/1875 [==============================] - 6s 3ms/step - loss: 1.6806 - accuracy: 0.3401 - val_loss: 1.1266 - val_accuracy: 0.5830\n",
            "Epoch 2/5\n",
            "1875/1875 [==============================] - 5s 3ms/step - loss: 1.4369 - accuracy: 0.4276 - val_loss: 1.0882 - val_accuracy: 0.6322\n",
            "Epoch 3/5\n",
            "1875/1875 [==============================] - 5s 3ms/step - loss: 1.3923 - accuracy: 0.4515 - val_loss: 0.9874 - val_accuracy: 0.6700\n",
            "Epoch 4/5\n",
            "1875/1875 [==============================] - 5s 3ms/step - loss: 1.3717 - accuracy: 0.4662 - val_loss: 1.0010 - val_accuracy: 0.6614\n",
            "Epoch 5/5\n",
            "1875/1875 [==============================] - 5s 3ms/step - loss: 1.3542 - accuracy: 0.4746 - val_loss: 0.9938 - val_accuracy: 0.6544\n",
            "INFO:tensorflow:Assets written to: /tmp/tmp7ybx7spd/model/data/model/assets\n"
          ]
        },
        {
          "output_type": "stream",
          "name": "stderr",
          "text": [
            "2022/05/04 19:21:36 WARNING mlflow.utils.requirements_utils: Found jaxlib version (0.3.7+cuda11.cudnn805) contains a local version label (+cuda11.cudnn805). MLflow logged a pip requirement for this package as 'jaxlib==0.3.7' without the local version label to make it installable from PyPI. To specify pip requirements containing local version labels, please use `conda_env` or `pip_requirements`.\n"
          ]
        },
        {
          "output_type": "stream",
          "name": "stdout",
          "text": [
            "Modelo:  6c74e12ff338420b9d2b9b181532148d\n",
            "Model: \"sequential_66\"\n",
            "_________________________________________________________________\n",
            " Layer (type)                Output Shape              Param #   \n",
            "=================================================================\n",
            " dense_228 (Dense)           (None, 6)                 4710      \n",
            "                                                                 \n",
            " dropout_162 (Dropout)       (None, 6)                 0         \n",
            "                                                                 \n",
            " dense_229 (Dense)           (None, 6)                 42        \n",
            "                                                                 \n",
            " dropout_163 (Dropout)       (None, 6)                 0         \n",
            "                                                                 \n",
            " dense_230 (Dense)           (None, 6)                 42        \n",
            "                                                                 \n",
            " dropout_164 (Dropout)       (None, 6)                 0         \n",
            "                                                                 \n",
            " dense_231 (Dense)           (None, 10)                70        \n",
            "                                                                 \n",
            "=================================================================\n",
            "Total params: 4,864\n",
            "Trainable params: 4,864\n",
            "Non-trainable params: 0\n",
            "_________________________________________________________________\n",
            "Epoch 1/3\n",
            "   1/1875 [..............................] - ETA: 13:59 - loss: 2.2820 - accuracy: 0.1562WARNING:tensorflow:Callback method `on_train_batch_end` is slow compared to the batch time (batch time: 0.0022s vs `on_train_batch_end` time: 0.0023s). Check your callbacks.\n",
            "1875/1875 [==============================] - 6s 3ms/step - loss: 1.2381 - accuracy: 0.5957 - val_loss: 0.7025 - val_accuracy: 0.8250\n",
            "Epoch 2/3\n",
            "1875/1875 [==============================] - 5s 3ms/step - loss: 0.8710 - accuracy: 0.7230 - val_loss: 0.5928 - val_accuracy: 0.8466\n",
            "Epoch 3/3\n",
            "1875/1875 [==============================] - 5s 3ms/step - loss: 0.8095 - accuracy: 0.7448 - val_loss: 0.5389 - val_accuracy: 0.8560\n",
            "INFO:tensorflow:Assets written to: /tmp/tmpgcpx60v3/model/data/model/assets\n"
          ]
        },
        {
          "output_type": "stream",
          "name": "stderr",
          "text": [
            "2022/05/04 19:22:03 WARNING mlflow.utils.requirements_utils: Found jaxlib version (0.3.7+cuda11.cudnn805) contains a local version label (+cuda11.cudnn805). MLflow logged a pip requirement for this package as 'jaxlib==0.3.7' without the local version label to make it installable from PyPI. To specify pip requirements containing local version labels, please use `conda_env` or `pip_requirements`.\n"
          ]
        },
        {
          "output_type": "stream",
          "name": "stdout",
          "text": [
            "Modelo:  42cb6274b5734a0f96a9cd2e6eb56bf0\n",
            "Model: \"sequential_67\"\n",
            "_________________________________________________________________\n",
            " Layer (type)                Output Shape              Param #   \n",
            "=================================================================\n",
            " dense_232 (Dense)           (None, 6)                 4710      \n",
            "                                                                 \n",
            " dropout_165 (Dropout)       (None, 6)                 0         \n",
            "                                                                 \n",
            " dense_233 (Dense)           (None, 6)                 42        \n",
            "                                                                 \n",
            " dropout_166 (Dropout)       (None, 6)                 0         \n",
            "                                                                 \n",
            " dense_234 (Dense)           (None, 6)                 42        \n",
            "                                                                 \n",
            " dropout_167 (Dropout)       (None, 6)                 0         \n",
            "                                                                 \n",
            " dense_235 (Dense)           (None, 10)                70        \n",
            "                                                                 \n",
            "=================================================================\n",
            "Total params: 4,864\n",
            "Trainable params: 4,864\n",
            "Non-trainable params: 0\n",
            "_________________________________________________________________\n",
            "Epoch 1/4\n",
            "   1/1875 [..............................] - ETA: 13:49 - loss: 2.2232 - accuracy: 0.1562WARNING:tensorflow:Callback method `on_train_batch_end` is slow compared to the batch time (batch time: 0.0019s vs `on_train_batch_end` time: 0.0025s). Check your callbacks.\n",
            "1875/1875 [==============================] - 6s 3ms/step - loss: 1.2977 - accuracy: 0.5777 - val_loss: 0.7952 - val_accuracy: 0.7733\n",
            "Epoch 2/4\n",
            "1875/1875 [==============================] - 5s 3ms/step - loss: 0.9155 - accuracy: 0.7021 - val_loss: 0.5891 - val_accuracy: 0.8442\n",
            "Epoch 3/4\n",
            "1875/1875 [==============================] - 5s 3ms/step - loss: 0.8101 - accuracy: 0.7433 - val_loss: 0.5217 - val_accuracy: 0.8567\n",
            "Epoch 4/4\n",
            "1875/1875 [==============================] - 6s 3ms/step - loss: 0.7613 - accuracy: 0.7650 - val_loss: 0.4835 - val_accuracy: 0.8647\n",
            "INFO:tensorflow:Assets written to: /tmp/tmp9oyvldrt/model/data/model/assets\n"
          ]
        },
        {
          "output_type": "stream",
          "name": "stderr",
          "text": [
            "2022/05/04 19:22:31 WARNING mlflow.utils.requirements_utils: Found jaxlib version (0.3.7+cuda11.cudnn805) contains a local version label (+cuda11.cudnn805). MLflow logged a pip requirement for this package as 'jaxlib==0.3.7' without the local version label to make it installable from PyPI. To specify pip requirements containing local version labels, please use `conda_env` or `pip_requirements`.\n"
          ]
        },
        {
          "output_type": "stream",
          "name": "stdout",
          "text": [
            "Modelo:  1e4c16c2c51a49f48a6086214fa0b606\n",
            "Model: \"sequential_68\"\n",
            "_________________________________________________________________\n",
            " Layer (type)                Output Shape              Param #   \n",
            "=================================================================\n",
            " dense_236 (Dense)           (None, 6)                 4710      \n",
            "                                                                 \n",
            " dropout_168 (Dropout)       (None, 6)                 0         \n",
            "                                                                 \n",
            " dense_237 (Dense)           (None, 6)                 42        \n",
            "                                                                 \n",
            " dropout_169 (Dropout)       (None, 6)                 0         \n",
            "                                                                 \n",
            " dense_238 (Dense)           (None, 6)                 42        \n",
            "                                                                 \n",
            " dropout_170 (Dropout)       (None, 6)                 0         \n",
            "                                                                 \n",
            " dense_239 (Dense)           (None, 10)                70        \n",
            "                                                                 \n",
            "=================================================================\n",
            "Total params: 4,864\n",
            "Trainable params: 4,864\n",
            "Non-trainable params: 0\n",
            "_________________________________________________________________\n",
            "Epoch 1/5\n",
            "1875/1875 [==============================] - 7s 3ms/step - loss: 1.1991 - accuracy: 0.6202 - val_loss: 0.6904 - val_accuracy: 0.8114\n",
            "Epoch 2/5\n",
            "1875/1875 [==============================] - 5s 3ms/step - loss: 0.8563 - accuracy: 0.7278 - val_loss: 0.5505 - val_accuracy: 0.8439\n",
            "Epoch 3/5\n",
            "1875/1875 [==============================] - 5s 3ms/step - loss: 0.7979 - accuracy: 0.7464 - val_loss: 0.5187 - val_accuracy: 0.8506\n",
            "Epoch 4/5\n",
            "1875/1875 [==============================] - 5s 3ms/step - loss: 0.7687 - accuracy: 0.7563 - val_loss: 0.5165 - val_accuracy: 0.8506\n",
            "Epoch 5/5\n",
            "1875/1875 [==============================] - 5s 3ms/step - loss: 0.7514 - accuracy: 0.7583 - val_loss: 0.4873 - val_accuracy: 0.8612\n",
            "INFO:tensorflow:Assets written to: /tmp/tmplgo1ltsv/model/data/model/assets\n"
          ]
        },
        {
          "output_type": "stream",
          "name": "stderr",
          "text": [
            "2022/05/04 19:23:06 WARNING mlflow.utils.requirements_utils: Found jaxlib version (0.3.7+cuda11.cudnn805) contains a local version label (+cuda11.cudnn805). MLflow logged a pip requirement for this package as 'jaxlib==0.3.7' without the local version label to make it installable from PyPI. To specify pip requirements containing local version labels, please use `conda_env` or `pip_requirements`.\n"
          ]
        },
        {
          "output_type": "stream",
          "name": "stdout",
          "text": [
            "Modelo:  ca5eb854d7dd4e4eba74ca91b57e4a27\n",
            "Model: \"sequential_69\"\n",
            "_________________________________________________________________\n",
            " Layer (type)                Output Shape              Param #   \n",
            "=================================================================\n",
            " dense_240 (Dense)           (None, 6)                 4710      \n",
            "                                                                 \n",
            " dropout_171 (Dropout)       (None, 6)                 0         \n",
            "                                                                 \n",
            " dense_241 (Dense)           (None, 6)                 42        \n",
            "                                                                 \n",
            " dropout_172 (Dropout)       (None, 6)                 0         \n",
            "                                                                 \n",
            " dense_242 (Dense)           (None, 6)                 42        \n",
            "                                                                 \n",
            " dropout_173 (Dropout)       (None, 6)                 0         \n",
            "                                                                 \n",
            " dense_243 (Dense)           (None, 10)                70        \n",
            "                                                                 \n",
            "=================================================================\n",
            "Total params: 4,864\n",
            "Trainable params: 4,864\n",
            "Non-trainable params: 0\n",
            "_________________________________________________________________\n",
            "Epoch 1/3\n",
            "   1/1875 [..............................] - ETA: 13:39 - loss: 2.3633 - accuracy: 0.0938WARNING:tensorflow:Callback method `on_train_batch_end` is slow compared to the batch time (batch time: 0.0020s vs `on_train_batch_end` time: 0.0023s). Check your callbacks.\n",
            "1875/1875 [==============================] - 6s 3ms/step - loss: 1.4898 - accuracy: 0.4766 - val_loss: 0.8973 - val_accuracy: 0.7237\n",
            "Epoch 2/3\n",
            "1875/1875 [==============================] - 5s 3ms/step - loss: 1.2391 - accuracy: 0.5588 - val_loss: 0.7727 - val_accuracy: 0.7550\n",
            "Epoch 3/3\n",
            "1875/1875 [==============================] - 5s 3ms/step - loss: 1.1640 - accuracy: 0.5848 - val_loss: 0.6703 - val_accuracy: 0.8198\n",
            "INFO:tensorflow:Assets written to: /tmp/tmpnwbqp9h2/model/data/model/assets\n"
          ]
        },
        {
          "output_type": "stream",
          "name": "stderr",
          "text": [
            "2022/05/04 19:23:28 WARNING mlflow.utils.requirements_utils: Found jaxlib version (0.3.7+cuda11.cudnn805) contains a local version label (+cuda11.cudnn805). MLflow logged a pip requirement for this package as 'jaxlib==0.3.7' without the local version label to make it installable from PyPI. To specify pip requirements containing local version labels, please use `conda_env` or `pip_requirements`.\n"
          ]
        },
        {
          "output_type": "stream",
          "name": "stdout",
          "text": [
            "Modelo:  f36d989566d84cafb561c304cbde637b\n",
            "Model: \"sequential_70\"\n",
            "_________________________________________________________________\n",
            " Layer (type)                Output Shape              Param #   \n",
            "=================================================================\n",
            " dense_244 (Dense)           (None, 6)                 4710      \n",
            "                                                                 \n",
            " dropout_174 (Dropout)       (None, 6)                 0         \n",
            "                                                                 \n",
            " dense_245 (Dense)           (None, 6)                 42        \n",
            "                                                                 \n",
            " dropout_175 (Dropout)       (None, 6)                 0         \n",
            "                                                                 \n",
            " dense_246 (Dense)           (None, 6)                 42        \n",
            "                                                                 \n",
            " dropout_176 (Dropout)       (None, 6)                 0         \n",
            "                                                                 \n",
            " dense_247 (Dense)           (None, 10)                70        \n",
            "                                                                 \n",
            "=================================================================\n",
            "Total params: 4,864\n",
            "Trainable params: 4,864\n",
            "Non-trainable params: 0\n",
            "_________________________________________________________________\n",
            "Epoch 1/4\n",
            "   1/1875 [..............................] - ETA: 14:06 - loss: 2.2979 - accuracy: 0.1562WARNING:tensorflow:Callback method `on_train_batch_end` is slow compared to the batch time (batch time: 0.0018s vs `on_train_batch_end` time: 0.0021s). Check your callbacks.\n",
            "1875/1875 [==============================] - 6s 3ms/step - loss: 1.5016 - accuracy: 0.4507 - val_loss: 0.9855 - val_accuracy: 0.7007\n",
            "Epoch 2/4\n",
            "1875/1875 [==============================] - 5s 3ms/step - loss: 1.2262 - accuracy: 0.5574 - val_loss: 0.8328 - val_accuracy: 0.7522\n",
            "Epoch 3/4\n",
            "1875/1875 [==============================] - 5s 3ms/step - loss: 1.1554 - accuracy: 0.5856 - val_loss: 0.7469 - val_accuracy: 0.7682\n",
            "Epoch 4/4\n",
            "1875/1875 [==============================] - 5s 3ms/step - loss: 1.1113 - accuracy: 0.5988 - val_loss: 0.6961 - val_accuracy: 0.7777\n",
            "INFO:tensorflow:Assets written to: /tmp/tmpavnrq5i5/model/data/model/assets\n"
          ]
        },
        {
          "output_type": "stream",
          "name": "stderr",
          "text": [
            "2022/05/04 19:24:15 WARNING mlflow.utils.requirements_utils: Found jaxlib version (0.3.7+cuda11.cudnn805) contains a local version label (+cuda11.cudnn805). MLflow logged a pip requirement for this package as 'jaxlib==0.3.7' without the local version label to make it installable from PyPI. To specify pip requirements containing local version labels, please use `conda_env` or `pip_requirements`.\n"
          ]
        },
        {
          "output_type": "stream",
          "name": "stdout",
          "text": [
            "Modelo:  0e5a5f72ff7e449d87b9b30e12083ab1\n",
            "Model: \"sequential_71\"\n",
            "_________________________________________________________________\n",
            " Layer (type)                Output Shape              Param #   \n",
            "=================================================================\n",
            " dense_248 (Dense)           (None, 6)                 4710      \n",
            "                                                                 \n",
            " dropout_177 (Dropout)       (None, 6)                 0         \n",
            "                                                                 \n",
            " dense_249 (Dense)           (None, 6)                 42        \n",
            "                                                                 \n",
            " dropout_178 (Dropout)       (None, 6)                 0         \n",
            "                                                                 \n",
            " dense_250 (Dense)           (None, 6)                 42        \n",
            "                                                                 \n",
            " dropout_179 (Dropout)       (None, 6)                 0         \n",
            "                                                                 \n",
            " dense_251 (Dense)           (None, 10)                70        \n",
            "                                                                 \n",
            "=================================================================\n",
            "Total params: 4,864\n",
            "Trainable params: 4,864\n",
            "Non-trainable params: 0\n",
            "_________________________________________________________________\n",
            "Epoch 1/5\n",
            "1875/1875 [==============================] - 6s 3ms/step - loss: 1.4275 - accuracy: 0.5027 - val_loss: 0.7563 - val_accuracy: 0.7363\n",
            "Epoch 2/5\n",
            "1875/1875 [==============================] - 5s 3ms/step - loss: 1.1548 - accuracy: 0.5786 - val_loss: 0.6800 - val_accuracy: 0.7418\n",
            "Epoch 3/5\n",
            "1875/1875 [==============================] - 5s 3ms/step - loss: 1.1081 - accuracy: 0.5982 - val_loss: 0.6511 - val_accuracy: 0.7585\n",
            "Epoch 4/5\n",
            "1875/1875 [==============================] - 5s 3ms/step - loss: 1.0910 - accuracy: 0.6029 - val_loss: 0.6301 - val_accuracy: 0.7994\n",
            "Epoch 5/5\n",
            "1875/1875 [==============================] - 5s 3ms/step - loss: 1.0739 - accuracy: 0.6101 - val_loss: 0.6271 - val_accuracy: 0.8051\n",
            "INFO:tensorflow:Assets written to: /tmp/tmp7dkvzs_2/model/data/model/assets\n"
          ]
        },
        {
          "output_type": "stream",
          "name": "stderr",
          "text": [
            "2022/05/04 19:25:03 WARNING mlflow.utils.requirements_utils: Found jaxlib version (0.3.7+cuda11.cudnn805) contains a local version label (+cuda11.cudnn805). MLflow logged a pip requirement for this package as 'jaxlib==0.3.7' without the local version label to make it installable from PyPI. To specify pip requirements containing local version labels, please use `conda_env` or `pip_requirements`.\n"
          ]
        },
        {
          "output_type": "stream",
          "name": "stdout",
          "text": [
            "Modelo:  fb615d2e4a8a41e4912ba32621c09c92\n",
            "Model: \"sequential_72\"\n",
            "_________________________________________________________________\n",
            " Layer (type)                Output Shape              Param #   \n",
            "=================================================================\n",
            " dense_252 (Dense)           (None, 2)                 1570      \n",
            "                                                                 \n",
            " dropout_180 (Dropout)       (None, 2)                 0         \n",
            "                                                                 \n",
            " dense_253 (Dense)           (None, 2)                 6         \n",
            "                                                                 \n",
            " dropout_181 (Dropout)       (None, 2)                 0         \n",
            "                                                                 \n",
            " dense_254 (Dense)           (None, 2)                 6         \n",
            "                                                                 \n",
            " dropout_182 (Dropout)       (None, 2)                 0         \n",
            "                                                                 \n",
            " dense_255 (Dense)           (None, 2)                 6         \n",
            "                                                                 \n",
            " dropout_183 (Dropout)       (None, 2)                 0         \n",
            "                                                                 \n",
            " dense_256 (Dense)           (None, 10)                30        \n",
            "                                                                 \n",
            "=================================================================\n",
            "Total params: 1,618\n",
            "Trainable params: 1,618\n",
            "Non-trainable params: 0\n",
            "_________________________________________________________________\n",
            "Epoch 1/3\n",
            "1875/1875 [==============================] - 6s 3ms/step - loss: 2.1044 - accuracy: 0.1883 - val_loss: 1.9501 - val_accuracy: 0.2508\n",
            "Epoch 2/3\n",
            "1875/1875 [==============================] - 6s 3ms/step - loss: 2.0283 - accuracy: 0.2035 - val_loss: 1.8749 - val_accuracy: 0.2860\n",
            "Epoch 3/3\n",
            "1875/1875 [==============================] - 6s 3ms/step - loss: 1.9993 - accuracy: 0.2082 - val_loss: 1.8325 - val_accuracy: 0.2913\n",
            "INFO:tensorflow:Assets written to: /tmp/tmp0bsefm8v/model/data/model/assets\n"
          ]
        },
        {
          "output_type": "stream",
          "name": "stderr",
          "text": [
            "2022/05/04 19:25:30 WARNING mlflow.utils.requirements_utils: Found jaxlib version (0.3.7+cuda11.cudnn805) contains a local version label (+cuda11.cudnn805). MLflow logged a pip requirement for this package as 'jaxlib==0.3.7' without the local version label to make it installable from PyPI. To specify pip requirements containing local version labels, please use `conda_env` or `pip_requirements`.\n"
          ]
        },
        {
          "output_type": "stream",
          "name": "stdout",
          "text": [
            "Modelo:  d767aa66b40848e89378e9343bdc3ade\n",
            "Model: \"sequential_73\"\n",
            "_________________________________________________________________\n",
            " Layer (type)                Output Shape              Param #   \n",
            "=================================================================\n",
            " dense_257 (Dense)           (None, 2)                 1570      \n",
            "                                                                 \n",
            " dropout_184 (Dropout)       (None, 2)                 0         \n",
            "                                                                 \n",
            " dense_258 (Dense)           (None, 2)                 6         \n",
            "                                                                 \n",
            " dropout_185 (Dropout)       (None, 2)                 0         \n",
            "                                                                 \n",
            " dense_259 (Dense)           (None, 2)                 6         \n",
            "                                                                 \n",
            " dropout_186 (Dropout)       (None, 2)                 0         \n",
            "                                                                 \n",
            " dense_260 (Dense)           (None, 2)                 6         \n",
            "                                                                 \n",
            " dropout_187 (Dropout)       (None, 2)                 0         \n",
            "                                                                 \n",
            " dense_261 (Dense)           (None, 10)                30        \n",
            "                                                                 \n",
            "=================================================================\n",
            "Total params: 1,618\n",
            "Trainable params: 1,618\n",
            "Non-trainable params: 0\n",
            "_________________________________________________________________\n",
            "Epoch 1/4\n",
            "1875/1875 [==============================] - 6s 3ms/step - loss: 2.0259 - accuracy: 0.2072 - val_loss: 1.8216 - val_accuracy: 0.2860\n",
            "Epoch 2/4\n",
            "1875/1875 [==============================] - 6s 3ms/step - loss: 1.9379 - accuracy: 0.2395 - val_loss: 1.7468 - val_accuracy: 0.3249\n",
            "Epoch 3/4\n",
            "1875/1875 [==============================] - 6s 3ms/step - loss: 1.9046 - accuracy: 0.2490 - val_loss: 1.7131 - val_accuracy: 0.3508\n",
            "Epoch 4/4\n",
            "1875/1875 [==============================] - 6s 3ms/step - loss: 1.8854 - accuracy: 0.2594 - val_loss: 1.6800 - val_accuracy: 0.3806\n",
            "INFO:tensorflow:Assets written to: /tmp/tmp5i8yx61j/model/data/model/assets\n"
          ]
        },
        {
          "output_type": "stream",
          "name": "stderr",
          "text": [
            "2022/05/04 19:26:17 WARNING mlflow.utils.requirements_utils: Found jaxlib version (0.3.7+cuda11.cudnn805) contains a local version label (+cuda11.cudnn805). MLflow logged a pip requirement for this package as 'jaxlib==0.3.7' without the local version label to make it installable from PyPI. To specify pip requirements containing local version labels, please use `conda_env` or `pip_requirements`.\n"
          ]
        },
        {
          "output_type": "stream",
          "name": "stdout",
          "text": [
            "Modelo:  ee73d9dbdee54a96a779e5dbce40b5bb\n",
            "Model: \"sequential_74\"\n",
            "_________________________________________________________________\n",
            " Layer (type)                Output Shape              Param #   \n",
            "=================================================================\n",
            " dense_262 (Dense)           (None, 2)                 1570      \n",
            "                                                                 \n",
            " dropout_188 (Dropout)       (None, 2)                 0         \n",
            "                                                                 \n",
            " dense_263 (Dense)           (None, 2)                 6         \n",
            "                                                                 \n",
            " dropout_189 (Dropout)       (None, 2)                 0         \n",
            "                                                                 \n",
            " dense_264 (Dense)           (None, 2)                 6         \n",
            "                                                                 \n",
            " dropout_190 (Dropout)       (None, 2)                 0         \n",
            "                                                                 \n",
            " dense_265 (Dense)           (None, 2)                 6         \n",
            "                                                                 \n",
            " dropout_191 (Dropout)       (None, 2)                 0         \n",
            "                                                                 \n",
            " dense_266 (Dense)           (None, 10)                30        \n",
            "                                                                 \n",
            "=================================================================\n",
            "Total params: 1,618\n",
            "Trainable params: 1,618\n",
            "Non-trainable params: 0\n",
            "_________________________________________________________________\n",
            "Epoch 1/5\n",
            "1875/1875 [==============================] - 6s 3ms/step - loss: 2.0702 - accuracy: 0.1892 - val_loss: 1.8450 - val_accuracy: 0.2972\n",
            "Epoch 2/5\n",
            "1875/1875 [==============================] - 6s 3ms/step - loss: 1.9738 - accuracy: 0.2225 - val_loss: 1.7926 - val_accuracy: 0.3258\n",
            "Epoch 3/5\n",
            "1875/1875 [==============================] - 6s 3ms/step - loss: 1.9646 - accuracy: 0.2343 - val_loss: 1.7814 - val_accuracy: 0.3392\n",
            "Epoch 4/5\n",
            "1875/1875 [==============================] - 6s 3ms/step - loss: 1.9575 - accuracy: 0.2430 - val_loss: 1.7751 - val_accuracy: 0.3524\n",
            "Epoch 5/5\n",
            "1875/1875 [==============================] - 6s 3ms/step - loss: 1.9531 - accuracy: 0.2482 - val_loss: 1.7641 - val_accuracy: 0.3389\n",
            "INFO:tensorflow:Assets written to: /tmp/tmptxj8n796/model/data/model/assets\n"
          ]
        },
        {
          "output_type": "stream",
          "name": "stderr",
          "text": [
            "2022/05/04 19:27:05 WARNING mlflow.utils.requirements_utils: Found jaxlib version (0.3.7+cuda11.cudnn805) contains a local version label (+cuda11.cudnn805). MLflow logged a pip requirement for this package as 'jaxlib==0.3.7' without the local version label to make it installable from PyPI. To specify pip requirements containing local version labels, please use `conda_env` or `pip_requirements`.\n"
          ]
        },
        {
          "output_type": "stream",
          "name": "stdout",
          "text": [
            "Modelo:  180075f76a0f419d930516cb49020a46\n",
            "Model: \"sequential_75\"\n",
            "_________________________________________________________________\n",
            " Layer (type)                Output Shape              Param #   \n",
            "=================================================================\n",
            " dense_267 (Dense)           (None, 2)                 1570      \n",
            "                                                                 \n",
            " dropout_192 (Dropout)       (None, 2)                 0         \n",
            "                                                                 \n",
            " dense_268 (Dense)           (None, 2)                 6         \n",
            "                                                                 \n",
            " dropout_193 (Dropout)       (None, 2)                 0         \n",
            "                                                                 \n",
            " dense_269 (Dense)           (None, 2)                 6         \n",
            "                                                                 \n",
            " dropout_194 (Dropout)       (None, 2)                 0         \n",
            "                                                                 \n",
            " dense_270 (Dense)           (None, 2)                 6         \n",
            "                                                                 \n",
            " dropout_195 (Dropout)       (None, 2)                 0         \n",
            "                                                                 \n",
            " dense_271 (Dense)           (None, 10)                30        \n",
            "                                                                 \n",
            "=================================================================\n",
            "Total params: 1,618\n",
            "Trainable params: 1,618\n",
            "Non-trainable params: 0\n",
            "_________________________________________________________________\n",
            "Epoch 1/3\n",
            "   1/1875 [..............................] - ETA: 27:10 - loss: 2.3026 - accuracy: 0.0625WARNING:tensorflow:Callback method `on_train_batch_end` is slow compared to the batch time (batch time: 0.0023s vs `on_train_batch_end` time: 0.0026s). Check your callbacks.\n",
            "1875/1875 [==============================] - 7s 3ms/step - loss: 2.3016 - accuracy: 0.1116 - val_loss: 2.3011 - val_accuracy: 0.1135\n",
            "Epoch 2/3\n",
            "1875/1875 [==============================] - 6s 3ms/step - loss: 2.3014 - accuracy: 0.1124 - val_loss: 2.3010 - val_accuracy: 0.1135\n",
            "Epoch 3/3\n",
            "1875/1875 [==============================] - 6s 3ms/step - loss: 2.3014 - accuracy: 0.1124 - val_loss: 2.3012 - val_accuracy: 0.1135\n",
            "INFO:tensorflow:Assets written to: /tmp/tmp7hyfc9qk/model/data/model/assets\n"
          ]
        },
        {
          "output_type": "stream",
          "name": "stderr",
          "text": [
            "2022/05/04 19:27:29 WARNING mlflow.utils.requirements_utils: Found jaxlib version (0.3.7+cuda11.cudnn805) contains a local version label (+cuda11.cudnn805). MLflow logged a pip requirement for this package as 'jaxlib==0.3.7' without the local version label to make it installable from PyPI. To specify pip requirements containing local version labels, please use `conda_env` or `pip_requirements`.\n"
          ]
        },
        {
          "output_type": "stream",
          "name": "stdout",
          "text": [
            "Modelo:  d213036c5ef4408c9f343d1720c463a8\n",
            "Model: \"sequential_76\"\n",
            "_________________________________________________________________\n",
            " Layer (type)                Output Shape              Param #   \n",
            "=================================================================\n",
            " dense_272 (Dense)           (None, 2)                 1570      \n",
            "                                                                 \n",
            " dropout_196 (Dropout)       (None, 2)                 0         \n",
            "                                                                 \n",
            " dense_273 (Dense)           (None, 2)                 6         \n",
            "                                                                 \n",
            " dropout_197 (Dropout)       (None, 2)                 0         \n",
            "                                                                 \n",
            " dense_274 (Dense)           (None, 2)                 6         \n",
            "                                                                 \n",
            " dropout_198 (Dropout)       (None, 2)                 0         \n",
            "                                                                 \n",
            " dense_275 (Dense)           (None, 2)                 6         \n",
            "                                                                 \n",
            " dropout_199 (Dropout)       (None, 2)                 0         \n",
            "                                                                 \n",
            " dense_276 (Dense)           (None, 10)                30        \n",
            "                                                                 \n",
            "=================================================================\n",
            "Total params: 1,618\n",
            "Trainable params: 1,618\n",
            "Non-trainable params: 0\n",
            "_________________________________________________________________\n",
            "Epoch 1/4\n",
            "1875/1875 [==============================] - 6s 3ms/step - loss: 2.3016 - accuracy: 0.1114 - val_loss: 2.3010 - val_accuracy: 0.1135\n",
            "Epoch 2/4\n",
            "1875/1875 [==============================] - 6s 3ms/step - loss: 2.3014 - accuracy: 0.1124 - val_loss: 2.3010 - val_accuracy: 0.1135\n",
            "Epoch 3/4\n",
            "1875/1875 [==============================] - 6s 3ms/step - loss: 2.3013 - accuracy: 0.1124 - val_loss: 2.3011 - val_accuracy: 0.1135\n",
            "Epoch 4/4\n",
            "1875/1875 [==============================] - 6s 3ms/step - loss: 2.3013 - accuracy: 0.1124 - val_loss: 2.3012 - val_accuracy: 0.1135\n",
            "INFO:tensorflow:Assets written to: /tmp/tmphpos_jav/model/data/model/assets\n"
          ]
        },
        {
          "output_type": "stream",
          "name": "stderr",
          "text": [
            "2022/05/04 19:28:17 WARNING mlflow.utils.requirements_utils: Found jaxlib version (0.3.7+cuda11.cudnn805) contains a local version label (+cuda11.cudnn805). MLflow logged a pip requirement for this package as 'jaxlib==0.3.7' without the local version label to make it installable from PyPI. To specify pip requirements containing local version labels, please use `conda_env` or `pip_requirements`.\n"
          ]
        },
        {
          "output_type": "stream",
          "name": "stdout",
          "text": [
            "Modelo:  e3882cc2f4d0490e94772fab28c300bd\n",
            "Model: \"sequential_77\"\n",
            "_________________________________________________________________\n",
            " Layer (type)                Output Shape              Param #   \n",
            "=================================================================\n",
            " dense_277 (Dense)           (None, 2)                 1570      \n",
            "                                                                 \n",
            " dropout_200 (Dropout)       (None, 2)                 0         \n",
            "                                                                 \n",
            " dense_278 (Dense)           (None, 2)                 6         \n",
            "                                                                 \n",
            " dropout_201 (Dropout)       (None, 2)                 0         \n",
            "                                                                 \n",
            " dense_279 (Dense)           (None, 2)                 6         \n",
            "                                                                 \n",
            " dropout_202 (Dropout)       (None, 2)                 0         \n",
            "                                                                 \n",
            " dense_280 (Dense)           (None, 2)                 6         \n",
            "                                                                 \n",
            " dropout_203 (Dropout)       (None, 2)                 0         \n",
            "                                                                 \n",
            " dense_281 (Dense)           (None, 10)                30        \n",
            "                                                                 \n",
            "=================================================================\n",
            "Total params: 1,618\n",
            "Trainable params: 1,618\n",
            "Non-trainable params: 0\n",
            "_________________________________________________________________\n",
            "Epoch 1/5\n",
            "   1/1875 [..............................] - ETA: 15:27 - loss: 2.3004 - accuracy: 0.0000e+00WARNING:tensorflow:Callback method `on_train_batch_end` is slow compared to the batch time (batch time: 0.0020s vs `on_train_batch_end` time: 0.0026s). Check your callbacks.\n",
            "1875/1875 [==============================] - 6s 3ms/step - loss: 2.1741 - accuracy: 0.1487 - val_loss: 1.9624 - val_accuracy: 0.2201\n",
            "Epoch 2/5\n",
            "1875/1875 [==============================] - 6s 3ms/step - loss: 2.1366 - accuracy: 0.1581 - val_loss: 1.9144 - val_accuracy: 0.2542\n",
            "Epoch 3/5\n",
            "1875/1875 [==============================] - 6s 3ms/step - loss: 2.1093 - accuracy: 0.1684 - val_loss: 1.9129 - val_accuracy: 0.2637\n",
            "Epoch 4/5\n",
            "1875/1875 [==============================] - 6s 3ms/step - loss: 2.1089 - accuracy: 0.1687 - val_loss: 1.8921 - val_accuracy: 0.2610\n",
            "Epoch 5/5\n",
            "1875/1875 [==============================] - 6s 3ms/step - loss: 2.1065 - accuracy: 0.1707 - val_loss: 1.9047 - val_accuracy: 0.2776\n",
            "INFO:tensorflow:Assets written to: /tmp/tmpt04pdbtx/model/data/model/assets\n"
          ]
        },
        {
          "output_type": "stream",
          "name": "stderr",
          "text": [
            "2022/05/04 19:28:52 WARNING mlflow.utils.requirements_utils: Found jaxlib version (0.3.7+cuda11.cudnn805) contains a local version label (+cuda11.cudnn805). MLflow logged a pip requirement for this package as 'jaxlib==0.3.7' without the local version label to make it installable from PyPI. To specify pip requirements containing local version labels, please use `conda_env` or `pip_requirements`.\n"
          ]
        },
        {
          "output_type": "stream",
          "name": "stdout",
          "text": [
            "Modelo:  c740ae6957454cae8bac65bfdcac6037\n",
            "Model: \"sequential_78\"\n",
            "_________________________________________________________________\n",
            " Layer (type)                Output Shape              Param #   \n",
            "=================================================================\n",
            " dense_282 (Dense)           (None, 2)                 1570      \n",
            "                                                                 \n",
            " dropout_204 (Dropout)       (None, 2)                 0         \n",
            "                                                                 \n",
            " dense_283 (Dense)           (None, 2)                 6         \n",
            "                                                                 \n",
            " dropout_205 (Dropout)       (None, 2)                 0         \n",
            "                                                                 \n",
            " dense_284 (Dense)           (None, 2)                 6         \n",
            "                                                                 \n",
            " dropout_206 (Dropout)       (None, 2)                 0         \n",
            "                                                                 \n",
            " dense_285 (Dense)           (None, 2)                 6         \n",
            "                                                                 \n",
            " dropout_207 (Dropout)       (None, 2)                 0         \n",
            "                                                                 \n",
            " dense_286 (Dense)           (None, 10)                30        \n",
            "                                                                 \n",
            "=================================================================\n",
            "Total params: 1,618\n",
            "Trainable params: 1,618\n",
            "Non-trainable params: 0\n",
            "_________________________________________________________________\n",
            "Epoch 1/3\n",
            "1875/1875 [==============================] - 7s 3ms/step - loss: 1.8896 - accuracy: 0.2776 - val_loss: 1.5104 - val_accuracy: 0.4638\n",
            "Epoch 2/3\n",
            "1875/1875 [==============================] - 6s 3ms/step - loss: 1.7245 - accuracy: 0.3066 - val_loss: 1.4100 - val_accuracy: 0.4895\n",
            "Epoch 3/3\n",
            "1875/1875 [==============================] - 6s 3ms/step - loss: 1.6826 - accuracy: 0.3014 - val_loss: 1.3680 - val_accuracy: 0.4641\n",
            "INFO:tensorflow:Assets written to: /tmp/tmpj3zgojm2/model/data/model/assets\n"
          ]
        },
        {
          "output_type": "stream",
          "name": "stderr",
          "text": [
            "2022/05/04 19:29:20 WARNING mlflow.utils.requirements_utils: Found jaxlib version (0.3.7+cuda11.cudnn805) contains a local version label (+cuda11.cudnn805). MLflow logged a pip requirement for this package as 'jaxlib==0.3.7' without the local version label to make it installable from PyPI. To specify pip requirements containing local version labels, please use `conda_env` or `pip_requirements`.\n"
          ]
        },
        {
          "output_type": "stream",
          "name": "stdout",
          "text": [
            "Modelo:  22df010c50224dfe89c083386f68ab0e\n",
            "Model: \"sequential_79\"\n",
            "_________________________________________________________________\n",
            " Layer (type)                Output Shape              Param #   \n",
            "=================================================================\n",
            " dense_287 (Dense)           (None, 2)                 1570      \n",
            "                                                                 \n",
            " dropout_208 (Dropout)       (None, 2)                 0         \n",
            "                                                                 \n",
            " dense_288 (Dense)           (None, 2)                 6         \n",
            "                                                                 \n",
            " dropout_209 (Dropout)       (None, 2)                 0         \n",
            "                                                                 \n",
            " dense_289 (Dense)           (None, 2)                 6         \n",
            "                                                                 \n",
            " dropout_210 (Dropout)       (None, 2)                 0         \n",
            "                                                                 \n",
            " dense_290 (Dense)           (None, 2)                 6         \n",
            "                                                                 \n",
            " dropout_211 (Dropout)       (None, 2)                 0         \n",
            "                                                                 \n",
            " dense_291 (Dense)           (None, 10)                30        \n",
            "                                                                 \n",
            "=================================================================\n",
            "Total params: 1,618\n",
            "Trainable params: 1,618\n",
            "Non-trainable params: 0\n",
            "_________________________________________________________________\n",
            "Epoch 1/4\n",
            "   1/1875 [..............................] - ETA: 16:07 - loss: 2.3103 - accuracy: 0.1250WARNING:tensorflow:Callback method `on_train_batch_end` is slow compared to the batch time (batch time: 0.0023s vs `on_train_batch_end` time: 0.0026s). Check your callbacks.\n",
            "1875/1875 [==============================] - 6s 3ms/step - loss: 1.8897 - accuracy: 0.2688 - val_loss: 1.4901 - val_accuracy: 0.4398\n",
            "Epoch 2/4\n",
            "1875/1875 [==============================] - 6s 3ms/step - loss: 1.7133 - accuracy: 0.2874 - val_loss: 1.3922 - val_accuracy: 0.4489\n",
            "Epoch 3/4\n",
            "1875/1875 [==============================] - 6s 3ms/step - loss: 1.6746 - accuracy: 0.2943 - val_loss: 1.3604 - val_accuracy: 0.4445\n",
            "Epoch 4/4\n",
            "1875/1875 [==============================] - 6s 3ms/step - loss: 1.6596 - accuracy: 0.3029 - val_loss: 1.3392 - val_accuracy: 0.4813\n",
            "INFO:tensorflow:Assets written to: /tmp/tmpr6fbqpuu/model/data/model/assets\n"
          ]
        },
        {
          "output_type": "stream",
          "name": "stderr",
          "text": [
            "2022/05/04 19:30:07 WARNING mlflow.utils.requirements_utils: Found jaxlib version (0.3.7+cuda11.cudnn805) contains a local version label (+cuda11.cudnn805). MLflow logged a pip requirement for this package as 'jaxlib==0.3.7' without the local version label to make it installable from PyPI. To specify pip requirements containing local version labels, please use `conda_env` or `pip_requirements`.\n"
          ]
        },
        {
          "output_type": "stream",
          "name": "stdout",
          "text": [
            "Modelo:  c642edc835f5405e90d51221bdeb4bfc\n",
            "Model: \"sequential_80\"\n",
            "_________________________________________________________________\n",
            " Layer (type)                Output Shape              Param #   \n",
            "=================================================================\n",
            " dense_292 (Dense)           (None, 2)                 1570      \n",
            "                                                                 \n",
            " dropout_212 (Dropout)       (None, 2)                 0         \n",
            "                                                                 \n",
            " dense_293 (Dense)           (None, 2)                 6         \n",
            "                                                                 \n",
            " dropout_213 (Dropout)       (None, 2)                 0         \n",
            "                                                                 \n",
            " dense_294 (Dense)           (None, 2)                 6         \n",
            "                                                                 \n",
            " dropout_214 (Dropout)       (None, 2)                 0         \n",
            "                                                                 \n",
            " dense_295 (Dense)           (None, 2)                 6         \n",
            "                                                                 \n",
            " dropout_215 (Dropout)       (None, 2)                 0         \n",
            "                                                                 \n",
            " dense_296 (Dense)           (None, 10)                30        \n",
            "                                                                 \n",
            "=================================================================\n",
            "Total params: 1,618\n",
            "Trainable params: 1,618\n",
            "Non-trainable params: 0\n",
            "_________________________________________________________________\n",
            "Epoch 1/5\n",
            "   1/1875 [..............................] - ETA: 15:38 - loss: 2.3054 - accuracy: 0.0625WARNING:tensorflow:Callback method `on_train_batch_end` is slow compared to the batch time (batch time: 0.0029s vs `on_train_batch_end` time: 0.0029s). Check your callbacks.\n",
            "1875/1875 [==============================] - 6s 3ms/step - loss: 1.9665 - accuracy: 0.1950 - val_loss: 1.8530 - val_accuracy: 0.2139\n",
            "Epoch 2/5\n",
            "1875/1875 [==============================] - 6s 3ms/step - loss: 1.8951 - accuracy: 0.2033 - val_loss: 1.8365 - val_accuracy: 0.2213\n",
            "Epoch 3/5\n",
            "1875/1875 [==============================] - 6s 3ms/step - loss: 1.8837 - accuracy: 0.2071 - val_loss: 1.8247 - val_accuracy: 0.2207\n",
            "Epoch 4/5\n",
            "1875/1875 [==============================] - 6s 3ms/step - loss: 1.8773 - accuracy: 0.2084 - val_loss: 1.8392 - val_accuracy: 0.2317\n",
            "Epoch 5/5\n",
            "1875/1875 [==============================] - 6s 3ms/step - loss: 1.8695 - accuracy: 0.2229 - val_loss: 1.7800 - val_accuracy: 0.2720\n",
            "INFO:tensorflow:Assets written to: /tmp/tmpp8ek219j/model/data/model/assets\n"
          ]
        },
        {
          "output_type": "stream",
          "name": "stderr",
          "text": [
            "2022/05/04 19:30:43 WARNING mlflow.utils.requirements_utils: Found jaxlib version (0.3.7+cuda11.cudnn805) contains a local version label (+cuda11.cudnn805). MLflow logged a pip requirement for this package as 'jaxlib==0.3.7' without the local version label to make it installable from PyPI. To specify pip requirements containing local version labels, please use `conda_env` or `pip_requirements`.\n"
          ]
        },
        {
          "output_type": "stream",
          "name": "stdout",
          "text": [
            "Modelo:  1927d4a78dc04a1daba295608721d1c9\n",
            "Model: \"sequential_81\"\n",
            "_________________________________________________________________\n",
            " Layer (type)                Output Shape              Param #   \n",
            "=================================================================\n",
            " dense_297 (Dense)           (None, 2)                 1570      \n",
            "                                                                 \n",
            " dropout_216 (Dropout)       (None, 2)                 0         \n",
            "                                                                 \n",
            " dense_298 (Dense)           (None, 2)                 6         \n",
            "                                                                 \n",
            " dropout_217 (Dropout)       (None, 2)                 0         \n",
            "                                                                 \n",
            " dense_299 (Dense)           (None, 2)                 6         \n",
            "                                                                 \n",
            " dropout_218 (Dropout)       (None, 2)                 0         \n",
            "                                                                 \n",
            " dense_300 (Dense)           (None, 2)                 6         \n",
            "                                                                 \n",
            " dropout_219 (Dropout)       (None, 2)                 0         \n",
            "                                                                 \n",
            " dense_301 (Dense)           (None, 10)                30        \n",
            "                                                                 \n",
            "=================================================================\n",
            "Total params: 1,618\n",
            "Trainable params: 1,618\n",
            "Non-trainable params: 0\n",
            "_________________________________________________________________\n",
            "Epoch 1/3\n",
            "   1/1875 [..............................] - ETA: 25:50 - loss: 2.3425 - accuracy: 0.1250WARNING:tensorflow:Callback method `on_train_batch_end` is slow compared to the batch time (batch time: 0.0021s vs `on_train_batch_end` time: 0.0030s). Check your callbacks.\n",
            "1875/1875 [==============================] - 7s 3ms/step - loss: 2.0580 - accuracy: 0.1729 - val_loss: 1.8108 - val_accuracy: 0.2412\n",
            "Epoch 2/3\n",
            "1875/1875 [==============================] - 6s 3ms/step - loss: 1.9241 - accuracy: 0.1937 - val_loss: 1.7878 - val_accuracy: 0.2324\n",
            "Epoch 3/3\n",
            "1875/1875 [==============================] - 6s 3ms/step - loss: 1.8996 - accuracy: 0.1919 - val_loss: 1.7895 - val_accuracy: 0.2121\n",
            "INFO:tensorflow:Assets written to: /tmp/tmpm1x6ny1w/model/data/model/assets\n"
          ]
        },
        {
          "output_type": "stream",
          "name": "stderr",
          "text": [
            "2022/05/04 19:31:07 WARNING mlflow.utils.requirements_utils: Found jaxlib version (0.3.7+cuda11.cudnn805) contains a local version label (+cuda11.cudnn805). MLflow logged a pip requirement for this package as 'jaxlib==0.3.7' without the local version label to make it installable from PyPI. To specify pip requirements containing local version labels, please use `conda_env` or `pip_requirements`.\n"
          ]
        },
        {
          "output_type": "stream",
          "name": "stdout",
          "text": [
            "Modelo:  85e935f3f697492b94974db9241bd919\n",
            "Model: \"sequential_82\"\n",
            "_________________________________________________________________\n",
            " Layer (type)                Output Shape              Param #   \n",
            "=================================================================\n",
            " dense_302 (Dense)           (None, 2)                 1570      \n",
            "                                                                 \n",
            " dropout_220 (Dropout)       (None, 2)                 0         \n",
            "                                                                 \n",
            " dense_303 (Dense)           (None, 2)                 6         \n",
            "                                                                 \n",
            " dropout_221 (Dropout)       (None, 2)                 0         \n",
            "                                                                 \n",
            " dense_304 (Dense)           (None, 2)                 6         \n",
            "                                                                 \n",
            " dropout_222 (Dropout)       (None, 2)                 0         \n",
            "                                                                 \n",
            " dense_305 (Dense)           (None, 2)                 6         \n",
            "                                                                 \n",
            " dropout_223 (Dropout)       (None, 2)                 0         \n",
            "                                                                 \n",
            " dense_306 (Dense)           (None, 10)                30        \n",
            "                                                                 \n",
            "=================================================================\n",
            "Total params: 1,618\n",
            "Trainable params: 1,618\n",
            "Non-trainable params: 0\n",
            "_________________________________________________________________\n",
            "Epoch 1/4\n",
            "   1/1875 [..............................] - ETA: 15:25 - loss: 2.3261 - accuracy: 0.0625WARNING:tensorflow:Callback method `on_train_batch_end` is slow compared to the batch time (batch time: 0.0022s vs `on_train_batch_end` time: 0.0028s). Check your callbacks.\n",
            "1875/1875 [==============================] - 6s 3ms/step - loss: 2.0822 - accuracy: 0.1923 - val_loss: 1.7260 - val_accuracy: 0.4007\n",
            "Epoch 2/4\n",
            "1875/1875 [==============================] - 6s 3ms/step - loss: 1.9955 - accuracy: 0.2103 - val_loss: 1.6479 - val_accuracy: 0.3975\n",
            "Epoch 3/4\n",
            "1875/1875 [==============================] - 6s 3ms/step - loss: 1.9624 - accuracy: 0.2025 - val_loss: 1.5759 - val_accuracy: 0.4013\n",
            "Epoch 4/4\n",
            "1875/1875 [==============================] - 6s 3ms/step - loss: 1.9475 - accuracy: 0.2000 - val_loss: 1.5560 - val_accuracy: 0.4240\n",
            "INFO:tensorflow:Assets written to: /tmp/tmp56mmlx8e/model/data/model/assets\n"
          ]
        },
        {
          "output_type": "stream",
          "name": "stderr",
          "text": [
            "2022/05/04 19:31:37 WARNING mlflow.utils.requirements_utils: Found jaxlib version (0.3.7+cuda11.cudnn805) contains a local version label (+cuda11.cudnn805). MLflow logged a pip requirement for this package as 'jaxlib==0.3.7' without the local version label to make it installable from PyPI. To specify pip requirements containing local version labels, please use `conda_env` or `pip_requirements`.\n"
          ]
        },
        {
          "output_type": "stream",
          "name": "stdout",
          "text": [
            "Modelo:  55cecf42d337425f87c8f953d1810d22\n",
            "Model: \"sequential_83\"\n",
            "_________________________________________________________________\n",
            " Layer (type)                Output Shape              Param #   \n",
            "=================================================================\n",
            " dense_307 (Dense)           (None, 2)                 1570      \n",
            "                                                                 \n",
            " dropout_224 (Dropout)       (None, 2)                 0         \n",
            "                                                                 \n",
            " dense_308 (Dense)           (None, 2)                 6         \n",
            "                                                                 \n",
            " dropout_225 (Dropout)       (None, 2)                 0         \n",
            "                                                                 \n",
            " dense_309 (Dense)           (None, 2)                 6         \n",
            "                                                                 \n",
            " dropout_226 (Dropout)       (None, 2)                 0         \n",
            "                                                                 \n",
            " dense_310 (Dense)           (None, 2)                 6         \n",
            "                                                                 \n",
            " dropout_227 (Dropout)       (None, 2)                 0         \n",
            "                                                                 \n",
            " dense_311 (Dense)           (None, 10)                30        \n",
            "                                                                 \n",
            "=================================================================\n",
            "Total params: 1,618\n",
            "Trainable params: 1,618\n",
            "Non-trainable params: 0\n",
            "_________________________________________________________________\n",
            "Epoch 1/5\n",
            "   1/1875 [..............................] - ETA: 15:36 - loss: 2.3765 - accuracy: 0.0312WARNING:tensorflow:Callback method `on_train_batch_end` is slow compared to the batch time (batch time: 0.0024s vs `on_train_batch_end` time: 0.0031s). Check your callbacks.\n",
            "1875/1875 [==============================] - 6s 3ms/step - loss: 2.0065 - accuracy: 0.1813 - val_loss: 1.8170 - val_accuracy: 0.2199\n",
            "Epoch 2/5\n",
            "1875/1875 [==============================] - 6s 3ms/step - loss: 1.9007 - accuracy: 0.1895 - val_loss: 1.7956 - val_accuracy: 0.2098\n",
            "Epoch 3/5\n",
            "1875/1875 [==============================] - 6s 3ms/step - loss: 1.8832 - accuracy: 0.1882 - val_loss: 1.7886 - val_accuracy: 0.2087\n",
            "Epoch 4/5\n",
            "1875/1875 [==============================] - 6s 3ms/step - loss: 1.8767 - accuracy: 0.1884 - val_loss: 1.7814 - val_accuracy: 0.2093\n",
            "Epoch 5/5\n",
            "1875/1875 [==============================] - 6s 3ms/step - loss: 1.8750 - accuracy: 0.1926 - val_loss: 1.7774 - val_accuracy: 0.2105\n",
            "INFO:tensorflow:Assets written to: /tmp/tmp4bexpwqr/model/data/model/assets\n"
          ]
        },
        {
          "output_type": "stream",
          "name": "stderr",
          "text": [
            "2022/05/04 19:32:12 WARNING mlflow.utils.requirements_utils: Found jaxlib version (0.3.7+cuda11.cudnn805) contains a local version label (+cuda11.cudnn805). MLflow logged a pip requirement for this package as 'jaxlib==0.3.7' without the local version label to make it installable from PyPI. To specify pip requirements containing local version labels, please use `conda_env` or `pip_requirements`.\n"
          ]
        },
        {
          "output_type": "stream",
          "name": "stdout",
          "text": [
            "Modelo:  69ddde0afa1840909c4393fde15c133e\n",
            "Model: \"sequential_84\"\n",
            "_________________________________________________________________\n",
            " Layer (type)                Output Shape              Param #   \n",
            "=================================================================\n",
            " dense_312 (Dense)           (None, 4)                 3140      \n",
            "                                                                 \n",
            " dropout_228 (Dropout)       (None, 4)                 0         \n",
            "                                                                 \n",
            " dense_313 (Dense)           (None, 4)                 20        \n",
            "                                                                 \n",
            " dropout_229 (Dropout)       (None, 4)                 0         \n",
            "                                                                 \n",
            " dense_314 (Dense)           (None, 4)                 20        \n",
            "                                                                 \n",
            " dropout_230 (Dropout)       (None, 4)                 0         \n",
            "                                                                 \n",
            " dense_315 (Dense)           (None, 4)                 20        \n",
            "                                                                 \n",
            " dropout_231 (Dropout)       (None, 4)                 0         \n",
            "                                                                 \n",
            " dense_316 (Dense)           (None, 10)                50        \n",
            "                                                                 \n",
            "=================================================================\n",
            "Total params: 3,250\n",
            "Trainable params: 3,250\n",
            "Non-trainable params: 0\n",
            "_________________________________________________________________\n",
            "Epoch 1/3\n",
            "1875/1875 [==============================] - 6s 3ms/step - loss: 1.9441 - accuracy: 0.2404 - val_loss: 1.6304 - val_accuracy: 0.3524\n",
            "Epoch 2/3\n",
            "1875/1875 [==============================] - 6s 3ms/step - loss: 1.7406 - accuracy: 0.3010 - val_loss: 1.4825 - val_accuracy: 0.4386\n",
            "Epoch 3/3\n",
            "1875/1875 [==============================] - 6s 3ms/step - loss: 1.6343 - accuracy: 0.3511 - val_loss: 1.3545 - val_accuracy: 0.4782\n",
            "INFO:tensorflow:Assets written to: /tmp/tmpxg3u2y4_/model/data/model/assets\n"
          ]
        },
        {
          "output_type": "stream",
          "name": "stderr",
          "text": [
            "2022/05/04 19:32:37 WARNING mlflow.utils.requirements_utils: Found jaxlib version (0.3.7+cuda11.cudnn805) contains a local version label (+cuda11.cudnn805). MLflow logged a pip requirement for this package as 'jaxlib==0.3.7' without the local version label to make it installable from PyPI. To specify pip requirements containing local version labels, please use `conda_env` or `pip_requirements`.\n"
          ]
        },
        {
          "output_type": "stream",
          "name": "stdout",
          "text": [
            "Modelo:  784b708abd4c491bb1c7880bdabe8dd5\n",
            "Model: \"sequential_85\"\n",
            "_________________________________________________________________\n",
            " Layer (type)                Output Shape              Param #   \n",
            "=================================================================\n",
            " dense_317 (Dense)           (None, 4)                 3140      \n",
            "                                                                 \n",
            " dropout_232 (Dropout)       (None, 4)                 0         \n",
            "                                                                 \n",
            " dense_318 (Dense)           (None, 4)                 20        \n",
            "                                                                 \n",
            " dropout_233 (Dropout)       (None, 4)                 0         \n",
            "                                                                 \n",
            " dense_319 (Dense)           (None, 4)                 20        \n",
            "                                                                 \n",
            " dropout_234 (Dropout)       (None, 4)                 0         \n",
            "                                                                 \n",
            " dense_320 (Dense)           (None, 4)                 20        \n",
            "                                                                 \n",
            " dropout_235 (Dropout)       (None, 4)                 0         \n",
            "                                                                 \n",
            " dense_321 (Dense)           (None, 10)                50        \n",
            "                                                                 \n",
            "=================================================================\n",
            "Total params: 3,250\n",
            "Trainable params: 3,250\n",
            "Non-trainable params: 0\n",
            "_________________________________________________________________\n",
            "Epoch 1/4\n",
            "   1/1875 [..............................] - ETA: 15:25 - loss: 2.3141 - accuracy: 0.0000e+00WARNING:tensorflow:Callback method `on_train_batch_end` is slow compared to the batch time (batch time: 0.0023s vs `on_train_batch_end` time: 0.0025s). Check your callbacks.\n",
            "1875/1875 [==============================] - 7s 3ms/step - loss: 1.8126 - accuracy: 0.3052 - val_loss: 1.3462 - val_accuracy: 0.5374\n",
            "Epoch 2/4\n",
            "1875/1875 [==============================] - 6s 3ms/step - loss: 1.5850 - accuracy: 0.3920 - val_loss: 1.2246 - val_accuracy: 0.5727\n",
            "Epoch 3/4\n",
            "1875/1875 [==============================] - 6s 3ms/step - loss: 1.5198 - accuracy: 0.4313 - val_loss: 1.1716 - val_accuracy: 0.6263\n",
            "Epoch 4/4\n",
            "1875/1875 [==============================] - 6s 3ms/step - loss: 1.4796 - accuracy: 0.4621 - val_loss: 1.1186 - val_accuracy: 0.6638\n",
            "INFO:tensorflow:Assets written to: /tmp/tmp54dwnjyz/model/data/model/assets\n"
          ]
        },
        {
          "output_type": "stream",
          "name": "stderr",
          "text": [
            "2022/05/04 19:33:07 WARNING mlflow.utils.requirements_utils: Found jaxlib version (0.3.7+cuda11.cudnn805) contains a local version label (+cuda11.cudnn805). MLflow logged a pip requirement for this package as 'jaxlib==0.3.7' without the local version label to make it installable from PyPI. To specify pip requirements containing local version labels, please use `conda_env` or `pip_requirements`.\n"
          ]
        },
        {
          "output_type": "stream",
          "name": "stdout",
          "text": [
            "Modelo:  93aa258d5b644316bd0ccadfe348c61c\n",
            "Model: \"sequential_86\"\n",
            "_________________________________________________________________\n",
            " Layer (type)                Output Shape              Param #   \n",
            "=================================================================\n",
            " dense_322 (Dense)           (None, 4)                 3140      \n",
            "                                                                 \n",
            " dropout_236 (Dropout)       (None, 4)                 0         \n",
            "                                                                 \n",
            " dense_323 (Dense)           (None, 4)                 20        \n",
            "                                                                 \n",
            " dropout_237 (Dropout)       (None, 4)                 0         \n",
            "                                                                 \n",
            " dense_324 (Dense)           (None, 4)                 20        \n",
            "                                                                 \n",
            " dropout_238 (Dropout)       (None, 4)                 0         \n",
            "                                                                 \n",
            " dense_325 (Dense)           (None, 4)                 20        \n",
            "                                                                 \n",
            " dropout_239 (Dropout)       (None, 4)                 0         \n",
            "                                                                 \n",
            " dense_326 (Dense)           (None, 10)                50        \n",
            "                                                                 \n",
            "=================================================================\n",
            "Total params: 3,250\n",
            "Trainable params: 3,250\n",
            "Non-trainable params: 0\n",
            "_________________________________________________________________\n",
            "Epoch 1/5\n",
            "   1/1875 [..............................] - ETA: 15:49 - loss: 2.3102 - accuracy: 0.0312WARNING:tensorflow:Callback method `on_train_batch_end` is slow compared to the batch time (batch time: 0.0025s vs `on_train_batch_end` time: 0.0036s). Check your callbacks.\n",
            "1875/1875 [==============================] - 7s 3ms/step - loss: 1.8293 - accuracy: 0.3184 - val_loss: 1.4092 - val_accuracy: 0.5524\n",
            "Epoch 2/5\n",
            "1875/1875 [==============================] - 6s 3ms/step - loss: 1.5929 - accuracy: 0.4469 - val_loss: 1.2679 - val_accuracy: 0.6178\n",
            "Epoch 3/5\n",
            "1875/1875 [==============================] - 6s 3ms/step - loss: 1.5231 - accuracy: 0.4768 - val_loss: 1.1861 - val_accuracy: 0.6707\n",
            "Epoch 4/5\n",
            "1875/1875 [==============================] - 6s 3ms/step - loss: 1.4870 - accuracy: 0.4842 - val_loss: 1.1485 - val_accuracy: 0.6639\n",
            "Epoch 5/5\n",
            "1875/1875 [==============================] - 6s 3ms/step - loss: 1.4645 - accuracy: 0.4912 - val_loss: 1.1322 - val_accuracy: 0.6676\n",
            "INFO:tensorflow:Assets written to: /tmp/tmpec3ckdds/model/data/model/assets\n"
          ]
        },
        {
          "output_type": "stream",
          "name": "stderr",
          "text": [
            "2022/05/04 19:33:43 WARNING mlflow.utils.requirements_utils: Found jaxlib version (0.3.7+cuda11.cudnn805) contains a local version label (+cuda11.cudnn805). MLflow logged a pip requirement for this package as 'jaxlib==0.3.7' without the local version label to make it installable from PyPI. To specify pip requirements containing local version labels, please use `conda_env` or `pip_requirements`.\n"
          ]
        },
        {
          "output_type": "stream",
          "name": "stdout",
          "text": [
            "Modelo:  2d39f27ce05a47d68a4b37f5c272e141\n",
            "Model: \"sequential_87\"\n",
            "_________________________________________________________________\n",
            " Layer (type)                Output Shape              Param #   \n",
            "=================================================================\n",
            " dense_327 (Dense)           (None, 4)                 3140      \n",
            "                                                                 \n",
            " dropout_240 (Dropout)       (None, 4)                 0         \n",
            "                                                                 \n",
            " dense_328 (Dense)           (None, 4)                 20        \n",
            "                                                                 \n",
            " dropout_241 (Dropout)       (None, 4)                 0         \n",
            "                                                                 \n",
            " dense_329 (Dense)           (None, 4)                 20        \n",
            "                                                                 \n",
            " dropout_242 (Dropout)       (None, 4)                 0         \n",
            "                                                                 \n",
            " dense_330 (Dense)           (None, 4)                 20        \n",
            "                                                                 \n",
            " dropout_243 (Dropout)       (None, 4)                 0         \n",
            "                                                                 \n",
            " dense_331 (Dense)           (None, 10)                50        \n",
            "                                                                 \n",
            "=================================================================\n",
            "Total params: 3,250\n",
            "Trainable params: 3,250\n",
            "Non-trainable params: 0\n",
            "_________________________________________________________________\n",
            "Epoch 1/3\n",
            "   1/1875 [..............................] - ETA: 15:40 - loss: 2.2959 - accuracy: 0.0938WARNING:tensorflow:Callback method `on_train_batch_end` is slow compared to the batch time (batch time: 0.0020s vs `on_train_batch_end` time: 0.0036s). Check your callbacks.\n",
            "1875/1875 [==============================] - 6s 3ms/step - loss: 1.9890 - accuracy: 0.2283 - val_loss: 1.6223 - val_accuracy: 0.4305\n",
            "Epoch 2/3\n",
            "1875/1875 [==============================] - 6s 3ms/step - loss: 1.8676 - accuracy: 0.2837 - val_loss: 1.5533 - val_accuracy: 0.4141\n",
            "Epoch 3/3\n",
            "1875/1875 [==============================] - 6s 3ms/step - loss: 1.8393 - accuracy: 0.3022 - val_loss: 1.4707 - val_accuracy: 0.4499\n",
            "INFO:tensorflow:Assets written to: /tmp/tmpgr1jw2m4/model/data/model/assets\n"
          ]
        },
        {
          "output_type": "stream",
          "name": "stderr",
          "text": [
            "2022/05/04 19:34:07 WARNING mlflow.utils.requirements_utils: Found jaxlib version (0.3.7+cuda11.cudnn805) contains a local version label (+cuda11.cudnn805). MLflow logged a pip requirement for this package as 'jaxlib==0.3.7' without the local version label to make it installable from PyPI. To specify pip requirements containing local version labels, please use `conda_env` or `pip_requirements`.\n"
          ]
        },
        {
          "output_type": "stream",
          "name": "stdout",
          "text": [
            "Modelo:  9e3c5284e10a4e5cb8235e8a71e4535c\n",
            "Model: \"sequential_88\"\n",
            "_________________________________________________________________\n",
            " Layer (type)                Output Shape              Param #   \n",
            "=================================================================\n",
            " dense_332 (Dense)           (None, 4)                 3140      \n",
            "                                                                 \n",
            " dropout_244 (Dropout)       (None, 4)                 0         \n",
            "                                                                 \n",
            " dense_333 (Dense)           (None, 4)                 20        \n",
            "                                                                 \n",
            " dropout_245 (Dropout)       (None, 4)                 0         \n",
            "                                                                 \n",
            " dense_334 (Dense)           (None, 4)                 20        \n",
            "                                                                 \n",
            " dropout_246 (Dropout)       (None, 4)                 0         \n",
            "                                                                 \n",
            " dense_335 (Dense)           (None, 4)                 20        \n",
            "                                                                 \n",
            " dropout_247 (Dropout)       (None, 4)                 0         \n",
            "                                                                 \n",
            " dense_336 (Dense)           (None, 10)                50        \n",
            "                                                                 \n",
            "=================================================================\n",
            "Total params: 3,250\n",
            "Trainable params: 3,250\n",
            "Non-trainable params: 0\n",
            "_________________________________________________________________\n",
            "Epoch 1/4\n",
            "   1/1875 [..............................] - ETA: 15:33 - loss: 2.3274 - accuracy: 0.0312WARNING:tensorflow:Callback method `on_train_batch_end` is slow compared to the batch time (batch time: 0.0021s vs `on_train_batch_end` time: 0.0028s). Check your callbacks.\n",
            "1875/1875 [==============================] - 6s 3ms/step - loss: 2.0254 - accuracy: 0.2190 - val_loss: 1.6665 - val_accuracy: 0.3828\n",
            "Epoch 2/4\n",
            "1875/1875 [==============================] - 6s 3ms/step - loss: 1.8768 - accuracy: 0.2688 - val_loss: 1.5843 - val_accuracy: 0.4406\n",
            "Epoch 3/4\n",
            "1875/1875 [==============================] - 6s 3ms/step - loss: 1.8227 - accuracy: 0.3021 - val_loss: 1.5186 - val_accuracy: 0.4544\n",
            "Epoch 4/4\n",
            "1875/1875 [==============================] - 6s 3ms/step - loss: 1.7981 - accuracy: 0.3077 - val_loss: 1.4832 - val_accuracy: 0.4388\n",
            "INFO:tensorflow:Assets written to: /tmp/tmp8eitha7j/model/data/model/assets\n"
          ]
        },
        {
          "output_type": "stream",
          "name": "stderr",
          "text": [
            "2022/05/04 19:34:37 WARNING mlflow.utils.requirements_utils: Found jaxlib version (0.3.7+cuda11.cudnn805) contains a local version label (+cuda11.cudnn805). MLflow logged a pip requirement for this package as 'jaxlib==0.3.7' without the local version label to make it installable from PyPI. To specify pip requirements containing local version labels, please use `conda_env` or `pip_requirements`.\n"
          ]
        },
        {
          "output_type": "stream",
          "name": "stdout",
          "text": [
            "Modelo:  a4bc177c55e84574846d27a358f149f6\n",
            "Model: \"sequential_89\"\n",
            "_________________________________________________________________\n",
            " Layer (type)                Output Shape              Param #   \n",
            "=================================================================\n",
            " dense_337 (Dense)           (None, 4)                 3140      \n",
            "                                                                 \n",
            " dropout_248 (Dropout)       (None, 4)                 0         \n",
            "                                                                 \n",
            " dense_338 (Dense)           (None, 4)                 20        \n",
            "                                                                 \n",
            " dropout_249 (Dropout)       (None, 4)                 0         \n",
            "                                                                 \n",
            " dense_339 (Dense)           (None, 4)                 20        \n",
            "                                                                 \n",
            " dropout_250 (Dropout)       (None, 4)                 0         \n",
            "                                                                 \n",
            " dense_340 (Dense)           (None, 4)                 20        \n",
            "                                                                 \n",
            " dropout_251 (Dropout)       (None, 4)                 0         \n",
            "                                                                 \n",
            " dense_341 (Dense)           (None, 10)                50        \n",
            "                                                                 \n",
            "=================================================================\n",
            "Total params: 3,250\n",
            "Trainable params: 3,250\n",
            "Non-trainable params: 0\n",
            "_________________________________________________________________\n",
            "Epoch 1/5\n",
            "   1/1875 [..............................] - ETA: 15:48 - loss: 2.3429 - accuracy: 0.0625WARNING:tensorflow:Callback method `on_train_batch_end` is slow compared to the batch time (batch time: 0.0022s vs `on_train_batch_end` time: 0.0031s). Check your callbacks.\n",
            "1875/1875 [==============================] - 6s 3ms/step - loss: 2.1264 - accuracy: 0.1785 - val_loss: 1.9540 - val_accuracy: 0.2750\n",
            "Epoch 2/5\n",
            "1875/1875 [==============================] - 6s 3ms/step - loss: 2.0072 - accuracy: 0.2119 - val_loss: 1.7715 - val_accuracy: 0.3471\n",
            "Epoch 3/5\n",
            "1875/1875 [==============================] - 6s 3ms/step - loss: 1.8847 - accuracy: 0.2551 - val_loss: 1.6822 - val_accuracy: 0.4008\n",
            "Epoch 4/5\n",
            "1875/1875 [==============================] - 6s 3ms/step - loss: 1.8442 - accuracy: 0.2824 - val_loss: 1.6271 - val_accuracy: 0.4035\n",
            "Epoch 5/5\n",
            "1875/1875 [==============================] - 6s 3ms/step - loss: 1.8197 - accuracy: 0.2984 - val_loss: 1.5933 - val_accuracy: 0.4248\n",
            "INFO:tensorflow:Assets written to: /tmp/tmpgbq8pdpf/model/data/model/assets\n"
          ]
        },
        {
          "output_type": "stream",
          "name": "stderr",
          "text": [
            "2022/05/04 19:35:13 WARNING mlflow.utils.requirements_utils: Found jaxlib version (0.3.7+cuda11.cudnn805) contains a local version label (+cuda11.cudnn805). MLflow logged a pip requirement for this package as 'jaxlib==0.3.7' without the local version label to make it installable from PyPI. To specify pip requirements containing local version labels, please use `conda_env` or `pip_requirements`.\n"
          ]
        },
        {
          "output_type": "stream",
          "name": "stdout",
          "text": [
            "Modelo:  3366261550bc410ab470af51960d293c\n",
            "Model: \"sequential_90\"\n",
            "_________________________________________________________________\n",
            " Layer (type)                Output Shape              Param #   \n",
            "=================================================================\n",
            " dense_342 (Dense)           (None, 4)                 3140      \n",
            "                                                                 \n",
            " dropout_252 (Dropout)       (None, 4)                 0         \n",
            "                                                                 \n",
            " dense_343 (Dense)           (None, 4)                 20        \n",
            "                                                                 \n",
            " dropout_253 (Dropout)       (None, 4)                 0         \n",
            "                                                                 \n",
            " dense_344 (Dense)           (None, 4)                 20        \n",
            "                                                                 \n",
            " dropout_254 (Dropout)       (None, 4)                 0         \n",
            "                                                                 \n",
            " dense_345 (Dense)           (None, 4)                 20        \n",
            "                                                                 \n",
            " dropout_255 (Dropout)       (None, 4)                 0         \n",
            "                                                                 \n",
            " dense_346 (Dense)           (None, 10)                50        \n",
            "                                                                 \n",
            "=================================================================\n",
            "Total params: 3,250\n",
            "Trainable params: 3,250\n",
            "Non-trainable params: 0\n",
            "_________________________________________________________________\n",
            "Epoch 1/3\n",
            "   1/1875 [..............................] - ETA: 16:03 - loss: 2.3705 - accuracy: 0.1250WARNING:tensorflow:Callback method `on_train_batch_end` is slow compared to the batch time (batch time: 0.0022s vs `on_train_batch_end` time: 0.0027s). Check your callbacks.\n",
            "1875/1875 [==============================] - 6s 3ms/step - loss: 1.5535 - accuracy: 0.4379 - val_loss: 1.0680 - val_accuracy: 0.6614\n",
            "Epoch 2/3\n",
            "1875/1875 [==============================] - 6s 3ms/step - loss: 1.2990 - accuracy: 0.4958 - val_loss: 0.9502 - val_accuracy: 0.6741\n",
            "Epoch 3/3\n",
            "1875/1875 [==============================] - 6s 3ms/step - loss: 1.2453 - accuracy: 0.5105 - val_loss: 0.8844 - val_accuracy: 0.6924\n",
            "INFO:tensorflow:Assets written to: /tmp/tmp3ukpdq5p/model/data/model/assets\n"
          ]
        },
        {
          "output_type": "stream",
          "name": "stderr",
          "text": [
            "2022/05/04 19:35:40 WARNING mlflow.utils.requirements_utils: Found jaxlib version (0.3.7+cuda11.cudnn805) contains a local version label (+cuda11.cudnn805). MLflow logged a pip requirement for this package as 'jaxlib==0.3.7' without the local version label to make it installable from PyPI. To specify pip requirements containing local version labels, please use `conda_env` or `pip_requirements`.\n"
          ]
        },
        {
          "output_type": "stream",
          "name": "stdout",
          "text": [
            "Modelo:  bd0f9144a6db49a2a93e853460225c85\n",
            "Model: \"sequential_91\"\n",
            "_________________________________________________________________\n",
            " Layer (type)                Output Shape              Param #   \n",
            "=================================================================\n",
            " dense_347 (Dense)           (None, 4)                 3140      \n",
            "                                                                 \n",
            " dropout_256 (Dropout)       (None, 4)                 0         \n",
            "                                                                 \n",
            " dense_348 (Dense)           (None, 4)                 20        \n",
            "                                                                 \n",
            " dropout_257 (Dropout)       (None, 4)                 0         \n",
            "                                                                 \n",
            " dense_349 (Dense)           (None, 4)                 20        \n",
            "                                                                 \n",
            " dropout_258 (Dropout)       (None, 4)                 0         \n",
            "                                                                 \n",
            " dense_350 (Dense)           (None, 4)                 20        \n",
            "                                                                 \n",
            " dropout_259 (Dropout)       (None, 4)                 0         \n",
            "                                                                 \n",
            " dense_351 (Dense)           (None, 10)                50        \n",
            "                                                                 \n",
            "=================================================================\n",
            "Total params: 3,250\n",
            "Trainable params: 3,250\n",
            "Non-trainable params: 0\n",
            "_________________________________________________________________\n",
            "Epoch 1/4\n",
            "1875/1875 [==============================] - 6s 3ms/step - loss: 1.6063 - accuracy: 0.4115 - val_loss: 1.0665 - val_accuracy: 0.6403\n",
            "Epoch 2/4\n",
            "1875/1875 [==============================] - 6s 3ms/step - loss: 1.2604 - accuracy: 0.5019 - val_loss: 0.9435 - val_accuracy: 0.6316\n",
            "Epoch 3/4\n",
            "1875/1875 [==============================] - 6s 3ms/step - loss: 1.1948 - accuracy: 0.5222 - val_loss: 0.9118 - val_accuracy: 0.6324\n",
            "Epoch 4/4\n",
            "1875/1875 [==============================] - 6s 3ms/step - loss: 1.1724 - accuracy: 0.5265 - val_loss: 0.9164 - val_accuracy: 0.6299\n",
            "INFO:tensorflow:Assets written to: /tmp/tmpqqceuu02/model/data/model/assets\n"
          ]
        },
        {
          "output_type": "stream",
          "name": "stderr",
          "text": [
            "2022/05/04 19:36:28 WARNING mlflow.utils.requirements_utils: Found jaxlib version (0.3.7+cuda11.cudnn805) contains a local version label (+cuda11.cudnn805). MLflow logged a pip requirement for this package as 'jaxlib==0.3.7' without the local version label to make it installable from PyPI. To specify pip requirements containing local version labels, please use `conda_env` or `pip_requirements`.\n"
          ]
        },
        {
          "output_type": "stream",
          "name": "stdout",
          "text": [
            "Modelo:  c17c858f46a24b0a85b5477a2f67f8a2\n",
            "Model: \"sequential_92\"\n",
            "_________________________________________________________________\n",
            " Layer (type)                Output Shape              Param #   \n",
            "=================================================================\n",
            " dense_352 (Dense)           (None, 4)                 3140      \n",
            "                                                                 \n",
            " dropout_260 (Dropout)       (None, 4)                 0         \n",
            "                                                                 \n",
            " dense_353 (Dense)           (None, 4)                 20        \n",
            "                                                                 \n",
            " dropout_261 (Dropout)       (None, 4)                 0         \n",
            "                                                                 \n",
            " dense_354 (Dense)           (None, 4)                 20        \n",
            "                                                                 \n",
            " dropout_262 (Dropout)       (None, 4)                 0         \n",
            "                                                                 \n",
            " dense_355 (Dense)           (None, 4)                 20        \n",
            "                                                                 \n",
            " dropout_263 (Dropout)       (None, 4)                 0         \n",
            "                                                                 \n",
            " dense_356 (Dense)           (None, 10)                50        \n",
            "                                                                 \n",
            "=================================================================\n",
            "Total params: 3,250\n",
            "Trainable params: 3,250\n",
            "Non-trainable params: 0\n",
            "_________________________________________________________________\n",
            "Epoch 1/5\n",
            "   1/1875 [..............................] - ETA: 15:50 - loss: 2.3404 - accuracy: 0.0938WARNING:tensorflow:Callback method `on_train_batch_end` is slow compared to the batch time (batch time: 0.0022s vs `on_train_batch_end` time: 0.0024s). Check your callbacks.\n",
            "1875/1875 [==============================] - 7s 3ms/step - loss: 1.7052 - accuracy: 0.3325 - val_loss: 1.4312 - val_accuracy: 0.4163\n",
            "Epoch 2/5\n",
            "1875/1875 [==============================] - 6s 3ms/step - loss: 1.5230 - accuracy: 0.3699 - val_loss: 1.3256 - val_accuracy: 0.4606\n",
            "Epoch 3/5\n",
            "1875/1875 [==============================] - 6s 3ms/step - loss: 1.4683 - accuracy: 0.3983 - val_loss: 1.2454 - val_accuracy: 0.5531\n",
            "Epoch 4/5\n",
            "1875/1875 [==============================] - 6s 3ms/step - loss: 1.3924 - accuracy: 0.4448 - val_loss: 1.1003 - val_accuracy: 0.5785\n",
            "Epoch 5/5\n",
            "1875/1875 [==============================] - 6s 3ms/step - loss: 1.3337 - accuracy: 0.4664 - val_loss: 1.0442 - val_accuracy: 0.6158\n",
            "INFO:tensorflow:Assets written to: /tmp/tmpoblb1qyr/model/data/model/assets\n"
          ]
        },
        {
          "output_type": "stream",
          "name": "stderr",
          "text": [
            "2022/05/04 19:37:15 WARNING mlflow.utils.requirements_utils: Found jaxlib version (0.3.7+cuda11.cudnn805) contains a local version label (+cuda11.cudnn805). MLflow logged a pip requirement for this package as 'jaxlib==0.3.7' without the local version label to make it installable from PyPI. To specify pip requirements containing local version labels, please use `conda_env` or `pip_requirements`.\n"
          ]
        },
        {
          "output_type": "stream",
          "name": "stdout",
          "text": [
            "Modelo:  c76299425876490f8a04b5cabde12702\n",
            "Model: \"sequential_93\"\n",
            "_________________________________________________________________\n",
            " Layer (type)                Output Shape              Param #   \n",
            "=================================================================\n",
            " dense_357 (Dense)           (None, 4)                 3140      \n",
            "                                                                 \n",
            " dropout_264 (Dropout)       (None, 4)                 0         \n",
            "                                                                 \n",
            " dense_358 (Dense)           (None, 4)                 20        \n",
            "                                                                 \n",
            " dropout_265 (Dropout)       (None, 4)                 0         \n",
            "                                                                 \n",
            " dense_359 (Dense)           (None, 4)                 20        \n",
            "                                                                 \n",
            " dropout_266 (Dropout)       (None, 4)                 0         \n",
            "                                                                 \n",
            " dense_360 (Dense)           (None, 4)                 20        \n",
            "                                                                 \n",
            " dropout_267 (Dropout)       (None, 4)                 0         \n",
            "                                                                 \n",
            " dense_361 (Dense)           (None, 10)                50        \n",
            "                                                                 \n",
            "=================================================================\n",
            "Total params: 3,250\n",
            "Trainable params: 3,250\n",
            "Non-trainable params: 0\n",
            "_________________________________________________________________\n",
            "Epoch 1/3\n",
            "1875/1875 [==============================] - 6s 3ms/step - loss: 1.8333 - accuracy: 0.3005 - val_loss: 1.3652 - val_accuracy: 0.5038\n",
            "Epoch 2/3\n",
            "1875/1875 [==============================] - 6s 3ms/step - loss: 1.6467 - accuracy: 0.3566 - val_loss: 1.1709 - val_accuracy: 0.5775\n",
            "Epoch 3/3\n",
            "1875/1875 [==============================] - 6s 3ms/step - loss: 1.5784 - accuracy: 0.3746 - val_loss: 1.0502 - val_accuracy: 0.5733\n",
            "INFO:tensorflow:Assets written to: /tmp/tmpivws9dg0/model/data/model/assets\n"
          ]
        },
        {
          "output_type": "stream",
          "name": "stderr",
          "text": [
            "2022/05/04 19:37:43 WARNING mlflow.utils.requirements_utils: Found jaxlib version (0.3.7+cuda11.cudnn805) contains a local version label (+cuda11.cudnn805). MLflow logged a pip requirement for this package as 'jaxlib==0.3.7' without the local version label to make it installable from PyPI. To specify pip requirements containing local version labels, please use `conda_env` or `pip_requirements`.\n"
          ]
        },
        {
          "output_type": "stream",
          "name": "stdout",
          "text": [
            "Modelo:  4ea79908e867489ca759bbd53ca313fd\n",
            "Model: \"sequential_94\"\n",
            "_________________________________________________________________\n",
            " Layer (type)                Output Shape              Param #   \n",
            "=================================================================\n",
            " dense_362 (Dense)           (None, 4)                 3140      \n",
            "                                                                 \n",
            " dropout_268 (Dropout)       (None, 4)                 0         \n",
            "                                                                 \n",
            " dense_363 (Dense)           (None, 4)                 20        \n",
            "                                                                 \n",
            " dropout_269 (Dropout)       (None, 4)                 0         \n",
            "                                                                 \n",
            " dense_364 (Dense)           (None, 4)                 20        \n",
            "                                                                 \n",
            " dropout_270 (Dropout)       (None, 4)                 0         \n",
            "                                                                 \n",
            " dense_365 (Dense)           (None, 4)                 20        \n",
            "                                                                 \n",
            " dropout_271 (Dropout)       (None, 4)                 0         \n",
            "                                                                 \n",
            " dense_366 (Dense)           (None, 10)                50        \n",
            "                                                                 \n",
            "=================================================================\n",
            "Total params: 3,250\n",
            "Trainable params: 3,250\n",
            "Non-trainable params: 0\n",
            "_________________________________________________________________\n",
            "Epoch 1/4\n",
            "   1/1875 [..............................] - ETA: 15:23 - loss: 2.3493 - accuracy: 0.0625WARNING:tensorflow:Callback method `on_train_batch_end` is slow compared to the batch time (batch time: 0.0023s vs `on_train_batch_end` time: 0.0027s). Check your callbacks.\n",
            "1875/1875 [==============================] - 7s 3ms/step - loss: 1.8052 - accuracy: 0.3205 - val_loss: 1.3392 - val_accuracy: 0.5751\n",
            "Epoch 2/4\n",
            "1875/1875 [==============================] - 6s 3ms/step - loss: 1.6471 - accuracy: 0.3555 - val_loss: 1.2892 - val_accuracy: 0.5572\n",
            "Epoch 3/4\n",
            "1875/1875 [==============================] - 6s 3ms/step - loss: 1.6093 - accuracy: 0.3575 - val_loss: 1.2482 - val_accuracy: 0.5415\n",
            "Epoch 4/4\n",
            "1875/1875 [==============================] - 6s 3ms/step - loss: 1.5859 - accuracy: 0.3562 - val_loss: 1.2225 - val_accuracy: 0.5368\n",
            "INFO:tensorflow:Assets written to: /tmp/tmpzmaxojvr/model/data/model/assets\n"
          ]
        },
        {
          "output_type": "stream",
          "name": "stderr",
          "text": [
            "2022/05/04 19:38:30 WARNING mlflow.utils.requirements_utils: Found jaxlib version (0.3.7+cuda11.cudnn805) contains a local version label (+cuda11.cudnn805). MLflow logged a pip requirement for this package as 'jaxlib==0.3.7' without the local version label to make it installable from PyPI. To specify pip requirements containing local version labels, please use `conda_env` or `pip_requirements`.\n"
          ]
        },
        {
          "output_type": "stream",
          "name": "stdout",
          "text": [
            "Modelo:  7ae06efebd2a40c2976dc73085ed0c25\n",
            "Model: \"sequential_95\"\n",
            "_________________________________________________________________\n",
            " Layer (type)                Output Shape              Param #   \n",
            "=================================================================\n",
            " dense_367 (Dense)           (None, 4)                 3140      \n",
            "                                                                 \n",
            " dropout_272 (Dropout)       (None, 4)                 0         \n",
            "                                                                 \n",
            " dense_368 (Dense)           (None, 4)                 20        \n",
            "                                                                 \n",
            " dropout_273 (Dropout)       (None, 4)                 0         \n",
            "                                                                 \n",
            " dense_369 (Dense)           (None, 4)                 20        \n",
            "                                                                 \n",
            " dropout_274 (Dropout)       (None, 4)                 0         \n",
            "                                                                 \n",
            " dense_370 (Dense)           (None, 4)                 20        \n",
            "                                                                 \n",
            " dropout_275 (Dropout)       (None, 4)                 0         \n",
            "                                                                 \n",
            " dense_371 (Dense)           (None, 10)                50        \n",
            "                                                                 \n",
            "=================================================================\n",
            "Total params: 3,250\n",
            "Trainable params: 3,250\n",
            "Non-trainable params: 0\n",
            "_________________________________________________________________\n",
            "Epoch 1/5\n",
            "   1/1875 [..............................] - ETA: 15:11 - loss: 2.3720 - accuracy: 0.1250WARNING:tensorflow:Callback method `on_train_batch_end` is slow compared to the batch time (batch time: 0.0029s vs `on_train_batch_end` time: 0.0039s). Check your callbacks.\n",
            "1875/1875 [==============================] - 7s 3ms/step - loss: 1.7834 - accuracy: 0.2980 - val_loss: 1.3906 - val_accuracy: 0.3925\n",
            "Epoch 2/5\n",
            "1875/1875 [==============================] - 6s 3ms/step - loss: 1.5869 - accuracy: 0.3259 - val_loss: 1.3576 - val_accuracy: 0.4046\n",
            "Epoch 3/5\n",
            "1875/1875 [==============================] - 6s 3ms/step - loss: 1.5515 - accuracy: 0.3359 - val_loss: 1.3078 - val_accuracy: 0.4111\n",
            "Epoch 4/5\n",
            "1875/1875 [==============================] - 6s 3ms/step - loss: 1.5248 - accuracy: 0.3429 - val_loss: 1.2841 - val_accuracy: 0.4157\n",
            "Epoch 5/5\n",
            "1875/1875 [==============================] - 6s 3ms/step - loss: 1.4976 - accuracy: 0.3413 - val_loss: 1.2716 - val_accuracy: 0.4111\n",
            "INFO:tensorflow:Assets written to: /tmp/tmp8vwi6fgj/model/data/model/assets\n"
          ]
        },
        {
          "output_type": "stream",
          "name": "stderr",
          "text": [
            "2022/05/04 19:39:06 WARNING mlflow.utils.requirements_utils: Found jaxlib version (0.3.7+cuda11.cudnn805) contains a local version label (+cuda11.cudnn805). MLflow logged a pip requirement for this package as 'jaxlib==0.3.7' without the local version label to make it installable from PyPI. To specify pip requirements containing local version labels, please use `conda_env` or `pip_requirements`.\n"
          ]
        },
        {
          "output_type": "stream",
          "name": "stdout",
          "text": [
            "Modelo:  cc38d703137f4c81b2848ae960314f0c\n",
            "Model: \"sequential_96\"\n",
            "_________________________________________________________________\n",
            " Layer (type)                Output Shape              Param #   \n",
            "=================================================================\n",
            " dense_372 (Dense)           (None, 6)                 4710      \n",
            "                                                                 \n",
            " dropout_276 (Dropout)       (None, 6)                 0         \n",
            "                                                                 \n",
            " dense_373 (Dense)           (None, 6)                 42        \n",
            "                                                                 \n",
            " dropout_277 (Dropout)       (None, 6)                 0         \n",
            "                                                                 \n",
            " dense_374 (Dense)           (None, 6)                 42        \n",
            "                                                                 \n",
            " dropout_278 (Dropout)       (None, 6)                 0         \n",
            "                                                                 \n",
            " dense_375 (Dense)           (None, 6)                 42        \n",
            "                                                                 \n",
            " dropout_279 (Dropout)       (None, 6)                 0         \n",
            "                                                                 \n",
            " dense_376 (Dense)           (None, 10)                70        \n",
            "                                                                 \n",
            "=================================================================\n",
            "Total params: 4,906\n",
            "Trainable params: 4,906\n",
            "Non-trainable params: 0\n",
            "_________________________________________________________________\n",
            "Epoch 1/3\n",
            "1875/1875 [==============================] - 7s 3ms/step - loss: 1.7654 - accuracy: 0.2892 - val_loss: 1.3525 - val_accuracy: 0.4090\n",
            "Epoch 2/3\n",
            "1875/1875 [==============================] - 6s 3ms/step - loss: 1.5314 - accuracy: 0.3481 - val_loss: 1.2771 - val_accuracy: 0.5047\n",
            "Epoch 3/3\n",
            "1875/1875 [==============================] - 6s 3ms/step - loss: 1.4555 - accuracy: 0.4063 - val_loss: 1.1546 - val_accuracy: 0.5199\n",
            "INFO:tensorflow:Assets written to: /tmp/tmps068i5na/model/data/model/assets\n"
          ]
        },
        {
          "output_type": "stream",
          "name": "stderr",
          "text": [
            "2022/05/04 19:39:31 WARNING mlflow.utils.requirements_utils: Found jaxlib version (0.3.7+cuda11.cudnn805) contains a local version label (+cuda11.cudnn805). MLflow logged a pip requirement for this package as 'jaxlib==0.3.7' without the local version label to make it installable from PyPI. To specify pip requirements containing local version labels, please use `conda_env` or `pip_requirements`.\n"
          ]
        },
        {
          "output_type": "stream",
          "name": "stdout",
          "text": [
            "Modelo:  e51e7f4c80cb4140bb8266b3e67c4b8c\n",
            "Model: \"sequential_97\"\n",
            "_________________________________________________________________\n",
            " Layer (type)                Output Shape              Param #   \n",
            "=================================================================\n",
            " dense_377 (Dense)           (None, 6)                 4710      \n",
            "                                                                 \n",
            " dropout_280 (Dropout)       (None, 6)                 0         \n",
            "                                                                 \n",
            " dense_378 (Dense)           (None, 6)                 42        \n",
            "                                                                 \n",
            " dropout_281 (Dropout)       (None, 6)                 0         \n",
            "                                                                 \n",
            " dense_379 (Dense)           (None, 6)                 42        \n",
            "                                                                 \n",
            " dropout_282 (Dropout)       (None, 6)                 0         \n",
            "                                                                 \n",
            " dense_380 (Dense)           (None, 6)                 42        \n",
            "                                                                 \n",
            " dropout_283 (Dropout)       (None, 6)                 0         \n",
            "                                                                 \n",
            " dense_381 (Dense)           (None, 10)                70        \n",
            "                                                                 \n",
            "=================================================================\n",
            "Total params: 4,906\n",
            "Trainable params: 4,906\n",
            "Non-trainable params: 0\n",
            "_________________________________________________________________\n",
            "Epoch 1/4\n",
            "   1/1875 [..............................] - ETA: 16:11 - loss: 2.3025 - accuracy: 0.1875WARNING:tensorflow:Callback method `on_train_batch_end` is slow compared to the batch time (batch time: 0.0021s vs `on_train_batch_end` time: 0.0029s). Check your callbacks.\n",
            "1875/1875 [==============================] - 7s 3ms/step - loss: 1.7374 - accuracy: 0.3471 - val_loss: 1.1699 - val_accuracy: 0.6381\n",
            "Epoch 2/4\n",
            "1875/1875 [==============================] - 6s 3ms/step - loss: 1.4327 - accuracy: 0.4894 - val_loss: 1.0520 - val_accuracy: 0.6901\n",
            "Epoch 3/4\n",
            "1875/1875 [==============================] - 6s 3ms/step - loss: 1.3589 - accuracy: 0.5219 - val_loss: 0.9280 - val_accuracy: 0.7326\n",
            "Epoch 4/4\n",
            "1875/1875 [==============================] - 6s 3ms/step - loss: 1.3062 - accuracy: 0.5414 - val_loss: 0.9065 - val_accuracy: 0.7502\n",
            "INFO:tensorflow:Assets written to: /tmp/tmpg9bv2yuz/model/data/model/assets\n"
          ]
        },
        {
          "output_type": "stream",
          "name": "stderr",
          "text": [
            "2022/05/04 19:40:01 WARNING mlflow.utils.requirements_utils: Found jaxlib version (0.3.7+cuda11.cudnn805) contains a local version label (+cuda11.cudnn805). MLflow logged a pip requirement for this package as 'jaxlib==0.3.7' without the local version label to make it installable from PyPI. To specify pip requirements containing local version labels, please use `conda_env` or `pip_requirements`.\n"
          ]
        },
        {
          "output_type": "stream",
          "name": "stdout",
          "text": [
            "Modelo:  7d370738789c4e3b84b2e7282c5980b6\n",
            "Model: \"sequential_98\"\n",
            "_________________________________________________________________\n",
            " Layer (type)                Output Shape              Param #   \n",
            "=================================================================\n",
            " dense_382 (Dense)           (None, 6)                 4710      \n",
            "                                                                 \n",
            " dropout_284 (Dropout)       (None, 6)                 0         \n",
            "                                                                 \n",
            " dense_383 (Dense)           (None, 6)                 42        \n",
            "                                                                 \n",
            " dropout_285 (Dropout)       (None, 6)                 0         \n",
            "                                                                 \n",
            " dense_384 (Dense)           (None, 6)                 42        \n",
            "                                                                 \n",
            " dropout_286 (Dropout)       (None, 6)                 0         \n",
            "                                                                 \n",
            " dense_385 (Dense)           (None, 6)                 42        \n",
            "                                                                 \n",
            " dropout_287 (Dropout)       (None, 6)                 0         \n",
            "                                                                 \n",
            " dense_386 (Dense)           (None, 10)                70        \n",
            "                                                                 \n",
            "=================================================================\n",
            "Total params: 4,906\n",
            "Trainable params: 4,906\n",
            "Non-trainable params: 0\n",
            "_________________________________________________________________\n",
            "Epoch 1/5\n",
            "   1/1875 [..............................] - ETA: 16:09 - loss: 2.2972 - accuracy: 0.0625WARNING:tensorflow:Callback method `on_train_batch_end` is slow compared to the batch time (batch time: 0.0026s vs `on_train_batch_end` time: 0.0030s). Check your callbacks.\n",
            "1875/1875 [==============================] - 7s 3ms/step - loss: 1.6098 - accuracy: 0.4162 - val_loss: 1.0257 - val_accuracy: 0.7431\n",
            "Epoch 2/5\n",
            "1875/1875 [==============================] - 6s 3ms/step - loss: 1.2411 - accuracy: 0.5743 - val_loss: 0.8675 - val_accuracy: 0.7674\n",
            "Epoch 3/5\n",
            "1875/1875 [==============================] - 6s 3ms/step - loss: 1.1388 - accuracy: 0.6256 - val_loss: 0.7813 - val_accuracy: 0.7935\n",
            "Epoch 4/5\n",
            "1875/1875 [==============================] - 6s 3ms/step - loss: 1.0902 - accuracy: 0.6479 - val_loss: 0.7681 - val_accuracy: 0.7827\n",
            "Epoch 5/5\n",
            "1875/1875 [==============================] - 6s 3ms/step - loss: 1.0764 - accuracy: 0.6554 - val_loss: 0.7582 - val_accuracy: 0.7802\n",
            "INFO:tensorflow:Assets written to: /tmp/tmpafz3dpik/model/data/model/assets\n"
          ]
        },
        {
          "output_type": "stream",
          "name": "stderr",
          "text": [
            "2022/05/04 19:40:49 WARNING mlflow.utils.requirements_utils: Found jaxlib version (0.3.7+cuda11.cudnn805) contains a local version label (+cuda11.cudnn805). MLflow logged a pip requirement for this package as 'jaxlib==0.3.7' without the local version label to make it installable from PyPI. To specify pip requirements containing local version labels, please use `conda_env` or `pip_requirements`.\n"
          ]
        },
        {
          "output_type": "stream",
          "name": "stdout",
          "text": [
            "Modelo:  fca81db4e57f44fbbe4ee9b17e961991\n",
            "Model: \"sequential_99\"\n",
            "_________________________________________________________________\n",
            " Layer (type)                Output Shape              Param #   \n",
            "=================================================================\n",
            " dense_387 (Dense)           (None, 6)                 4710      \n",
            "                                                                 \n",
            " dropout_288 (Dropout)       (None, 6)                 0         \n",
            "                                                                 \n",
            " dense_388 (Dense)           (None, 6)                 42        \n",
            "                                                                 \n",
            " dropout_289 (Dropout)       (None, 6)                 0         \n",
            "                                                                 \n",
            " dense_389 (Dense)           (None, 6)                 42        \n",
            "                                                                 \n",
            " dropout_290 (Dropout)       (None, 6)                 0         \n",
            "                                                                 \n",
            " dense_390 (Dense)           (None, 6)                 42        \n",
            "                                                                 \n",
            " dropout_291 (Dropout)       (None, 6)                 0         \n",
            "                                                                 \n",
            " dense_391 (Dense)           (None, 10)                70        \n",
            "                                                                 \n",
            "=================================================================\n",
            "Total params: 4,906\n",
            "Trainable params: 4,906\n",
            "Non-trainable params: 0\n",
            "_________________________________________________________________\n",
            "Epoch 1/3\n",
            "   1/1875 [..............................] - ETA: 15:38 - loss: 2.2861 - accuracy: 0.0625WARNING:tensorflow:Callback method `on_train_batch_end` is slow compared to the batch time (batch time: 0.0020s vs `on_train_batch_end` time: 0.0029s). Check your callbacks.\n",
            "1875/1875 [==============================] - 7s 3ms/step - loss: 1.8942 - accuracy: 0.2750 - val_loss: 1.5086 - val_accuracy: 0.4703\n",
            "Epoch 2/3\n",
            "1875/1875 [==============================] - 6s 3ms/step - loss: 1.6679 - accuracy: 0.3709 - val_loss: 1.3830 - val_accuracy: 0.5411\n",
            "Epoch 3/3\n",
            "1875/1875 [==============================] - 6s 3ms/step - loss: 1.5997 - accuracy: 0.4066 - val_loss: 1.2896 - val_accuracy: 0.5787\n",
            "INFO:tensorflow:Assets written to: /tmp/tmpt8b_7mwd/model/data/model/assets\n"
          ]
        },
        {
          "output_type": "stream",
          "name": "stderr",
          "text": [
            "2022/05/04 19:41:16 WARNING mlflow.utils.requirements_utils: Found jaxlib version (0.3.7+cuda11.cudnn805) contains a local version label (+cuda11.cudnn805). MLflow logged a pip requirement for this package as 'jaxlib==0.3.7' without the local version label to make it installable from PyPI. To specify pip requirements containing local version labels, please use `conda_env` or `pip_requirements`.\n"
          ]
        },
        {
          "output_type": "stream",
          "name": "stdout",
          "text": [
            "Modelo:  987a4968719a472f8327fe0fb70d1b24\n",
            "Model: \"sequential_100\"\n",
            "_________________________________________________________________\n",
            " Layer (type)                Output Shape              Param #   \n",
            "=================================================================\n",
            " dense_392 (Dense)           (None, 6)                 4710      \n",
            "                                                                 \n",
            " dropout_292 (Dropout)       (None, 6)                 0         \n",
            "                                                                 \n",
            " dense_393 (Dense)           (None, 6)                 42        \n",
            "                                                                 \n",
            " dropout_293 (Dropout)       (None, 6)                 0         \n",
            "                                                                 \n",
            " dense_394 (Dense)           (None, 6)                 42        \n",
            "                                                                 \n",
            " dropout_294 (Dropout)       (None, 6)                 0         \n",
            "                                                                 \n",
            " dense_395 (Dense)           (None, 6)                 42        \n",
            "                                                                 \n",
            " dropout_295 (Dropout)       (None, 6)                 0         \n",
            "                                                                 \n",
            " dense_396 (Dense)           (None, 10)                70        \n",
            "                                                                 \n",
            "=================================================================\n",
            "Total params: 4,906\n",
            "Trainable params: 4,906\n",
            "Non-trainable params: 0\n",
            "_________________________________________________________________\n",
            "Epoch 1/4\n",
            "   1/1875 [..............................] - ETA: 15:59 - loss: 2.2698 - accuracy: 0.1562WARNING:tensorflow:Callback method `on_train_batch_end` is slow compared to the batch time (batch time: 0.0022s vs `on_train_batch_end` time: 0.0029s). Check your callbacks.\n",
            "1875/1875 [==============================] - 7s 3ms/step - loss: 1.8165 - accuracy: 0.3007 - val_loss: 1.2759 - val_accuracy: 0.5510\n",
            "Epoch 2/4\n",
            "1875/1875 [==============================] - 6s 3ms/step - loss: 1.5838 - accuracy: 0.3791 - val_loss: 1.1791 - val_accuracy: 0.5962\n",
            "Epoch 3/4\n",
            "1875/1875 [==============================] - 6s 3ms/step - loss: 1.5096 - accuracy: 0.4064 - val_loss: 1.1353 - val_accuracy: 0.5861\n",
            "Epoch 4/4\n",
            "1875/1875 [==============================] - 6s 3ms/step - loss: 1.4761 - accuracy: 0.4196 - val_loss: 1.1166 - val_accuracy: 0.5910\n",
            "INFO:tensorflow:Assets written to: /tmp/tmplnmtb8hy/model/data/model/assets\n"
          ]
        },
        {
          "output_type": "stream",
          "name": "stderr",
          "text": [
            "2022/05/04 19:42:04 WARNING mlflow.utils.requirements_utils: Found jaxlib version (0.3.7+cuda11.cudnn805) contains a local version label (+cuda11.cudnn805). MLflow logged a pip requirement for this package as 'jaxlib==0.3.7' without the local version label to make it installable from PyPI. To specify pip requirements containing local version labels, please use `conda_env` or `pip_requirements`.\n"
          ]
        },
        {
          "output_type": "stream",
          "name": "stdout",
          "text": [
            "Modelo:  22a635eea8f04227b8fbee84dd7f069b\n",
            "Model: \"sequential_101\"\n",
            "_________________________________________________________________\n",
            " Layer (type)                Output Shape              Param #   \n",
            "=================================================================\n",
            " dense_397 (Dense)           (None, 6)                 4710      \n",
            "                                                                 \n",
            " dropout_296 (Dropout)       (None, 6)                 0         \n",
            "                                                                 \n",
            " dense_398 (Dense)           (None, 6)                 42        \n",
            "                                                                 \n",
            " dropout_297 (Dropout)       (None, 6)                 0         \n",
            "                                                                 \n",
            " dense_399 (Dense)           (None, 6)                 42        \n",
            "                                                                 \n",
            " dropout_298 (Dropout)       (None, 6)                 0         \n",
            "                                                                 \n",
            " dense_400 (Dense)           (None, 6)                 42        \n",
            "                                                                 \n",
            " dropout_299 (Dropout)       (None, 6)                 0         \n",
            "                                                                 \n",
            " dense_401 (Dense)           (None, 10)                70        \n",
            "                                                                 \n",
            "=================================================================\n",
            "Total params: 4,906\n",
            "Trainable params: 4,906\n",
            "Non-trainable params: 0\n",
            "_________________________________________________________________\n",
            "Epoch 1/5\n",
            "1875/1875 [==============================] - 7s 3ms/step - loss: 1.9167 - accuracy: 0.2560 - val_loss: 1.5608 - val_accuracy: 0.3534\n",
            "Epoch 2/5\n",
            "1875/1875 [==============================] - 6s 3ms/step - loss: 1.6950 - accuracy: 0.3366 - val_loss: 1.3762 - val_accuracy: 0.5546\n",
            "Epoch 3/5\n",
            "1875/1875 [==============================] - 6s 3ms/step - loss: 1.5977 - accuracy: 0.4128 - val_loss: 1.2274 - val_accuracy: 0.6213\n",
            "Epoch 4/5\n",
            "1875/1875 [==============================] - 6s 3ms/step - loss: 1.5259 - accuracy: 0.4459 - val_loss: 1.1852 - val_accuracy: 0.6072\n",
            "Epoch 5/5\n",
            "1875/1875 [==============================] - 6s 3ms/step - loss: 1.4917 - accuracy: 0.4559 - val_loss: 1.1666 - val_accuracy: 0.6100\n",
            "INFO:tensorflow:Assets written to: /tmp/tmpm8h1vlk0/model/data/model/assets\n"
          ]
        },
        {
          "output_type": "stream",
          "name": "stderr",
          "text": [
            "2022/05/04 19:42:40 WARNING mlflow.utils.requirements_utils: Found jaxlib version (0.3.7+cuda11.cudnn805) contains a local version label (+cuda11.cudnn805). MLflow logged a pip requirement for this package as 'jaxlib==0.3.7' without the local version label to make it installable from PyPI. To specify pip requirements containing local version labels, please use `conda_env` or `pip_requirements`.\n"
          ]
        },
        {
          "output_type": "stream",
          "name": "stdout",
          "text": [
            "Modelo:  87fc3f3564f84bdd8d77a048b819f49d\n",
            "Model: \"sequential_102\"\n",
            "_________________________________________________________________\n",
            " Layer (type)                Output Shape              Param #   \n",
            "=================================================================\n",
            " dense_402 (Dense)           (None, 6)                 4710      \n",
            "                                                                 \n",
            " dropout_300 (Dropout)       (None, 6)                 0         \n",
            "                                                                 \n",
            " dense_403 (Dense)           (None, 6)                 42        \n",
            "                                                                 \n",
            " dropout_301 (Dropout)       (None, 6)                 0         \n",
            "                                                                 \n",
            " dense_404 (Dense)           (None, 6)                 42        \n",
            "                                                                 \n",
            " dropout_302 (Dropout)       (None, 6)                 0         \n",
            "                                                                 \n",
            " dense_405 (Dense)           (None, 6)                 42        \n",
            "                                                                 \n",
            " dropout_303 (Dropout)       (None, 6)                 0         \n",
            "                                                                 \n",
            " dense_406 (Dense)           (None, 10)                70        \n",
            "                                                                 \n",
            "=================================================================\n",
            "Total params: 4,906\n",
            "Trainable params: 4,906\n",
            "Non-trainable params: 0\n",
            "_________________________________________________________________\n",
            "Epoch 1/3\n",
            "1875/1875 [==============================] - 6s 3ms/step - loss: 1.3381 - accuracy: 0.5323 - val_loss: 0.8208 - val_accuracy: 0.7602\n",
            "Epoch 2/3\n",
            "1875/1875 [==============================] - 6s 3ms/step - loss: 0.9778 - accuracy: 0.6725 - val_loss: 0.6811 - val_accuracy: 0.7936\n",
            "Epoch 3/3\n",
            "1875/1875 [==============================] - 6s 3ms/step - loss: 0.9047 - accuracy: 0.6980 - val_loss: 0.6191 - val_accuracy: 0.8194\n",
            "INFO:tensorflow:Assets written to: /tmp/tmp1qjvb949/model/data/model/assets\n"
          ]
        },
        {
          "output_type": "stream",
          "name": "stderr",
          "text": [
            "2022/05/04 19:43:07 WARNING mlflow.utils.requirements_utils: Found jaxlib version (0.3.7+cuda11.cudnn805) contains a local version label (+cuda11.cudnn805). MLflow logged a pip requirement for this package as 'jaxlib==0.3.7' without the local version label to make it installable from PyPI. To specify pip requirements containing local version labels, please use `conda_env` or `pip_requirements`.\n"
          ]
        },
        {
          "output_type": "stream",
          "name": "stdout",
          "text": [
            "Modelo:  8c41a230b504443abb82f3a6fb624177\n",
            "Model: \"sequential_103\"\n",
            "_________________________________________________________________\n",
            " Layer (type)                Output Shape              Param #   \n",
            "=================================================================\n",
            " dense_407 (Dense)           (None, 6)                 4710      \n",
            "                                                                 \n",
            " dropout_304 (Dropout)       (None, 6)                 0         \n",
            "                                                                 \n",
            " dense_408 (Dense)           (None, 6)                 42        \n",
            "                                                                 \n",
            " dropout_305 (Dropout)       (None, 6)                 0         \n",
            "                                                                 \n",
            " dense_409 (Dense)           (None, 6)                 42        \n",
            "                                                                 \n",
            " dropout_306 (Dropout)       (None, 6)                 0         \n",
            "                                                                 \n",
            " dense_410 (Dense)           (None, 6)                 42        \n",
            "                                                                 \n",
            " dropout_307 (Dropout)       (None, 6)                 0         \n",
            "                                                                 \n",
            " dense_411 (Dense)           (None, 10)                70        \n",
            "                                                                 \n",
            "=================================================================\n",
            "Total params: 4,906\n",
            "Trainable params: 4,906\n",
            "Non-trainable params: 0\n",
            "_________________________________________________________________\n",
            "Epoch 1/4\n",
            "1875/1875 [==============================] - 7s 3ms/step - loss: 1.4221 - accuracy: 0.4812 - val_loss: 0.9439 - val_accuracy: 0.6771\n",
            "Epoch 2/4\n",
            "1875/1875 [==============================] - 6s 3ms/step - loss: 1.0888 - accuracy: 0.5938 - val_loss: 0.8062 - val_accuracy: 0.7017\n",
            "Epoch 3/4\n",
            "1875/1875 [==============================] - 6s 3ms/step - loss: 0.9925 - accuracy: 0.6348 - val_loss: 0.7599 - val_accuracy: 0.7167\n",
            "Epoch 4/4\n",
            "1875/1875 [==============================] - 6s 3ms/step - loss: 0.9431 - accuracy: 0.6500 - val_loss: 0.7065 - val_accuracy: 0.7368\n",
            "INFO:tensorflow:Assets written to: /tmp/tmpgkz37rwp/model/data/model/assets\n"
          ]
        },
        {
          "output_type": "stream",
          "name": "stderr",
          "text": [
            "2022/05/04 19:43:38 WARNING mlflow.utils.requirements_utils: Found jaxlib version (0.3.7+cuda11.cudnn805) contains a local version label (+cuda11.cudnn805). MLflow logged a pip requirement for this package as 'jaxlib==0.3.7' without the local version label to make it installable from PyPI. To specify pip requirements containing local version labels, please use `conda_env` or `pip_requirements`.\n"
          ]
        },
        {
          "output_type": "stream",
          "name": "stdout",
          "text": [
            "Modelo:  6da8217cc4144147bf33f3067e28f0ab\n",
            "Model: \"sequential_104\"\n",
            "_________________________________________________________________\n",
            " Layer (type)                Output Shape              Param #   \n",
            "=================================================================\n",
            " dense_412 (Dense)           (None, 6)                 4710      \n",
            "                                                                 \n",
            " dropout_308 (Dropout)       (None, 6)                 0         \n",
            "                                                                 \n",
            " dense_413 (Dense)           (None, 6)                 42        \n",
            "                                                                 \n",
            " dropout_309 (Dropout)       (None, 6)                 0         \n",
            "                                                                 \n",
            " dense_414 (Dense)           (None, 6)                 42        \n",
            "                                                                 \n",
            " dropout_310 (Dropout)       (None, 6)                 0         \n",
            "                                                                 \n",
            " dense_415 (Dense)           (None, 6)                 42        \n",
            "                                                                 \n",
            " dropout_311 (Dropout)       (None, 6)                 0         \n",
            "                                                                 \n",
            " dense_416 (Dense)           (None, 10)                70        \n",
            "                                                                 \n",
            "=================================================================\n",
            "Total params: 4,906\n",
            "Trainable params: 4,906\n",
            "Non-trainable params: 0\n",
            "_________________________________________________________________\n",
            "Epoch 1/5\n",
            "1875/1875 [==============================] - 6s 3ms/step - loss: 1.3501 - accuracy: 0.5313 - val_loss: 0.8917 - val_accuracy: 0.7068\n",
            "Epoch 2/5\n",
            "1875/1875 [==============================] - 6s 3ms/step - loss: 1.0446 - accuracy: 0.6312 - val_loss: 0.7845 - val_accuracy: 0.7610\n",
            "Epoch 3/5\n",
            "1875/1875 [==============================] - 6s 3ms/step - loss: 0.9797 - accuracy: 0.6640 - val_loss: 0.7125 - val_accuracy: 0.8039\n",
            "Epoch 4/5\n",
            "1875/1875 [==============================] - 6s 3ms/step - loss: 0.9314 - accuracy: 0.6896 - val_loss: 0.6794 - val_accuracy: 0.8063\n",
            "Epoch 5/5\n",
            "1875/1875 [==============================] - 6s 3ms/step - loss: 0.9003 - accuracy: 0.7045 - val_loss: 0.6089 - val_accuracy: 0.8384\n",
            "INFO:tensorflow:Assets written to: /tmp/tmpdan248y5/model/data/model/assets\n"
          ]
        },
        {
          "output_type": "stream",
          "name": "stderr",
          "text": [
            "2022/05/04 19:44:14 WARNING mlflow.utils.requirements_utils: Found jaxlib version (0.3.7+cuda11.cudnn805) contains a local version label (+cuda11.cudnn805). MLflow logged a pip requirement for this package as 'jaxlib==0.3.7' without the local version label to make it installable from PyPI. To specify pip requirements containing local version labels, please use `conda_env` or `pip_requirements`.\n"
          ]
        },
        {
          "output_type": "stream",
          "name": "stdout",
          "text": [
            "Modelo:  221270ad58fc45eeaf42d16d30539d48\n",
            "Model: \"sequential_105\"\n",
            "_________________________________________________________________\n",
            " Layer (type)                Output Shape              Param #   \n",
            "=================================================================\n",
            " dense_417 (Dense)           (None, 6)                 4710      \n",
            "                                                                 \n",
            " dropout_312 (Dropout)       (None, 6)                 0         \n",
            "                                                                 \n",
            " dense_418 (Dense)           (None, 6)                 42        \n",
            "                                                                 \n",
            " dropout_313 (Dropout)       (None, 6)                 0         \n",
            "                                                                 \n",
            " dense_419 (Dense)           (None, 6)                 42        \n",
            "                                                                 \n",
            " dropout_314 (Dropout)       (None, 6)                 0         \n",
            "                                                                 \n",
            " dense_420 (Dense)           (None, 6)                 42        \n",
            "                                                                 \n",
            " dropout_315 (Dropout)       (None, 6)                 0         \n",
            "                                                                 \n",
            " dense_421 (Dense)           (None, 10)                70        \n",
            "                                                                 \n",
            "=================================================================\n",
            "Total params: 4,906\n",
            "Trainable params: 4,906\n",
            "Non-trainable params: 0\n",
            "_________________________________________________________________\n",
            "Epoch 1/3\n",
            "   1/1875 [..............................] - ETA: 15:52 - loss: 2.2942 - accuracy: 0.0938WARNING:tensorflow:Callback method `on_train_batch_end` is slow compared to the batch time (batch time: 0.0021s vs `on_train_batch_end` time: 0.0025s). Check your callbacks.\n",
            "1875/1875 [==============================] - 7s 3ms/step - loss: 1.5607 - accuracy: 0.4392 - val_loss: 0.9051 - val_accuracy: 0.7341\n",
            "Epoch 2/3\n",
            "1875/1875 [==============================] - 6s 3ms/step - loss: 1.2614 - accuracy: 0.5322 - val_loss: 0.8352 - val_accuracy: 0.7283\n",
            "Epoch 3/3\n",
            "1875/1875 [==============================] - 6s 3ms/step - loss: 1.2111 - accuracy: 0.5453 - val_loss: 0.8113 - val_accuracy: 0.7217\n",
            "INFO:tensorflow:Assets written to: /tmp/tmppm3kdews/model/data/model/assets\n"
          ]
        },
        {
          "output_type": "stream",
          "name": "stderr",
          "text": [
            "2022/05/04 19:44:38 WARNING mlflow.utils.requirements_utils: Found jaxlib version (0.3.7+cuda11.cudnn805) contains a local version label (+cuda11.cudnn805). MLflow logged a pip requirement for this package as 'jaxlib==0.3.7' without the local version label to make it installable from PyPI. To specify pip requirements containing local version labels, please use `conda_env` or `pip_requirements`.\n"
          ]
        },
        {
          "output_type": "stream",
          "name": "stdout",
          "text": [
            "Modelo:  e93ed0652dc64c28bc34d3e3bf42b297\n",
            "Model: \"sequential_106\"\n",
            "_________________________________________________________________\n",
            " Layer (type)                Output Shape              Param #   \n",
            "=================================================================\n",
            " dense_422 (Dense)           (None, 6)                 4710      \n",
            "                                                                 \n",
            " dropout_316 (Dropout)       (None, 6)                 0         \n",
            "                                                                 \n",
            " dense_423 (Dense)           (None, 6)                 42        \n",
            "                                                                 \n",
            " dropout_317 (Dropout)       (None, 6)                 0         \n",
            "                                                                 \n",
            " dense_424 (Dense)           (None, 6)                 42        \n",
            "                                                                 \n",
            " dropout_318 (Dropout)       (None, 6)                 0         \n",
            "                                                                 \n",
            " dense_425 (Dense)           (None, 6)                 42        \n",
            "                                                                 \n",
            " dropout_319 (Dropout)       (None, 6)                 0         \n",
            "                                                                 \n",
            " dense_426 (Dense)           (None, 10)                70        \n",
            "                                                                 \n",
            "=================================================================\n",
            "Total params: 4,906\n",
            "Trainable params: 4,906\n",
            "Non-trainable params: 0\n",
            "_________________________________________________________________\n",
            "Epoch 1/4\n",
            "   1/1875 [..............................] - ETA: 27:05 - loss: 2.3020 - accuracy: 0.1562WARNING:tensorflow:Callback method `on_train_batch_end` is slow compared to the batch time (batch time: 0.0023s vs `on_train_batch_end` time: 0.0028s). Check your callbacks.\n",
            "1875/1875 [==============================] - 7s 3ms/step - loss: 1.6100 - accuracy: 0.4051 - val_loss: 1.0806 - val_accuracy: 0.5759\n",
            "Epoch 2/4\n",
            "1875/1875 [==============================] - 6s 3ms/step - loss: 1.3336 - accuracy: 0.4856 - val_loss: 0.9724 - val_accuracy: 0.6320\n",
            "Epoch 3/4\n",
            "1875/1875 [==============================] - 6s 3ms/step - loss: 1.2459 - accuracy: 0.5162 - val_loss: 0.9024 - val_accuracy: 0.6259\n",
            "Epoch 4/4\n",
            "1875/1875 [==============================] - 6s 3ms/step - loss: 1.1966 - accuracy: 0.5301 - val_loss: 0.8826 - val_accuracy: 0.6369\n",
            "INFO:tensorflow:Assets written to: /tmp/tmpffo5z8xf/model/data/model/assets\n"
          ]
        },
        {
          "output_type": "stream",
          "name": "stderr",
          "text": [
            "2022/05/04 19:45:26 WARNING mlflow.utils.requirements_utils: Found jaxlib version (0.3.7+cuda11.cudnn805) contains a local version label (+cuda11.cudnn805). MLflow logged a pip requirement for this package as 'jaxlib==0.3.7' without the local version label to make it installable from PyPI. To specify pip requirements containing local version labels, please use `conda_env` or `pip_requirements`.\n"
          ]
        },
        {
          "output_type": "stream",
          "name": "stdout",
          "text": [
            "Modelo:  598959529c55406094fca3c6dd882b2d\n",
            "Model: \"sequential_107\"\n",
            "_________________________________________________________________\n",
            " Layer (type)                Output Shape              Param #   \n",
            "=================================================================\n",
            " dense_427 (Dense)           (None, 6)                 4710      \n",
            "                                                                 \n",
            " dropout_320 (Dropout)       (None, 6)                 0         \n",
            "                                                                 \n",
            " dense_428 (Dense)           (None, 6)                 42        \n",
            "                                                                 \n",
            " dropout_321 (Dropout)       (None, 6)                 0         \n",
            "                                                                 \n",
            " dense_429 (Dense)           (None, 6)                 42        \n",
            "                                                                 \n",
            " dropout_322 (Dropout)       (None, 6)                 0         \n",
            "                                                                 \n",
            " dense_430 (Dense)           (None, 6)                 42        \n",
            "                                                                 \n",
            " dropout_323 (Dropout)       (None, 6)                 0         \n",
            "                                                                 \n",
            " dense_431 (Dense)           (None, 10)                70        \n",
            "                                                                 \n",
            "=================================================================\n",
            "Total params: 4,906\n",
            "Trainable params: 4,906\n",
            "Non-trainable params: 0\n",
            "_________________________________________________________________\n",
            "Epoch 1/5\n",
            "   1/1875 [..............................] - ETA: 16:01 - loss: 2.3054 - accuracy: 0.1562WARNING:tensorflow:Callback method `on_train_batch_end` is slow compared to the batch time (batch time: 0.0027s vs `on_train_batch_end` time: 0.0028s). Check your callbacks.\n",
            "1875/1875 [==============================] - 7s 3ms/step - loss: 1.5609 - accuracy: 0.4279 - val_loss: 0.9339 - val_accuracy: 0.6774\n",
            "Epoch 2/5\n",
            "1875/1875 [==============================] - 6s 3ms/step - loss: 1.2720 - accuracy: 0.5217 - val_loss: 0.8518 - val_accuracy: 0.6943\n",
            "Epoch 3/5\n",
            "1875/1875 [==============================] - 6s 3ms/step - loss: 1.2211 - accuracy: 0.5352 - val_loss: 0.8279 - val_accuracy: 0.6899\n",
            "Epoch 4/5\n",
            "1875/1875 [==============================] - 6s 3ms/step - loss: 1.2004 - accuracy: 0.5386 - val_loss: 0.8107 - val_accuracy: 0.7046\n",
            "Epoch 5/5\n",
            "1875/1875 [==============================] - 6s 3ms/step - loss: 1.1794 - accuracy: 0.5433 - val_loss: 0.7956 - val_accuracy: 0.7162\n",
            "INFO:tensorflow:Assets written to: /tmp/tmpx9b7k2iy/model/data/model/assets\n"
          ]
        },
        {
          "output_type": "stream",
          "name": "stderr",
          "text": [
            "2022/05/04 19:46:13 WARNING mlflow.utils.requirements_utils: Found jaxlib version (0.3.7+cuda11.cudnn805) contains a local version label (+cuda11.cudnn805). MLflow logged a pip requirement for this package as 'jaxlib==0.3.7' without the local version label to make it installable from PyPI. To specify pip requirements containing local version labels, please use `conda_env` or `pip_requirements`.\n"
          ]
        },
        {
          "output_type": "stream",
          "name": "stdout",
          "text": [
            "Modelo:  419652c9d6bc40a2a5823e07c61fb08e\n"
          ]
        },
        {
          "output_type": "display_data",
          "data": {
            "text/plain": [
              "<Figure size 432x288 with 1 Axes>"
            ],
            "image/png": "[encoded data removed]"
          },
          "metadata": {
            "needs_background": "light"
          }
        }
      ]
    },
    {
      "cell_type": "code",
      "source": [
        ""
      ],
      "metadata": {
        "id": "DDJZYAnVY-EE"
      },
      "execution_count": null,
      "outputs": []
    },
    {
      "cell_type": "code",
      "source": [
        "!pip install pyngrok"
      ],
      "metadata": {
        "id": "yLU0uiV2R9-p"
      },
      "execution_count": null,
      "outputs": []
    },
    {
      "cell_type": "code",
      "source": [
        "!pip install mlflow ui"
      ],
      "metadata": {
        "id": "SLApaYUTR9v9"
      },
      "execution_count": null,
      "outputs": []
    },
    {
      "cell_type": "code",
      "source": [
        "# run tracking UI in the background\n",
        "get_ipython().system_raw(\"mlflow ui --port 5000 &\") # run tracking UI in the background\n"
      ],
      "metadata": {
        "id": "XqsDxjAWSiqh"
      },
      "execution_count": 13,
      "outputs": []
    },
    {
      "cell_type": "code",
      "source": [
        "from pyngrok import ngrok\n",
        "\n",
        "# Terminate open tunnels if exist\n",
        "ngrok.kill()\n",
        "\n",
        "# Setting the authtoken (optional)\n",
        "# Get your authtoken from https://dashboard.ngrok.com/auth\n",
        "NGROK_AUTH_TOKEN = \"28i8vWtRiy1Nam7ggzSsFAn695r_7jFJ5c9oUYFaUMpN4wATf\"\n",
        "ngrok.set_auth_token(NGROK_AUTH_TOKEN)\n",
        "\n",
        "# Open an HTTPs tunnel on port 5000 for http://localhost:5000\n",
        "ngrok_tunnel = ngrok.connect(addr=\"5000\", proto=\"http\", bind_tls=True)\n",
        "print(\"MLflow Tracking UI:\", ngrok_tunnel.public_url)"
      ],
      "metadata": {
        "colab": {
          "base_uri": "https://localhost:8080/"
        },
        "id": "Xj49nhODSUVZ",
        "outputId": "34298b68-f7c0-4297-90b5-2bf0f120777b"
      },
      "execution_count": 16,
      "outputs": [
        {
          "output_type": "stream",
          "name": "stdout",
          "text": [
            "MLflow Tracking UI: https://096a-35-230-113-132.ngrok.io\n"
          ]
        }
      ]
    },
    {
      "cell_type": "code",
      "source": [
        ""
      ],
      "metadata": {
        "id": "_KkIBZyUSUIu"
      },
      "execution_count": null,
      "outputs": []
    },
    {
      "cell_type": "code",
      "source": [
        ""
      ],
      "metadata": {
        "id": "HjwxzrfyST84"
      },
      "execution_count": null,
      "outputs": []
    },
    {
      "cell_type": "code",
      "execution_count": null,
      "metadata": {
        "colab": {
          "base_uri": "https://localhost:8080/",
          "height": 35
        },
        "id": "Djy51cxUXQ5S",
        "outputId": "2e35cb3a-0a2e-4a1d-a702-3f7012bff0f4"
      },
      "outputs": [
        {
          "output_type": "execute_result",
          "data": {
            "text/plain": [
              "'mlruns.zip'"
            ],
            "application/vnd.google.colaboratory.intrinsic+json": {
              "type": "string"
            }
          },
          "metadata": {},
          "execution_count": 14
        }
      ],
      "source": [
        "from shutil import make_archive\n",
        "make_archive(\n",
        "  'mlruns', \n",
        "  'zip',           # the archive format - or tar, bztar, gztar \n",
        "  root_dir=None,   # root for archive - current working dir if None\n",
        "  base_dir=None)   # start archiving from here - cwd if None too"
      ]
    },
    {
      "cell_type": "code",
      "source": [
        "from google.colab import files \n",
        "files.download('mlruns.zip')\n"
      ],
      "metadata": {
        "colab": {
          "base_uri": "https://localhost:8080/",
          "height": 17
        },
        "id": "5KpM-LhptmdM",
        "outputId": "4999a671-97ea-4a81-da60-509ef0f05562"
      },
      "execution_count": null,
      "outputs": [
        {
          "output_type": "display_data",
          "data": {
            "text/plain": [
              "<IPython.core.display.Javascript object>"
            ],
            "application/javascript": [
              "\n",
              "    async function download(id, filename, size) {\n",
              "      if (!google.colab.kernel.accessAllowed) {\n",
              "        return;\n",
              "      }\n",
              "      const div = document.createElement('div');\n",
              "      const label = document.createElement('label');\n",
              "      label.textContent = `Downloading \"${filename}\": `;\n",
              "      div.appendChild(label);\n",
              "      const progress = document.createElement('progress');\n",
              "      progress.max = size;\n",
              "      div.appendChild(progress);\n",
              "      document.body.appendChild(div);\n",
              "\n",
              "      const buffers = [];\n",
              "      let downloaded = 0;\n",
              "\n",
              "      const channel = await google.colab.kernel.comms.open(id);\n",
              "      // Send a message to notify the kernel that we're ready.\n",
              "      channel.send({})\n",
              "\n",
              "      for await (const message of channel.messages) {\n",
              "        // Send a message to notify the kernel that we're ready.\n",
              "        channel.send({})\n",
              "        if (message.buffers) {\n",
              "          for (const buffer of message.buffers) {\n",
              "            buffers.push(buffer);\n",
              "            downloaded += buffer.byteLength;\n",
              "            progress.value = downloaded;\n",
              "          }\n",
              "        }\n",
              "      }\n",
              "      const blob = new Blob(buffers, {type: 'application/binary'});\n",
              "      const a = document.createElement('a');\n",
              "      a.href = window.URL.createObjectURL(blob);\n",
              "      a.download = filename;\n",
              "      div.appendChild(a);\n",
              "      a.click();\n",
              "      div.remove();\n",
              "    }\n",
              "  "
            ]
          },
          "metadata": {}
        },
        {
          "output_type": "display_data",
          "data": {
            "text/plain": [
              "<IPython.core.display.Javascript object>"
            ],
            "application/javascript": [
              "download(\"download_275d4889-e891-4e0e-96b0-937a79d0738e\", \"mlruns.zip\", 7192740)"
            ]
          },
          "metadata": {}
        }
      ]
    },
    {
      "cell_type": "code",
      "source": [
        "#Et deposer ce repertoire dans un repertoir a partir duquel tu executes le anaconda prompt, tu fais:\n",
        "mlflow ui \n",
        "#il s execute par defaut sur le port 5000, tu accesses d abord le lien:\n",
        "localhost:5000"
      ],
      "metadata": {
        "id": "QgAHP6Rx4_R8"
      },
      "execution_count": null,
      "outputs": []
    }
  ],
  "metadata": {
    "kernelspec": {
      "display_name": "Python 3",
      "language": "python",
      "name": "python3"
    },
    "language_info": {
      "codemirror_mode": {
        "name": "ipython",
        "version": 3
      },
      "file_extension": ".py",
      "mimetype": "text/x-python",
      "name": "python",
      "nbconvert_exporter": "python",
      "pygments_lexer": "ipython3",
      "version": "3.8.5"
    },
    "colab": {
      "name": "Mlflow_NaivesBayes_Keras.ipynb",
      "provenance": [],
      "include_colab_link": true
    },
    "accelerator": "GPU"
  },
  "nbformat": 4,
  "nbformat_minor": 0
}