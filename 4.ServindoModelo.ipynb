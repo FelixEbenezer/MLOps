{
  "cells": [
    {
      "cell_type": "code",
      "execution_count": null,
      "metadata": {
        "id": "A9W1jLa_9D5f"
      },
      "outputs": [],
      "source": [
        "import requests\n",
        "import pandas as pd"
      ]
    },
    {
      "cell_type": "code",
      "execution_count": null,
      "metadata": {
        "id": "hSc_bZBz9D5k"
      },
      "outputs": [],
      "source": [
        "credito = pd.read_csv(\"Credit.csv\")"
      ]
    },
    {
      "cell_type": "code",
      "execution_count": null,
      "metadata": {
        "id": "hXc_kitl9D5l"
      },
      "outputs": [],
      "source": [
        "for col in credito.columns:\n",
        "    if credito[col].dtype == 'object':\n",
        "        credito[col] = credito[col].astype('category').cat.codes"
      ]
    },
    {
      "cell_type": "code",
      "execution_count": null,
      "metadata": {
        "id": "s5PtMaHG9D5n"
      },
      "outputs": [],
      "source": [
        "dados = credito.iloc[0:10,0:20].to_json(orient='split')"
      ]
    },
    {
      "cell_type": "code",
      "execution_count": null,
      "metadata": {
        "id": "YcdkQXPd9D5o"
      },
      "outputs": [],
      "source": [
        "dados"
      ]
    },
    {
      "cell_type": "code",
      "execution_count": null,
      "metadata": {
        "id": "K7f6-cDD9D5o"
      },
      "outputs": [],
      "source": [
        "previsao = requests.post(url='http://localhost:2345/invocations', \n",
        "                         headers={'Content-Type' : 'application/json' , }, data=dados)"
      ]
    },
    {
      "cell_type": "code",
      "execution_count": null,
      "metadata": {
        "id": "xmUIc6CW9D5p"
      },
      "outputs": [],
      "source": [
        "previsao"
      ]
    },
    {
      "cell_type": "code",
      "execution_count": null,
      "metadata": {
        "id": "VPZB09W19D5q"
      },
      "outputs": [],
      "source": [
        "previsao.text"
      ]
    },
    {
      "cell_type": "code",
      "execution_count": null,
      "metadata": {
        "id": "EqZWgyPC9D5r"
      },
      "outputs": [],
      "source": [
        ""
      ]
    }
  ],
  "metadata": {
    "kernelspec": {
      "display_name": "Python 3",
      "language": "python",
      "name": "python3"
    },
    "language_info": {
      "codemirror_mode": {
        "name": "ipython",
        "version": 3
      },
      "file_extension": ".py",
      "mimetype": "text/x-python",
      "name": "python",
      "nbconvert_exporter": "python",
      "pygments_lexer": "ipython3",
      "version": "3.8.5"
    },
    "colab": {
      "name": "4.ServindoModelo.ipynb",
      "provenance": []
    }
  },
  "nbformat": 4,
  "nbformat_minor": 0
}